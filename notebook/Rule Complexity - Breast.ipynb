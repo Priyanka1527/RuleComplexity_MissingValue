{
 "cells": [
  {
   "cell_type": "code",
   "execution_count": 1,
   "metadata": {},
   "outputs": [],
   "source": [
    "import pandas\n",
    "import itertools\n",
    "import re\n",
    "import matplotlib.pyplot as plt\n",
    "import numpy as np\n",
    "import pandas as pd\n",
    "from scipy import interpolate\n",
    "from scipy.interpolate import interp1d"
   ]
  },
  {
   "cell_type": "code",
   "execution_count": 2,
   "metadata": {},
   "outputs": [],
   "source": [
    "def findRuleComplexity(lines):\n",
    "    rule_count = 0\n",
    "    condition_count = 0\n",
    "    for item in lines:\n",
    "        item = item[1:len(item)-2]\n",
    "        item = item.replace(\", \",\"\\n\")\n",
    "        item = item.split(\"\\n\")\n",
    "\n",
    "        rule_count += len(item)\n",
    "        for rule in item:\n",
    "            left,right = rule.split(\"->\")\n",
    "            conditions = left.split(\"&\")\n",
    "            length = len(conditions)\n",
    "            condition_count += length\n",
    "    return rule_count,condition_count"
   ]
  },
  {
   "cell_type": "markdown",
   "metadata": {},
   "source": [
    "#### Iris_0 !!"
   ]
  },
  {
   "cell_type": "code",
   "execution_count": 3,
   "metadata": {},
   "outputs": [],
   "source": [
    "f1 = open('../data/Breast/Rules/Breast_main.txt', \"r\")\n",
    "\n",
    "\n",
    "data = {}\n",
    "data[\"Lower,\" + \"?\"] = list(f1)\n",
    "data[\"Middle,\" + \"?\"] = data[\"Lower,\" + \"?\"]\n",
    "data[\"Upper,\" + \"?\"] = data[\"Lower,\" + \"?\"]\n",
    "data[\"Lower,\" + \"-\"] = data[\"Lower,\" + \"?\"]\n",
    "data[\"Middle,\" + \"-\"] = data[\"Lower,\" + \"?\"]\n",
    "data[\"Upper,\" + \"-\"] = data[\"Lower,\" + \"?\"]"
   ]
  },
  {
   "cell_type": "code",
   "execution_count": 4,
   "metadata": {},
   "outputs": [],
   "source": [
    "Iris_0 = {}\n",
    "for key, value in data.items():\n",
    "    rule,condition = findRuleComplexity(value)\n",
    "#     RC = rule + 15\n",
    "#     CC = condition + 50\n",
    "    \n",
    "#     Iris_0[key] = [RC]\n",
    "#     Iris_0[key].append(CC)\n",
    "    Iris_0[key] = [rule]\n",
    "    Iris_0[key].append(condition)"
   ]
  },
  {
   "cell_type": "markdown",
   "metadata": {},
   "source": [
    "#### Iris_5 !!"
   ]
  },
  {
   "cell_type": "code",
   "execution_count": 5,
   "metadata": {},
   "outputs": [],
   "source": [
    "f1 = open('../data/Breast/Rules/Breast_5_lost_lower.txt', \"r\")\n",
    "f2 = open('../data/Breast/Rules/Breast_5_lost_middle.txt', \"r\")\n",
    "f3 = open('../data/Breast/Rules/Breast_5_lost_upper.txt', \"r\")\n",
    "f4 = open('../data/Breast/Rules/Breast_5_attcon_lower.txt', \"r\")\n",
    "f5 = open('../data/Breast/Rules/Breast_5_attcon_middle.txt', \"r\")\n",
    "f6 = open('../data/Breast/Rules/Breast_5_attcon_upper.txt', \"r\")\n",
    "\n",
    "data = {}\n",
    "data[\"Lower,\" + \"?\"] = list(f1)\n",
    "data[\"Middle,\" + \"?\"] = list(f2)\n",
    "data[\"Upper,\" + \"?\"] = list(f3)\n",
    "data[\"Lower,\" + \"-\"] = list(f4)\n",
    "data[\"Middle,\" + \"-\"] = list(f5)\n",
    "data[\"Upper,\" + \"-\"] = list(f6)"
   ]
  },
  {
   "cell_type": "code",
   "execution_count": 6,
   "metadata": {},
   "outputs": [],
   "source": [
    "Iris_5 = {}\n",
    "for key, value in data.items():\n",
    "    rule,condition = findRuleComplexity(value)\n",
    "    Iris_5[key] = [rule]\n",
    "    Iris_5[key].append(condition)"
   ]
  },
  {
   "cell_type": "markdown",
   "metadata": {},
   "source": [
    "#### Iris_10 !!"
   ]
  },
  {
   "cell_type": "code",
   "execution_count": 7,
   "metadata": {},
   "outputs": [],
   "source": [
    "f1 = open('../data/Breast/Rules/Breast_10_lost_lower.txt', \"r\")\n",
    "f2 = open('../data/Breast/Rules/Breast_10_lost_middle.txt', \"r\")\n",
    "f3 = open('../data/Breast/Rules/Breast_10_lost_upper.txt', \"r\")\n",
    "f4 = open('../data/Breast/Rules/Breast_10_attcon_lower.txt', \"r\")\n",
    "f5 = open('../data/Breast/Rules/Breast_10_attcon_middle.txt', \"r\")\n",
    "f6 = open('../data/Breast/Rules/Breast_10_attcon_upper.txt', \"r\")"
   ]
  },
  {
   "cell_type": "code",
   "execution_count": 8,
   "metadata": {},
   "outputs": [],
   "source": [
    "data = {}\n",
    "data[\"Lower,\" + \"?\"] = list(f1)\n",
    "data[\"Middle,\" + \"?\"] = list(f2)\n",
    "data[\"Upper,\" + \"?\"] = list(f3)\n",
    "data[\"Lower,\" + \"-\"] = list(f4)\n",
    "data[\"Middle,\" + \"-\"] = list(f5)\n",
    "data[\"Upper,\" + \"-\"] = list(f6)"
   ]
  },
  {
   "cell_type": "code",
   "execution_count": 9,
   "metadata": {},
   "outputs": [],
   "source": [
    "Iris_10 = {}\n",
    "for key, value in data.items():\n",
    "    rule,condition = findRuleComplexity(value)\n",
    "    Iris_10[key] = [rule]\n",
    "    Iris_10[key].append(condition)"
   ]
  },
  {
   "cell_type": "markdown",
   "metadata": {},
   "source": [
    "#### Iris_15 !!"
   ]
  },
  {
   "cell_type": "code",
   "execution_count": 10,
   "metadata": {},
   "outputs": [],
   "source": [
    "f1 = open('../data/Breast/Rules/Breast_15_lost_lower.txt', \"r\")\n",
    "f2 = open('../data/Breast/Rules/Breast_15_lost_middle.txt', \"r\")\n",
    "f3 = open('../data/Breast/Rules/Breast_15_lost_upper.txt', \"r\")\n",
    "f4 = open('../data/Breast/Rules/Breast_15_attcon_lower.txt', \"r\")\n",
    "f5 = open('../data/Breast/Rules/Breast_15_attcon_middle.txt', \"r\")\n",
    "f6 = open('../data/Breast/Rules/Breast_15_attcon_upper.txt', \"r\")\n",
    "\n",
    "data = {}\n",
    "data[\"Lower,\" + \"?\"] = list(f1)\n",
    "data[\"Middle,\" + \"?\"] = list(f2)\n",
    "data[\"Upper,\" + \"?\"] = list(f3)\n",
    "data[\"Lower,\" + \"-\"] = list(f4)\n",
    "data[\"Middle,\" + \"-\"] = list(f5)\n",
    "data[\"Upper,\" + \"-\"] = list(f6)"
   ]
  },
  {
   "cell_type": "code",
   "execution_count": 11,
   "metadata": {},
   "outputs": [],
   "source": [
    "Iris_15 = {}\n",
    "for key, value in data.items():\n",
    "    rule,condition = findRuleComplexity(value)\n",
    "    Iris_15[key] = [rule]\n",
    "    Iris_15[key].append(condition)"
   ]
  },
  {
   "cell_type": "markdown",
   "metadata": {},
   "source": [
    "#### Iris_20 !!"
   ]
  },
  {
   "cell_type": "code",
   "execution_count": 12,
   "metadata": {},
   "outputs": [],
   "source": [
    "f1 = open('../data/Breast/Rules/Breast_20_lost_lower.txt', \"r\")\n",
    "f2 = open('../data/Breast/Rules/Breast_20_lost_middle.txt', \"r\")\n",
    "f3 = open('../data/Breast/Rules/Breast_20_lost_upper.txt', \"r\")\n",
    "f4 = open('../data/Breast/Rules/Breast_20_attcon_lower.txt', \"r\")\n",
    "f5 = open('../data/Breast/Rules/Breast_20_attcon_middle.txt', \"r\")\n",
    "f6 = open('../data/Breast/Rules/Breast_20_attcon_upper.txt', \"r\")\n",
    "\n",
    "data = {}\n",
    "data[\"Lower,\" + \"?\"] = list(f1)\n",
    "data[\"Middle,\" + \"?\"] = list(f2)\n",
    "data[\"Upper,\" + \"?\"] = list(f3)\n",
    "data[\"Lower,\" + \"-\"] = list(f4)\n",
    "data[\"Middle,\" + \"-\"] = list(f5)\n",
    "data[\"Upper,\" + \"-\"] = list(f6)"
   ]
  },
  {
   "cell_type": "code",
   "execution_count": 13,
   "metadata": {},
   "outputs": [],
   "source": [
    "Iris_20 = {}\n",
    "for key, value in data.items():\n",
    "    rule,condition = findRuleComplexity(value)\n",
    "    Iris_20[key] = [rule]\n",
    "    Iris_20[key].append(condition)"
   ]
  },
  {
   "cell_type": "markdown",
   "metadata": {},
   "source": [
    "#### Iris_25 !!"
   ]
  },
  {
   "cell_type": "code",
   "execution_count": 14,
   "metadata": {},
   "outputs": [],
   "source": [
    "f1 = open('../data/Breast/Rules/Breast_25_lost_lower.txt', \"r\")\n",
    "f2 = open('../data/Breast/Rules/Breast_25_lost_middle.txt', \"r\")\n",
    "f3 = open('../data/Breast/Rules/Breast_25_lost_upper.txt', \"r\")\n",
    "f4 = open('../data/Breast/Rules/Breast_25_attcon_lower.txt', \"r\")\n",
    "f5 = open('../data/Breast/Rules/Breast_25_attcon_middle.txt', \"r\")\n",
    "f6 = open('../data/Breast/Rules/Breast_25_attcon_upper.txt', \"r\")\n",
    "\n",
    "data = {}\n",
    "data[\"Lower,\" + \"?\"] = list(f1)\n",
    "data[\"Middle,\" + \"?\"] = list(f2)\n",
    "data[\"Upper,\" + \"?\"] = list(f3)\n",
    "data[\"Lower,\" + \"-\"] = list(f4)\n",
    "data[\"Middle,\" + \"-\"] = list(f5)\n",
    "data[\"Upper,\" + \"-\"] = list(f6)"
   ]
  },
  {
   "cell_type": "code",
   "execution_count": 15,
   "metadata": {},
   "outputs": [],
   "source": [
    "Iris_25 = {}\n",
    "for key, value in data.items():\n",
    "    rule,condition = findRuleComplexity(value)\n",
    "    Iris_25[key] = [rule]\n",
    "    Iris_25[key].append(condition)"
   ]
  },
  {
   "cell_type": "markdown",
   "metadata": {},
   "source": [
    "#### Iris_30 !!"
   ]
  },
  {
   "cell_type": "code",
   "execution_count": 16,
   "metadata": {},
   "outputs": [],
   "source": [
    "f1 = open('../data/Breast/Rules/Breast_30_lost_lower.txt', \"r\")\n",
    "f2 = open('../data/Breast/Rules/Breast_30_lost_middle.txt', \"r\")\n",
    "f3 = open('../data/Breast/Rules/Breast_30_lost_upper.txt', \"r\")\n",
    "f4 = open('../data/Breast/Rules/Breast_30_attcon_lower.txt', \"r\")\n",
    "f5 = open('../data/Breast/Rules/Breast_30_attcon_middle.txt', \"r\")\n",
    "f6 = open('../data/Breast/Rules/Breast_30_attcon_upper.txt', \"r\")\n",
    "\n",
    "data = {}\n",
    "data[\"Lower,\" + \"?\"] = list(f1)\n",
    "data[\"Middle,\" + \"?\"] = list(f2)\n",
    "data[\"Upper,\" + \"?\"] = list(f3)\n",
    "data[\"Lower,\" + \"-\"] = list(f4)\n",
    "data[\"Middle,\" + \"-\"] = list(f5)\n",
    "data[\"Upper,\" + \"-\"] = list(f6)"
   ]
  },
  {
   "cell_type": "code",
   "execution_count": 17,
   "metadata": {},
   "outputs": [],
   "source": [
    "Iris_30 = {}\n",
    "for key, value in data.items():\n",
    "    rule,condition = findRuleComplexity(value)\n",
    "    Iris_30[key] = [rule]\n",
    "    Iris_30[key].append(condition)"
   ]
  },
  {
   "cell_type": "markdown",
   "metadata": {},
   "source": [
    "#### Iris_35 !!"
   ]
  },
  {
   "cell_type": "code",
   "execution_count": 18,
   "metadata": {},
   "outputs": [],
   "source": [
    "f1 = open('../data/Breast/Rules/Breast_35_lost_lower.txt', \"r\")\n",
    "f2 = open('../data/Breast/Rules/Breast_35_lost_middle.txt', \"r\")\n",
    "f3 = open('../data/Breast/Rules/Breast_35_lost_upper.txt', \"r\")\n",
    "f4 = open('../data/Breast/Rules/Breast_35_attcon_lower.txt', \"r\")\n",
    "f5 = open('../data/Breast/Rules/Breast_35_attcon_middle.txt', \"r\")\n",
    "f6 = open('../data/Breast/Rules/Breast_35_attcon_upper.txt', \"r\")\n",
    "\n",
    "data = {}\n",
    "data[\"Lower,\" + \"?\"] = list(f1)\n",
    "data[\"Middle,\" + \"?\"] = list(f2)\n",
    "data[\"Upper,\" + \"?\"] = list(f3)\n",
    "data[\"Lower,\" + \"-\"] = list(f4)\n",
    "data[\"Middle,\" + \"-\"] = list(f5)\n",
    "data[\"Upper,\" + \"-\"] = list(f6)"
   ]
  },
  {
   "cell_type": "code",
   "execution_count": 19,
   "metadata": {},
   "outputs": [],
   "source": [
    "Iris_35 = {}\n",
    "for key, value in data.items():\n",
    "    rule,condition = findRuleComplexity(value)\n",
    "    Iris_35[key] = [rule]\n",
    "    Iris_35[key].append(condition)"
   ]
  },
  {
   "cell_type": "code",
   "execution_count": 20,
   "metadata": {},
   "outputs": [],
   "source": [
    "f1 = open('../data/Breast/Rules/Breast_40_lost_lower.txt', \"r\")\n",
    "f2 = open('../data/Breast/Rules/Breast_40_lost_middle.txt', \"r\")\n",
    "f3 = open('../data/Breast/Rules/Breast_40_lost_upper.txt', \"r\")\n",
    "f4 = open('../data/Breast/Rules/Breast_40_attcon_lower.txt', \"r\")\n",
    "f5 = open('../data/Breast/Rules/Breast_40_attcon_middle.txt', \"r\")\n",
    "f6 = open('../data/Breast/Rules/Breast_40_attcon_upper.txt', \"r\")\n",
    "\n",
    "data = {}\n",
    "data[\"Lower,\" + \"?\"] = list(f1)\n",
    "data[\"Middle,\" + \"?\"] = list(f2)\n",
    "data[\"Upper,\" + \"?\"] = list(f3)\n",
    "data[\"Lower,\" + \"-\"] = list(f4)\n",
    "data[\"Middle,\" + \"-\"] = list(f5)\n",
    "data[\"Upper,\" + \"-\"] = list(f6)"
   ]
  },
  {
   "cell_type": "code",
   "execution_count": 21,
   "metadata": {},
   "outputs": [],
   "source": [
    "Iris_40 = {}\n",
    "for key, value in data.items():\n",
    "    rule,condition = findRuleComplexity(value)\n",
    "    Iris_40[key] = [rule]\n",
    "    Iris_40[key].append(condition)"
   ]
  },
  {
   "cell_type": "code",
   "execution_count": 22,
   "metadata": {},
   "outputs": [],
   "source": [
    "f1 = open('../data/Breast/Rules/Breast_45_lost_lower.txt', \"r\")\n",
    "f2 = open('../data/Breast/Rules/Breast_45_lost_middle.txt', \"r\")\n",
    "f3 = open('../data/Breast/Rules/Breast_45_lost_upper.txt', \"r\")\n",
    "f4 = open('../data/Breast/Rules/Breast_45_attcon_lower.txt', \"r\")\n",
    "f5 = open('../data/Breast/Rules/Breast_45_attcon_middle.txt', \"r\")\n",
    "f6 = open('../data/Breast/Rules/Breast_45_attcon_upper.txt', \"r\")\n",
    "\n",
    "data = {}\n",
    "data[\"Lower,\" + \"?\"] = list(f1)\n",
    "data[\"Middle,\" + \"?\"] = list(f2)\n",
    "data[\"Upper,\" + \"?\"] = list(f3)\n",
    "data[\"Lower,\" + \"-\"] = list(f4)\n",
    "data[\"Middle,\" + \"-\"] = list(f5)\n",
    "data[\"Upper,\" + \"-\"] = list(f6)"
   ]
  },
  {
   "cell_type": "code",
   "execution_count": 23,
   "metadata": {},
   "outputs": [],
   "source": [
    "Iris_45 = {}\n",
    "for key, value in data.items():\n",
    "    rule,condition = findRuleComplexity(value)\n",
    "    Iris_45[key] = [rule]\n",
    "    Iris_45[key].append(condition)"
   ]
  },
  {
   "cell_type": "markdown",
   "metadata": {},
   "source": [
    "### Print the Results !!"
   ]
  },
  {
   "cell_type": "code",
   "execution_count": 24,
   "metadata": {},
   "outputs": [
    {
     "name": "stdout",
     "output_type": "stream",
     "text": [
      "defaultdict(<class 'list'>, {'Lower,?': [2, 4, 4, 4, 6, 5, 14, 13, 9, 16], 'Middle,?': [2, 4, 4, 4, 4, 5, 9, 12, 8, 13], 'Upper,?': [2, 4, 4, 4, 8, 6, 6, 7, 5, 13], 'Lower,-': [2, 6, 14, 11, 7, 12, 13, 13, 14, 8], 'Middle,-': [2, 9, 15, 15, 15, 11, 12, 7, 10, 8], 'Upper,-': [2, 6, 11, 17, 16, 15, 12, 11, 11, 9]})\n"
     ]
    }
   ],
   "source": [
    "#Rule Count\n",
    "from collections import defaultdict\n",
    "dd = defaultdict(list)\n",
    "\n",
    "for d in (Iris_0, Iris_5, Iris_10, Iris_15, Iris_20, Iris_25, Iris_30, Iris_35, Iris_40, Iris_45): \n",
    "    for key, value in d.items():\n",
    "        dd[key].append(value[0])\n",
    "\n",
    "print(dd)"
   ]
  },
  {
   "cell_type": "code",
   "execution_count": 25,
   "metadata": {},
   "outputs": [
    {
     "name": "stdout",
     "output_type": "stream",
     "text": [
      "defaultdict(<class 'list'>, {'Lower,?': [4, 8, 8, 8, 20, 12, 41, 41, 28, 51], 'Middle,?': [4, 8, 10, 10, 9, 14, 25, 35, 25, 34], 'Upper,?': [4, 8, 9, 9, 27, 15, 14, 23, 15, 37], 'Lower,-': [4, 26, 56, 50, 31, 55, 65, 65, 66, 34], 'Middle,-': [4, 38, 61, 62, 70, 46, 52, 26, 40, 46], 'Upper,-': [4, 26, 41, 69, 60, 60, 38, 29, 29, 21]})\n"
     ]
    }
   ],
   "source": [
    "#Condition Count\n",
    "from collections import defaultdict\n",
    "cc = defaultdict(list)\n",
    "\n",
    "for d in (Iris_0, Iris_5, Iris_10, Iris_15, Iris_20, Iris_25, Iris_30, Iris_35, Iris_40, Iris_45): \n",
    "    for key, value in d.items():\n",
    "        cc[key].append(value[1])\n",
    "\n",
    "print(cc)"
   ]
  },
  {
   "cell_type": "code",
   "execution_count": 26,
   "metadata": {},
   "outputs": [],
   "source": [
    "df = pd.DataFrame.from_dict(dd)\n",
    "df2 = pd.DataFrame.from_dict(cc)"
   ]
  },
  {
   "cell_type": "code",
   "execution_count": 27,
   "metadata": {},
   "outputs": [
    {
     "data": {
      "text/html": [
       "<div>\n",
       "<style scoped>\n",
       "    .dataframe tbody tr th:only-of-type {\n",
       "        vertical-align: middle;\n",
       "    }\n",
       "\n",
       "    .dataframe tbody tr th {\n",
       "        vertical-align: top;\n",
       "    }\n",
       "\n",
       "    .dataframe thead th {\n",
       "        text-align: right;\n",
       "    }\n",
       "</style>\n",
       "<table border=\"1\" class=\"dataframe\">\n",
       "  <thead>\n",
       "    <tr style=\"text-align: right;\">\n",
       "      <th></th>\n",
       "      <th>Lower,?</th>\n",
       "      <th>Middle,?</th>\n",
       "      <th>Upper,?</th>\n",
       "      <th>Lower,-</th>\n",
       "      <th>Middle,-</th>\n",
       "      <th>Upper,-</th>\n",
       "    </tr>\n",
       "  </thead>\n",
       "  <tbody>\n",
       "    <tr>\n",
       "      <th>0</th>\n",
       "      <td>2</td>\n",
       "      <td>2</td>\n",
       "      <td>2</td>\n",
       "      <td>2</td>\n",
       "      <td>2</td>\n",
       "      <td>2</td>\n",
       "    </tr>\n",
       "    <tr>\n",
       "      <th>1</th>\n",
       "      <td>4</td>\n",
       "      <td>4</td>\n",
       "      <td>4</td>\n",
       "      <td>6</td>\n",
       "      <td>9</td>\n",
       "      <td>6</td>\n",
       "    </tr>\n",
       "    <tr>\n",
       "      <th>2</th>\n",
       "      <td>4</td>\n",
       "      <td>4</td>\n",
       "      <td>4</td>\n",
       "      <td>14</td>\n",
       "      <td>15</td>\n",
       "      <td>11</td>\n",
       "    </tr>\n",
       "    <tr>\n",
       "      <th>3</th>\n",
       "      <td>4</td>\n",
       "      <td>4</td>\n",
       "      <td>4</td>\n",
       "      <td>11</td>\n",
       "      <td>15</td>\n",
       "      <td>17</td>\n",
       "    </tr>\n",
       "    <tr>\n",
       "      <th>4</th>\n",
       "      <td>6</td>\n",
       "      <td>4</td>\n",
       "      <td>8</td>\n",
       "      <td>7</td>\n",
       "      <td>15</td>\n",
       "      <td>16</td>\n",
       "    </tr>\n",
       "    <tr>\n",
       "      <th>5</th>\n",
       "      <td>5</td>\n",
       "      <td>5</td>\n",
       "      <td>6</td>\n",
       "      <td>12</td>\n",
       "      <td>11</td>\n",
       "      <td>15</td>\n",
       "    </tr>\n",
       "    <tr>\n",
       "      <th>6</th>\n",
       "      <td>14</td>\n",
       "      <td>9</td>\n",
       "      <td>6</td>\n",
       "      <td>13</td>\n",
       "      <td>12</td>\n",
       "      <td>12</td>\n",
       "    </tr>\n",
       "    <tr>\n",
       "      <th>7</th>\n",
       "      <td>13</td>\n",
       "      <td>12</td>\n",
       "      <td>7</td>\n",
       "      <td>13</td>\n",
       "      <td>7</td>\n",
       "      <td>11</td>\n",
       "    </tr>\n",
       "    <tr>\n",
       "      <th>8</th>\n",
       "      <td>9</td>\n",
       "      <td>8</td>\n",
       "      <td>5</td>\n",
       "      <td>14</td>\n",
       "      <td>10</td>\n",
       "      <td>11</td>\n",
       "    </tr>\n",
       "    <tr>\n",
       "      <th>9</th>\n",
       "      <td>16</td>\n",
       "      <td>13</td>\n",
       "      <td>13</td>\n",
       "      <td>8</td>\n",
       "      <td>8</td>\n",
       "      <td>9</td>\n",
       "    </tr>\n",
       "  </tbody>\n",
       "</table>\n",
       "</div>"
      ],
      "text/plain": [
       "   Lower,?  Middle,?  Upper,?  Lower,-  Middle,-  Upper,-\n",
       "0        2         2        2        2         2        2\n",
       "1        4         4        4        6         9        6\n",
       "2        4         4        4       14        15       11\n",
       "3        4         4        4       11        15       17\n",
       "4        6         4        8        7        15       16\n",
       "5        5         5        6       12        11       15\n",
       "6       14         9        6       13        12       12\n",
       "7       13        12        7       13         7       11\n",
       "8        9         8        5       14        10       11\n",
       "9       16        13       13        8         8        9"
      ]
     },
     "execution_count": 27,
     "metadata": {},
     "output_type": "execute_result"
    }
   ],
   "source": [
    "df"
   ]
  },
  {
   "cell_type": "code",
   "execution_count": 28,
   "metadata": {},
   "outputs": [
    {
     "data": {
      "text/html": [
       "<div>\n",
       "<style scoped>\n",
       "    .dataframe tbody tr th:only-of-type {\n",
       "        vertical-align: middle;\n",
       "    }\n",
       "\n",
       "    .dataframe tbody tr th {\n",
       "        vertical-align: top;\n",
       "    }\n",
       "\n",
       "    .dataframe thead th {\n",
       "        text-align: right;\n",
       "    }\n",
       "</style>\n",
       "<table border=\"1\" class=\"dataframe\">\n",
       "  <thead>\n",
       "    <tr style=\"text-align: right;\">\n",
       "      <th></th>\n",
       "      <th>Lower,?</th>\n",
       "      <th>Middle,?</th>\n",
       "      <th>Upper,?</th>\n",
       "      <th>Lower,-</th>\n",
       "      <th>Middle,-</th>\n",
       "      <th>Upper,-</th>\n",
       "    </tr>\n",
       "  </thead>\n",
       "  <tbody>\n",
       "    <tr>\n",
       "      <th>0</th>\n",
       "      <td>4</td>\n",
       "      <td>4</td>\n",
       "      <td>4</td>\n",
       "      <td>4</td>\n",
       "      <td>4</td>\n",
       "      <td>4</td>\n",
       "    </tr>\n",
       "    <tr>\n",
       "      <th>1</th>\n",
       "      <td>8</td>\n",
       "      <td>8</td>\n",
       "      <td>8</td>\n",
       "      <td>26</td>\n",
       "      <td>38</td>\n",
       "      <td>26</td>\n",
       "    </tr>\n",
       "    <tr>\n",
       "      <th>2</th>\n",
       "      <td>8</td>\n",
       "      <td>10</td>\n",
       "      <td>9</td>\n",
       "      <td>56</td>\n",
       "      <td>61</td>\n",
       "      <td>41</td>\n",
       "    </tr>\n",
       "    <tr>\n",
       "      <th>3</th>\n",
       "      <td>8</td>\n",
       "      <td>10</td>\n",
       "      <td>9</td>\n",
       "      <td>50</td>\n",
       "      <td>62</td>\n",
       "      <td>69</td>\n",
       "    </tr>\n",
       "    <tr>\n",
       "      <th>4</th>\n",
       "      <td>20</td>\n",
       "      <td>9</td>\n",
       "      <td>27</td>\n",
       "      <td>31</td>\n",
       "      <td>70</td>\n",
       "      <td>60</td>\n",
       "    </tr>\n",
       "    <tr>\n",
       "      <th>5</th>\n",
       "      <td>12</td>\n",
       "      <td>14</td>\n",
       "      <td>15</td>\n",
       "      <td>55</td>\n",
       "      <td>46</td>\n",
       "      <td>60</td>\n",
       "    </tr>\n",
       "    <tr>\n",
       "      <th>6</th>\n",
       "      <td>41</td>\n",
       "      <td>25</td>\n",
       "      <td>14</td>\n",
       "      <td>65</td>\n",
       "      <td>52</td>\n",
       "      <td>38</td>\n",
       "    </tr>\n",
       "    <tr>\n",
       "      <th>7</th>\n",
       "      <td>41</td>\n",
       "      <td>35</td>\n",
       "      <td>23</td>\n",
       "      <td>65</td>\n",
       "      <td>26</td>\n",
       "      <td>29</td>\n",
       "    </tr>\n",
       "    <tr>\n",
       "      <th>8</th>\n",
       "      <td>28</td>\n",
       "      <td>25</td>\n",
       "      <td>15</td>\n",
       "      <td>66</td>\n",
       "      <td>40</td>\n",
       "      <td>29</td>\n",
       "    </tr>\n",
       "    <tr>\n",
       "      <th>9</th>\n",
       "      <td>51</td>\n",
       "      <td>34</td>\n",
       "      <td>37</td>\n",
       "      <td>34</td>\n",
       "      <td>46</td>\n",
       "      <td>21</td>\n",
       "    </tr>\n",
       "  </tbody>\n",
       "</table>\n",
       "</div>"
      ],
      "text/plain": [
       "   Lower,?  Middle,?  Upper,?  Lower,-  Middle,-  Upper,-\n",
       "0        4         4        4        4         4        4\n",
       "1        8         8        8       26        38       26\n",
       "2        8        10        9       56        61       41\n",
       "3        8        10        9       50        62       69\n",
       "4       20         9       27       31        70       60\n",
       "5       12        14       15       55        46       60\n",
       "6       41        25       14       65        52       38\n",
       "7       41        35       23       65        26       29\n",
       "8       28        25       15       66        40       29\n",
       "9       51        34       37       34        46       21"
      ]
     },
     "execution_count": 28,
     "metadata": {},
     "output_type": "execute_result"
    }
   ],
   "source": [
    "df2"
   ]
  },
  {
   "cell_type": "markdown",
   "metadata": {},
   "source": [
    "### Plotting Begins !!"
   ]
  },
  {
   "cell_type": "code",
   "execution_count": 29,
   "metadata": {},
   "outputs": [
    {
     "data": {
      "text/plain": [
       "array([ 0,  5, 10, 15, 20, 25, 30, 35, 40, 45])"
      ]
     },
     "execution_count": 29,
     "metadata": {},
     "output_type": "execute_result"
    }
   ],
   "source": [
    "x = np.arange(0, 50, 5)\n",
    "x"
   ]
  },
  {
   "cell_type": "code",
   "execution_count": 30,
   "metadata": {},
   "outputs": [],
   "source": [
    "df['x'] = x\n",
    "df2['x'] = x"
   ]
  },
  {
   "cell_type": "code",
   "execution_count": 31,
   "metadata": {},
   "outputs": [
    {
     "data": {
      "text/html": [
       "<div>\n",
       "<style scoped>\n",
       "    .dataframe tbody tr th:only-of-type {\n",
       "        vertical-align: middle;\n",
       "    }\n",
       "\n",
       "    .dataframe tbody tr th {\n",
       "        vertical-align: top;\n",
       "    }\n",
       "\n",
       "    .dataframe thead th {\n",
       "        text-align: right;\n",
       "    }\n",
       "</style>\n",
       "<table border=\"1\" class=\"dataframe\">\n",
       "  <thead>\n",
       "    <tr style=\"text-align: right;\">\n",
       "      <th></th>\n",
       "      <th>Lower,?</th>\n",
       "      <th>Middle,?</th>\n",
       "      <th>Upper,?</th>\n",
       "      <th>Lower,-</th>\n",
       "      <th>Middle,-</th>\n",
       "      <th>Upper,-</th>\n",
       "      <th>x</th>\n",
       "    </tr>\n",
       "  </thead>\n",
       "  <tbody>\n",
       "    <tr>\n",
       "      <th>0</th>\n",
       "      <td>2</td>\n",
       "      <td>2</td>\n",
       "      <td>2</td>\n",
       "      <td>2</td>\n",
       "      <td>2</td>\n",
       "      <td>2</td>\n",
       "      <td>0</td>\n",
       "    </tr>\n",
       "    <tr>\n",
       "      <th>1</th>\n",
       "      <td>4</td>\n",
       "      <td>4</td>\n",
       "      <td>4</td>\n",
       "      <td>6</td>\n",
       "      <td>9</td>\n",
       "      <td>6</td>\n",
       "      <td>5</td>\n",
       "    </tr>\n",
       "    <tr>\n",
       "      <th>2</th>\n",
       "      <td>4</td>\n",
       "      <td>4</td>\n",
       "      <td>4</td>\n",
       "      <td>14</td>\n",
       "      <td>15</td>\n",
       "      <td>11</td>\n",
       "      <td>10</td>\n",
       "    </tr>\n",
       "    <tr>\n",
       "      <th>3</th>\n",
       "      <td>4</td>\n",
       "      <td>4</td>\n",
       "      <td>4</td>\n",
       "      <td>11</td>\n",
       "      <td>15</td>\n",
       "      <td>17</td>\n",
       "      <td>15</td>\n",
       "    </tr>\n",
       "    <tr>\n",
       "      <th>4</th>\n",
       "      <td>6</td>\n",
       "      <td>4</td>\n",
       "      <td>8</td>\n",
       "      <td>7</td>\n",
       "      <td>15</td>\n",
       "      <td>16</td>\n",
       "      <td>20</td>\n",
       "    </tr>\n",
       "    <tr>\n",
       "      <th>5</th>\n",
       "      <td>5</td>\n",
       "      <td>5</td>\n",
       "      <td>6</td>\n",
       "      <td>12</td>\n",
       "      <td>11</td>\n",
       "      <td>15</td>\n",
       "      <td>25</td>\n",
       "    </tr>\n",
       "    <tr>\n",
       "      <th>6</th>\n",
       "      <td>14</td>\n",
       "      <td>9</td>\n",
       "      <td>6</td>\n",
       "      <td>13</td>\n",
       "      <td>12</td>\n",
       "      <td>12</td>\n",
       "      <td>30</td>\n",
       "    </tr>\n",
       "    <tr>\n",
       "      <th>7</th>\n",
       "      <td>13</td>\n",
       "      <td>12</td>\n",
       "      <td>7</td>\n",
       "      <td>13</td>\n",
       "      <td>7</td>\n",
       "      <td>11</td>\n",
       "      <td>35</td>\n",
       "    </tr>\n",
       "    <tr>\n",
       "      <th>8</th>\n",
       "      <td>9</td>\n",
       "      <td>8</td>\n",
       "      <td>5</td>\n",
       "      <td>14</td>\n",
       "      <td>10</td>\n",
       "      <td>11</td>\n",
       "      <td>40</td>\n",
       "    </tr>\n",
       "    <tr>\n",
       "      <th>9</th>\n",
       "      <td>16</td>\n",
       "      <td>13</td>\n",
       "      <td>13</td>\n",
       "      <td>8</td>\n",
       "      <td>8</td>\n",
       "      <td>9</td>\n",
       "      <td>45</td>\n",
       "    </tr>\n",
       "  </tbody>\n",
       "</table>\n",
       "</div>"
      ],
      "text/plain": [
       "   Lower,?  Middle,?  Upper,?  Lower,-  Middle,-  Upper,-   x\n",
       "0        2         2        2        2         2        2   0\n",
       "1        4         4        4        6         9        6   5\n",
       "2        4         4        4       14        15       11  10\n",
       "3        4         4        4       11        15       17  15\n",
       "4        6         4        8        7        15       16  20\n",
       "5        5         5        6       12        11       15  25\n",
       "6       14         9        6       13        12       12  30\n",
       "7       13        12        7       13         7       11  35\n",
       "8        9         8        5       14        10       11  40\n",
       "9       16        13       13        8         8        9  45"
      ]
     },
     "execution_count": 31,
     "metadata": {},
     "output_type": "execute_result"
    }
   ],
   "source": [
    "df"
   ]
  },
  {
   "cell_type": "code",
   "execution_count": 32,
   "metadata": {},
   "outputs": [
    {
     "data": {
      "text/html": [
       "<div>\n",
       "<style scoped>\n",
       "    .dataframe tbody tr th:only-of-type {\n",
       "        vertical-align: middle;\n",
       "    }\n",
       "\n",
       "    .dataframe tbody tr th {\n",
       "        vertical-align: top;\n",
       "    }\n",
       "\n",
       "    .dataframe thead th {\n",
       "        text-align: right;\n",
       "    }\n",
       "</style>\n",
       "<table border=\"1\" class=\"dataframe\">\n",
       "  <thead>\n",
       "    <tr style=\"text-align: right;\">\n",
       "      <th></th>\n",
       "      <th>Lower,?</th>\n",
       "      <th>Middle,?</th>\n",
       "      <th>Upper,?</th>\n",
       "      <th>Lower,-</th>\n",
       "      <th>Middle,-</th>\n",
       "      <th>Upper,-</th>\n",
       "      <th>x</th>\n",
       "    </tr>\n",
       "  </thead>\n",
       "  <tbody>\n",
       "    <tr>\n",
       "      <th>0</th>\n",
       "      <td>4</td>\n",
       "      <td>4</td>\n",
       "      <td>4</td>\n",
       "      <td>4</td>\n",
       "      <td>4</td>\n",
       "      <td>4</td>\n",
       "      <td>0</td>\n",
       "    </tr>\n",
       "    <tr>\n",
       "      <th>1</th>\n",
       "      <td>8</td>\n",
       "      <td>8</td>\n",
       "      <td>8</td>\n",
       "      <td>26</td>\n",
       "      <td>38</td>\n",
       "      <td>26</td>\n",
       "      <td>5</td>\n",
       "    </tr>\n",
       "    <tr>\n",
       "      <th>2</th>\n",
       "      <td>8</td>\n",
       "      <td>10</td>\n",
       "      <td>9</td>\n",
       "      <td>56</td>\n",
       "      <td>61</td>\n",
       "      <td>41</td>\n",
       "      <td>10</td>\n",
       "    </tr>\n",
       "    <tr>\n",
       "      <th>3</th>\n",
       "      <td>8</td>\n",
       "      <td>10</td>\n",
       "      <td>9</td>\n",
       "      <td>50</td>\n",
       "      <td>62</td>\n",
       "      <td>69</td>\n",
       "      <td>15</td>\n",
       "    </tr>\n",
       "    <tr>\n",
       "      <th>4</th>\n",
       "      <td>20</td>\n",
       "      <td>9</td>\n",
       "      <td>27</td>\n",
       "      <td>31</td>\n",
       "      <td>70</td>\n",
       "      <td>60</td>\n",
       "      <td>20</td>\n",
       "    </tr>\n",
       "    <tr>\n",
       "      <th>5</th>\n",
       "      <td>12</td>\n",
       "      <td>14</td>\n",
       "      <td>15</td>\n",
       "      <td>55</td>\n",
       "      <td>46</td>\n",
       "      <td>60</td>\n",
       "      <td>25</td>\n",
       "    </tr>\n",
       "    <tr>\n",
       "      <th>6</th>\n",
       "      <td>41</td>\n",
       "      <td>25</td>\n",
       "      <td>14</td>\n",
       "      <td>65</td>\n",
       "      <td>52</td>\n",
       "      <td>38</td>\n",
       "      <td>30</td>\n",
       "    </tr>\n",
       "    <tr>\n",
       "      <th>7</th>\n",
       "      <td>41</td>\n",
       "      <td>35</td>\n",
       "      <td>23</td>\n",
       "      <td>65</td>\n",
       "      <td>26</td>\n",
       "      <td>29</td>\n",
       "      <td>35</td>\n",
       "    </tr>\n",
       "    <tr>\n",
       "      <th>8</th>\n",
       "      <td>28</td>\n",
       "      <td>25</td>\n",
       "      <td>15</td>\n",
       "      <td>66</td>\n",
       "      <td>40</td>\n",
       "      <td>29</td>\n",
       "      <td>40</td>\n",
       "    </tr>\n",
       "    <tr>\n",
       "      <th>9</th>\n",
       "      <td>51</td>\n",
       "      <td>34</td>\n",
       "      <td>37</td>\n",
       "      <td>34</td>\n",
       "      <td>46</td>\n",
       "      <td>21</td>\n",
       "      <td>45</td>\n",
       "    </tr>\n",
       "  </tbody>\n",
       "</table>\n",
       "</div>"
      ],
      "text/plain": [
       "   Lower,?  Middle,?  Upper,?  Lower,-  Middle,-  Upper,-   x\n",
       "0        4         4        4        4         4        4   0\n",
       "1        8         8        8       26        38       26   5\n",
       "2        8        10        9       56        61       41  10\n",
       "3        8        10        9       50        62       69  15\n",
       "4       20         9       27       31        70       60  20\n",
       "5       12        14       15       55        46       60  25\n",
       "6       41        25       14       65        52       38  30\n",
       "7       41        35       23       65        26       29  35\n",
       "8       28        25       15       66        40       29  40\n",
       "9       51        34       37       34        46       21  45"
      ]
     },
     "execution_count": 32,
     "metadata": {},
     "output_type": "execute_result"
    }
   ],
   "source": [
    "df2"
   ]
  },
  {
   "cell_type": "markdown",
   "metadata": {},
   "source": [
    "### Rule Count !!"
   ]
  },
  {
   "cell_type": "code",
   "execution_count": 33,
   "metadata": {},
   "outputs": [
    {
     "data": {
      "image/png": "[encoded data removed]",
      "text/plain": [
       "<Figure size 720x360 with 1 Axes>"
      ]
     },
     "metadata": {
      "needs_background": "light"
     },
     "output_type": "display_data"
    }
   ],
   "source": [
    "from scipy.interpolate import splrep, splev\n",
    "ax = plt.gca()\n",
    "ax.grid(True)\n",
    "plt.gcf().set_size_inches(10, 5)\n",
    "\n",
    "tck1 = splrep(df['x'], df['Lower,?'])\n",
    "xnew1 = np.linspace(0, 45)\n",
    "ynew1 = splev(xnew1, tck1)\n",
    "plt.plot(xnew1, ynew1)\n",
    "\n",
    "tck2 = splrep(df['x'], df['Middle,?'])\n",
    "xnew2 = np.linspace(0, 45)\n",
    "ynew2 = splev(xnew2, tck2)\n",
    "plt.plot(xnew2, ynew2)\n",
    "\n",
    "tck3 = splrep(df['x'], df['Upper,?'])\n",
    "xnew3 = np.linspace(0, 45)\n",
    "ynew3 = splev(xnew3, tck3)\n",
    "plt.plot(xnew3, ynew3)\n",
    "\n",
    "tck4 = splrep(df['x'], df['Lower,-'])\n",
    "xnew4 = np.linspace(0, 45)\n",
    "ynew4 = splev(xnew4, tck4)\n",
    "plt.plot(xnew4, ynew4)\n",
    "\n",
    "tck5 = splrep(df['x'], df['Middle,-'])\n",
    "xnew5 = np.linspace(0, 45)\n",
    "ynew5 = splev(xnew5, tck5)\n",
    "plt.plot(xnew5, ynew5)\n",
    "\n",
    "tck6 = splrep(df['x'], df['Upper,-'])\n",
    "xnew6 = np.linspace(0, 45)\n",
    "ynew6 = splev(xnew6, tck6)\n",
    "plt.plot(xnew6, ynew6)\n",
    "\n",
    "plt.title(\"Breast Cancer\", fontsize=15)\n",
    "plt.xlabel('Missing Attributes (%)', fontsize=15)\n",
    "plt.ylabel('Rule Count', fontsize=15)\n",
    "plt.plot(df['x'], df['Lower,?'], 'o', color='blue', markerfacecolor='blue')\n",
    "plt.plot(df['x'], df['Middle,?'], 's', color='red', markerfacecolor='red')\n",
    "plt.plot(df['x'], df['Upper,?'], '^', color='green', markerfacecolor='green')\n",
    "plt.plot(df['x'], df['Lower,-'], 'x', color='magenta', markerfacecolor='magenta')\n",
    "plt.plot(df['x'], df['Middle,-'], 'D', color='aqua', markerfacecolor='aqua')\n",
    "plt.plot(df['x'], df['Upper,-'], 'P', color='orange', markerfacecolor='orange')\n",
    "plt.legend()\n",
    "plt.savefig('../Results/Breast-RuleCount.png')"
   ]
  },
  {
   "cell_type": "markdown",
   "metadata": {},
   "source": [
    "### No. of Conditions !!"
   ]
  },
  {
   "cell_type": "code",
   "execution_count": 34,
   "metadata": {},
   "outputs": [
    {
     "data": {
      "image/png": "[encoded data removed]",
      "text/plain": [
       "<Figure size 720x360 with 1 Axes>"
      ]
     },
     "metadata": {
      "needs_background": "light"
     },
     "output_type": "display_data"
    }
   ],
   "source": [
    "from scipy.interpolate import splrep, splev\n",
    "ax = plt.gca()\n",
    "ax.grid(True)\n",
    "plt.gcf().set_size_inches(10, 5)\n",
    "\n",
    "tck1 = splrep(df2['x'], df2['Lower,?'])\n",
    "xnew1 = np.linspace(0, 45)\n",
    "ynew1 = splev(xnew1, tck1)\n",
    "plt.plot(xnew1, ynew1)\n",
    "\n",
    "tck2 = splrep(df2['x'], df2['Middle,?'])\n",
    "xnew2 = np.linspace(0, 45)\n",
    "ynew2 = splev(xnew2, tck2)\n",
    "plt.plot(xnew2, ynew2)\n",
    "\n",
    "tck3 = splrep(df2['x'], df2['Upper,?'])\n",
    "xnew3 = np.linspace(0, 45)\n",
    "ynew3 = splev(xnew3, tck3)\n",
    "plt.plot(xnew3, ynew3)\n",
    "\n",
    "tck4 = splrep(df2['x'], df2['Lower,-'])\n",
    "xnew4 = np.linspace(0, 45)\n",
    "ynew4 = splev(xnew4, tck4)\n",
    "plt.plot(xnew4, ynew4)\n",
    "\n",
    "tck5 = splrep(df2['x'], df2['Middle,-'])\n",
    "xnew5 = np.linspace(0, 45)\n",
    "ynew5 = splev(xnew5, tck5)\n",
    "plt.plot(xnew5, ynew5)\n",
    "\n",
    "tck6 = splrep(df2['x'], df2['Upper,-'])\n",
    "xnew6 = np.linspace(0, 45)\n",
    "ynew6 = splev(xnew6, tck6)\n",
    "plt.plot(xnew6, ynew6)\n",
    "\n",
    "plt.title(\"Breast Cancer\", fontsize=15)\n",
    "plt.xlabel('Missing Attributes (%)', fontsize=15)\n",
    "plt.ylabel('Condition Count', fontsize=15)\n",
    "plt.plot(df2['x'], df2['Lower,?'], 'o', color='blue', markerfacecolor='blue')\n",
    "plt.plot(df2['x'], df2['Middle,?'], 's', color='red', markerfacecolor='red')\n",
    "plt.plot(df2['x'], df2['Upper,?'], '^', color='green', markerfacecolor='green')\n",
    "plt.plot(df2['x'], df2['Lower,-'], 'x', color='magenta', markerfacecolor='magenta')\n",
    "plt.plot(df2['x'], df2['Middle,-'], 'D', color='aqua', markerfacecolor='aqua')\n",
    "plt.plot(df2['x'], df2['Upper,-'], 'P', color='orange', markerfacecolor='orange')\n",
    "plt.legend()\n",
    "plt.savefig('../Results/Breast-ConditionCount.png')"
   ]
  },
  {
   "cell_type": "code",
   "execution_count": null,
   "metadata": {},
   "outputs": [],
   "source": []
  }
 ],
 "metadata": {
  "kernelspec": {
   "display_name": "Python 3",
   "language": "python",
   "name": "python3"
  },
  "language_info": {
   "codemirror_mode": {
    "name": "ipython",
    "version": 3
   },
   "file_extension": ".py",
   "mimetype": "text/x-python",
   "name": "python",
   "nbconvert_exporter": "python",
   "pygments_lexer": "ipython3",
   "version": "3.6.6"
  }
 },
 "nbformat": 4,
 "nbformat_minor": 2
}
