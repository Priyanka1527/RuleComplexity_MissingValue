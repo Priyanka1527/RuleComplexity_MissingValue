{
 "cells": [
  {
   "cell_type": "markdown",
   "metadata": {},
   "source": [
    "# MLEM2 Algorithm"
   ]
  },
  {
   "cell_type": "code",
   "execution_count": 1,
   "metadata": {},
   "outputs": [],
   "source": [
    "import time\n",
    "import pandas as pd\n",
    "import numpy as np\n",
    "from pandas.api.types import is_numeric_dtype\n",
    "from itertools import groupby"
   ]
  },
  {
   "cell_type": "code",
   "execution_count": 2,
   "metadata": {},
   "outputs": [],
   "source": [
    "df = pd.read_csv('../data/trip_data.csv')\n",
    "# df = pd.read_csv('../data/Echocardiogram.csv')"
   ]
  },
  {
   "cell_type": "code",
   "execution_count": 3,
   "metadata": {},
   "outputs": [],
   "source": [
    "df = df.drop(['Case'],axis=1)"
   ]
  },
  {
   "cell_type": "code",
   "execution_count": 4,
   "metadata": {},
   "outputs": [
    {
     "data": {
      "text/html": [
       "<div>\n",
       "<style scoped>\n",
       "    .dataframe tbody tr th:only-of-type {\n",
       "        vertical-align: middle;\n",
       "    }\n",
       "\n",
       "    .dataframe tbody tr th {\n",
       "        vertical-align: top;\n",
       "    }\n",
       "\n",
       "    .dataframe thead th {\n",
       "        text-align: right;\n",
       "    }\n",
       "</style>\n",
       "<table border=\"1\" class=\"dataframe\">\n",
       "  <thead>\n",
       "    <tr style=\"text-align: right;\">\n",
       "      <th></th>\n",
       "      <th>Wind</th>\n",
       "      <th>Humidity</th>\n",
       "      <th>Temperature</th>\n",
       "      <th>Trip</th>\n",
       "    </tr>\n",
       "  </thead>\n",
       "  <tbody>\n",
       "    <tr>\n",
       "      <th>0</th>\n",
       "      <td>4</td>\n",
       "      <td>low</td>\n",
       "      <td>medium</td>\n",
       "      <td>yes</td>\n",
       "    </tr>\n",
       "    <tr>\n",
       "      <th>1</th>\n",
       "      <td>8</td>\n",
       "      <td>low</td>\n",
       "      <td>low</td>\n",
       "      <td>yes</td>\n",
       "    </tr>\n",
       "    <tr>\n",
       "      <th>2</th>\n",
       "      <td>4</td>\n",
       "      <td>medium</td>\n",
       "      <td>medium</td>\n",
       "      <td>yes</td>\n",
       "    </tr>\n",
       "    <tr>\n",
       "      <th>3</th>\n",
       "      <td>8</td>\n",
       "      <td>medium</td>\n",
       "      <td>high</td>\n",
       "      <td>maybe</td>\n",
       "    </tr>\n",
       "    <tr>\n",
       "      <th>4</th>\n",
       "      <td>12</td>\n",
       "      <td>low</td>\n",
       "      <td>medium</td>\n",
       "      <td>maybe</td>\n",
       "    </tr>\n",
       "    <tr>\n",
       "      <th>5</th>\n",
       "      <td>16</td>\n",
       "      <td>high</td>\n",
       "      <td>low</td>\n",
       "      <td>no</td>\n",
       "    </tr>\n",
       "    <tr>\n",
       "      <th>6</th>\n",
       "      <td>30</td>\n",
       "      <td>high</td>\n",
       "      <td>high</td>\n",
       "      <td>no</td>\n",
       "    </tr>\n",
       "    <tr>\n",
       "      <th>7</th>\n",
       "      <td>12</td>\n",
       "      <td>high</td>\n",
       "      <td>high</td>\n",
       "      <td>no</td>\n",
       "    </tr>\n",
       "  </tbody>\n",
       "</table>\n",
       "</div>"
      ],
      "text/plain": [
       "   Wind Humidity Temperature   Trip\n",
       "0     4      low      medium    yes\n",
       "1     8      low         low    yes\n",
       "2     4   medium      medium    yes\n",
       "3     8   medium        high  maybe\n",
       "4    12      low      medium  maybe\n",
       "5    16     high         low     no\n",
       "6    30     high        high     no\n",
       "7    12     high        high     no"
      ]
     },
     "execution_count": 4,
     "metadata": {},
     "output_type": "execute_result"
    }
   ],
   "source": [
    "df"
   ]
  },
  {
   "cell_type": "markdown",
   "metadata": {},
   "source": [
    "#### --------------------------Defining Goals--------------------------"
   ]
  },
  {
   "cell_type": "code",
   "execution_count": 5,
   "metadata": {},
   "outputs": [
    {
     "data": {
      "text/plain": [
       "'Trip'"
      ]
     },
     "execution_count": 5,
     "metadata": {},
     "output_type": "execute_result"
    }
   ],
   "source": [
    "df_headers = list(df)\n",
    "concept = df_headers[-1]\n",
    "concept"
   ]
  },
  {
   "cell_type": "code",
   "execution_count": 6,
   "metadata": {},
   "outputs": [
    {
     "data": {
      "text/plain": [
       "array(['yes', 'maybe', 'no'], dtype=object)"
      ]
     },
     "execution_count": 6,
     "metadata": {},
     "output_type": "execute_result"
    }
   ],
   "source": [
    "#all unique concepts\n",
    "concept_list = df[concept].unique()\n",
    "concept_list"
   ]
  },
  {
   "cell_type": "code",
   "execution_count": 7,
   "metadata": {},
   "outputs": [],
   "source": [
    "#calculating cases by concepts and making sets\n",
    "temp_list = []\n",
    "goal_list = []\n",
    "for item in concept_list:\n",
    "    for index, row in df.iterrows():\n",
    "        if row[concept] == item:\n",
    "            temp_list.append(index+1)\n",
    "    goal_list.append(temp_list)\n",
    "    temp_list = []"
   ]
  },
  {
   "cell_type": "code",
   "execution_count": 8,
   "metadata": {},
   "outputs": [
    {
     "data": {
      "text/plain": [
       "[[1, 2, 3], [4, 5], [6, 7, 8]]"
      ]
     },
     "execution_count": 8,
     "metadata": {},
     "output_type": "execute_result"
    }
   ],
   "source": [
    "goal_list"
   ]
  },
  {
   "cell_type": "markdown",
   "metadata": {},
   "source": [
    "#### -------------------Finding numeric column---------------------"
   ]
  },
  {
   "cell_type": "code",
   "execution_count": 9,
   "metadata": {},
   "outputs": [],
   "source": [
    "# numeric_col = df.dtypes[df.dtypes != \"object\"].index[0]\n",
    "numeric_col = df.select_dtypes(include=[np.number]).columns.tolist()"
   ]
  },
  {
   "cell_type": "code",
   "execution_count": 10,
   "metadata": {},
   "outputs": [
    {
     "data": {
      "text/plain": [
       "['Wind']"
      ]
     },
     "execution_count": 10,
     "metadata": {},
     "output_type": "execute_result"
    }
   ],
   "source": [
    "numeric_col"
   ]
  },
  {
   "cell_type": "code",
   "execution_count": 11,
   "metadata": {},
   "outputs": [
    {
     "data": {
      "text/plain": [
       "1"
      ]
     },
     "execution_count": 11,
     "metadata": {},
     "output_type": "execute_result"
    }
   ],
   "source": [
    "len(numeric_col)"
   ]
  },
  {
   "cell_type": "markdown",
   "metadata": {},
   "source": [
    "### Discretization of Numeric Attributes !!"
   ]
  },
  {
   "cell_type": "code",
   "execution_count": 12,
   "metadata": {},
   "outputs": [],
   "source": [
    "case_list = []"
   ]
  },
  {
   "cell_type": "code",
   "execution_count": 13,
   "metadata": {},
   "outputs": [],
   "source": [
    "def discretize(numeric_col):\n",
    "    \n",
    "    #Sorting the values of numeric column\n",
    "    sort_col = df[numeric_col].sort_values()\n",
    "    df['sort_col'] = sort_col.values\n",
    "    point_list = df['sort_col'].unique()\n",
    "    \n",
    "    #Finding average between each two points\n",
    "    avg_list = []\n",
    "    for i in range(len(point_list)-1):\n",
    "        avg = (point_list[i] + point_list[i+1])/2\n",
    "        avg_list.append(int(avg))\n",
    "        \n",
    "    #Performing the discretization and adding the cases\n",
    "    for i in avg_list:\n",
    "        case = str(numeric_col) + \",\" + str(point_list[0]) + \"..\" + str(i)\n",
    "        case2 = str(numeric_col) + \",\" + str(i) + \"..\" + str(point_list[len(point_list)-1])\n",
    "        case_list.append(case)\n",
    "        case_list.append(case2)"
   ]
  },
  {
   "cell_type": "code",
   "execution_count": 14,
   "metadata": {},
   "outputs": [],
   "source": [
    "#Follow the first route if n. of numeric attributes is 1, otherwise follow the second route\n",
    "if len(numeric_col) > 1:\n",
    "    for item in numeric_col:\n",
    "        discretize(item)\n",
    "else:\n",
    "    discretize(numeric_col[0])"
   ]
  },
  {
   "cell_type": "code",
   "execution_count": 15,
   "metadata": {},
   "outputs": [
    {
     "data": {
      "text/plain": [
       "['Wind,4..6',\n",
       " 'Wind,6..30',\n",
       " 'Wind,4..10',\n",
       " 'Wind,10..30',\n",
       " 'Wind,4..14',\n",
       " 'Wind,14..30',\n",
       " 'Wind,4..23',\n",
       " 'Wind,23..30']"
      ]
     },
     "execution_count": 15,
     "metadata": {},
     "output_type": "execute_result"
    }
   ],
   "source": [
    "case_list"
   ]
  },
  {
   "cell_type": "code",
   "execution_count": 16,
   "metadata": {},
   "outputs": [
    {
     "data": {
      "text/plain": [
       "['Wind', 'Humidity', 'Temperature', 'Trip', 'sort_col']"
      ]
     },
     "execution_count": 16,
     "metadata": {},
     "output_type": "execute_result"
    }
   ],
   "source": [
    "attributes = list(df)\n",
    "attributes"
   ]
  },
  {
   "cell_type": "code",
   "execution_count": 17,
   "metadata": {},
   "outputs": [
    {
     "name": "stdout",
     "output_type": "stream",
     "text": [
      "Wind\n",
      "Humidity\n",
      "Temperature\n"
     ]
    }
   ],
   "source": [
    "#Loop through all the attributes except last 2 - Concept and sort_col\n",
    "for item in attributes[:-2]:\n",
    "    print(item)\n",
    "    #check for non numeric columns\n",
    "    if not is_numeric_dtype(df[item]):\n",
    "        temp = df[item].unique()\n",
    "        for i in temp:\n",
    "            case = item + \",\" + i\n",
    "            case_list.append(case)\n",
    "        "
   ]
  },
  {
   "cell_type": "code",
   "execution_count": 18,
   "metadata": {},
   "outputs": [
    {
     "data": {
      "text/plain": [
       "['Wind,4..6',\n",
       " 'Wind,6..30',\n",
       " 'Wind,4..10',\n",
       " 'Wind,10..30',\n",
       " 'Wind,4..14',\n",
       " 'Wind,14..30',\n",
       " 'Wind,4..23',\n",
       " 'Wind,23..30',\n",
       " 'Humidity,low',\n",
       " 'Humidity,medium',\n",
       " 'Humidity,high',\n",
       " 'Temperature,medium',\n",
       " 'Temperature,low',\n",
       " 'Temperature,high']"
      ]
     },
     "execution_count": 18,
     "metadata": {},
     "output_type": "execute_result"
    }
   ],
   "source": [
    "#This is the final list of cases after discretization\n",
    "case_list"
   ]
  },
  {
   "cell_type": "markdown",
   "metadata": {},
   "source": [
    "#### ---------------Building (a,v) pairs---------------------"
   ]
  },
  {
   "cell_type": "code",
   "execution_count": 19,
   "metadata": {},
   "outputs": [
    {
     "name": "stdout",
     "output_type": "stream",
     "text": [
      "[1, 3]\n",
      "[2, 4, 5, 6, 7, 8]\n",
      "[1, 2, 3, 4]\n",
      "[5, 6, 7, 8]\n",
      "[1, 2, 3, 4, 5, 8]\n",
      "[6, 7]\n",
      "[1, 2, 3, 4, 5, 6, 8]\n",
      "[7]\n",
      "[1, 2, 5]\n",
      "[3, 4]\n",
      "[6, 7, 8]\n",
      "[1, 3, 5]\n",
      "[2, 6]\n",
      "[4, 7, 8]\n"
     ]
    }
   ],
   "source": [
    "temp_list = []\n",
    "att_val_list = []\n",
    "for item in case_list:\n",
    "    a,b = item.split(\",\") #a = attribute and b = value\n",
    "    if \".\" in b:\n",
    "        start,end = b.split(\"..\")\n",
    "        for index, row in df.iterrows():\n",
    "            if row[a] >= int(start) and row[a] <= int(end):\n",
    "                temp_list.append(index+1)\n",
    "        print(temp_list)\n",
    "        att_val_list.append(temp_list)\n",
    "        temp_list = []\n",
    "        \n",
    "    else:\n",
    "        for index, row in df.iterrows():\n",
    "            if row[a] == b:\n",
    "                temp_list.append(index+1)\n",
    "        print(temp_list)\n",
    "        att_val_list.append(temp_list)\n",
    "        temp_list = []"
   ]
  },
  {
   "cell_type": "code",
   "execution_count": 20,
   "metadata": {},
   "outputs": [
    {
     "data": {
      "text/plain": [
       "[[1, 3],\n",
       " [2, 4, 5, 6, 7, 8],\n",
       " [1, 2, 3, 4],\n",
       " [5, 6, 7, 8],\n",
       " [1, 2, 3, 4, 5, 8],\n",
       " [6, 7],\n",
       " [1, 2, 3, 4, 5, 6, 8],\n",
       " [7],\n",
       " [1, 2, 5],\n",
       " [3, 4],\n",
       " [6, 7, 8],\n",
       " [1, 3, 5],\n",
       " [2, 6],\n",
       " [4, 7, 8]]"
      ]
     },
     "execution_count": 20,
     "metadata": {},
     "output_type": "execute_result"
    }
   ],
   "source": [
    "att_val_list"
   ]
  },
  {
   "cell_type": "code",
   "execution_count": 21,
   "metadata": {},
   "outputs": [],
   "source": [
    "#Creating data for case and att-value list\n",
    "data = {'Cases': case_list, 'att_val': att_val_list}"
   ]
  },
  {
   "cell_type": "code",
   "execution_count": 22,
   "metadata": {},
   "outputs": [],
   "source": [
    "df2 = pd.DataFrame(data)"
   ]
  },
  {
   "cell_type": "code",
   "execution_count": 23,
   "metadata": {},
   "outputs": [
    {
     "data": {
      "text/html": [
       "<div>\n",
       "<style scoped>\n",
       "    .dataframe tbody tr th:only-of-type {\n",
       "        vertical-align: middle;\n",
       "    }\n",
       "\n",
       "    .dataframe tbody tr th {\n",
       "        vertical-align: top;\n",
       "    }\n",
       "\n",
       "    .dataframe thead th {\n",
       "        text-align: right;\n",
       "    }\n",
       "</style>\n",
       "<table border=\"1\" class=\"dataframe\">\n",
       "  <thead>\n",
       "    <tr style=\"text-align: right;\">\n",
       "      <th></th>\n",
       "      <th>Cases</th>\n",
       "      <th>att_val</th>\n",
       "    </tr>\n",
       "  </thead>\n",
       "  <tbody>\n",
       "    <tr>\n",
       "      <th>0</th>\n",
       "      <td>Wind,4..6</td>\n",
       "      <td>[1, 3]</td>\n",
       "    </tr>\n",
       "    <tr>\n",
       "      <th>1</th>\n",
       "      <td>Wind,6..30</td>\n",
       "      <td>[2, 4, 5, 6, 7, 8]</td>\n",
       "    </tr>\n",
       "    <tr>\n",
       "      <th>2</th>\n",
       "      <td>Wind,4..10</td>\n",
       "      <td>[1, 2, 3, 4]</td>\n",
       "    </tr>\n",
       "    <tr>\n",
       "      <th>3</th>\n",
       "      <td>Wind,10..30</td>\n",
       "      <td>[5, 6, 7, 8]</td>\n",
       "    </tr>\n",
       "    <tr>\n",
       "      <th>4</th>\n",
       "      <td>Wind,4..14</td>\n",
       "      <td>[1, 2, 3, 4, 5, 8]</td>\n",
       "    </tr>\n",
       "    <tr>\n",
       "      <th>5</th>\n",
       "      <td>Wind,14..30</td>\n",
       "      <td>[6, 7]</td>\n",
       "    </tr>\n",
       "    <tr>\n",
       "      <th>6</th>\n",
       "      <td>Wind,4..23</td>\n",
       "      <td>[1, 2, 3, 4, 5, 6, 8]</td>\n",
       "    </tr>\n",
       "    <tr>\n",
       "      <th>7</th>\n",
       "      <td>Wind,23..30</td>\n",
       "      <td>[7]</td>\n",
       "    </tr>\n",
       "    <tr>\n",
       "      <th>8</th>\n",
       "      <td>Humidity,low</td>\n",
       "      <td>[1, 2, 5]</td>\n",
       "    </tr>\n",
       "    <tr>\n",
       "      <th>9</th>\n",
       "      <td>Humidity,medium</td>\n",
       "      <td>[3, 4]</td>\n",
       "    </tr>\n",
       "    <tr>\n",
       "      <th>10</th>\n",
       "      <td>Humidity,high</td>\n",
       "      <td>[6, 7, 8]</td>\n",
       "    </tr>\n",
       "    <tr>\n",
       "      <th>11</th>\n",
       "      <td>Temperature,medium</td>\n",
       "      <td>[1, 3, 5]</td>\n",
       "    </tr>\n",
       "    <tr>\n",
       "      <th>12</th>\n",
       "      <td>Temperature,low</td>\n",
       "      <td>[2, 6]</td>\n",
       "    </tr>\n",
       "    <tr>\n",
       "      <th>13</th>\n",
       "      <td>Temperature,high</td>\n",
       "      <td>[4, 7, 8]</td>\n",
       "    </tr>\n",
       "  </tbody>\n",
       "</table>\n",
       "</div>"
      ],
      "text/plain": [
       "                 Cases                att_val\n",
       "0            Wind,4..6                 [1, 3]\n",
       "1           Wind,6..30     [2, 4, 5, 6, 7, 8]\n",
       "2           Wind,4..10           [1, 2, 3, 4]\n",
       "3          Wind,10..30           [5, 6, 7, 8]\n",
       "4           Wind,4..14     [1, 2, 3, 4, 5, 8]\n",
       "5          Wind,14..30                 [6, 7]\n",
       "6           Wind,4..23  [1, 2, 3, 4, 5, 6, 8]\n",
       "7          Wind,23..30                    [7]\n",
       "8         Humidity,low              [1, 2, 5]\n",
       "9      Humidity,medium                 [3, 4]\n",
       "10       Humidity,high              [6, 7, 8]\n",
       "11  Temperature,medium              [1, 3, 5]\n",
       "12     Temperature,low                 [2, 6]\n",
       "13    Temperature,high              [4, 7, 8]"
      ]
     },
     "execution_count": 23,
     "metadata": {},
     "output_type": "execute_result"
    }
   ],
   "source": [
    "#Cases and corresponding att-value pairs\n",
    "df2"
   ]
  },
  {
   "cell_type": "code",
   "execution_count": 24,
   "metadata": {},
   "outputs": [],
   "source": [
    "df3 = df2"
   ]
  },
  {
   "cell_type": "markdown",
   "metadata": {},
   "source": [
    "### --------------Developing MLEM2 Algorithm--------------------\n",
    "#### Find Goal Intersect Pairs !!"
   ]
  },
  {
   "cell_type": "code",
   "execution_count": 25,
   "metadata": {},
   "outputs": [],
   "source": [
    "def findGoalIntersect(goal):\n",
    "    goalIntersect = []\n",
    "    \n",
    "    for index, row in df3.iterrows():\n",
    "        #List containing intersection of (a,v) pairs and goal\n",
    "        goalIntersect.append(set(row['att_val']).intersection(set(goal)))\n",
    "          \n",
    "    #Check if goal_intersect column exists\n",
    "    if 'goal_intersect' in df3:\n",
    "        df3['goal_intersect'] = goalIntersect\n",
    "    else:\n",
    "        #Insert new column with the recent iteration\n",
    "        df3.insert(2, 'goal_intersect', goalIntersect)"
   ]
  },
  {
   "cell_type": "markdown",
   "metadata": {},
   "source": [
    "#### Select the Proper Case covering most part of the goal and having least no. of elements !!"
   ]
  },
  {
   "cell_type": "code",
   "execution_count": 26,
   "metadata": {},
   "outputs": [],
   "source": [
    "def findCases(df3):\n",
    "    #Find the cases with maximum goal coverage\n",
    "    m = max(df3['goal_intersect'], key=len)\n",
    "    possible_cases = [i for i, j in enumerate(df3['goal_intersect'].tolist()) if j == m]\n",
    "    \n",
    "    #Index of the case covering max goal and having min no. of elements\n",
    "    new_df = df3.iloc[possible_cases,:]\n",
    "    m1 = min(new_df['att_val'], key=len)\n",
    "    final_case = [i for i, j in enumerate(df3['att_val'].tolist()) if j == m1]\n",
    "    \n",
    "    return final_case[0]"
   ]
  },
  {
   "cell_type": "markdown",
   "metadata": {},
   "source": [
    "#### Combine the Numeric Interval in the conditions if overlapped !!"
   ]
  },
  {
   "cell_type": "code",
   "execution_count": 27,
   "metadata": {},
   "outputs": [],
   "source": [
    "def combineInterval(test_condition):\n",
    "    \n",
    "    test_num = [] #This will contain the conditions having interval\n",
    "    test_str = [] #This will contain the conditions having no interval\n",
    "    \n",
    "    #Loop through to seprate contions having intervals and no intervals\n",
    "    for item in test_condition:\n",
    "        if \"..\" in item:\n",
    "            test_num.append(item)\n",
    "        else:\n",
    "            test_str.append(item)\n",
    "   \n",
    "    #Group the conditions having interval based on same attributes\n",
    "    grouped = [list(g) for k, g in groupby(test_num, lambda s: s.partition(',')[0])]\n",
    "    \n",
    "    final_list = []\n",
    "    \n",
    "    #Actually combining the intervals\n",
    "    for list1 in grouped:\n",
    "        greatest = 0\n",
    "        smallest = 0\n",
    "        for item in list1:\n",
    "            part1,part2 = item.split(\",\")\n",
    "            start,stop = part2.split(\"..\")\n",
    "            start = int(start)\n",
    "            stop = int(stop)\n",
    "\n",
    "            if greatest == 0 and smallest == 0:\n",
    "                greatest = start\n",
    "                smallest = stop\n",
    "\n",
    "            if start > greatest:\n",
    "                greatest = int(start)\n",
    "\n",
    "            if stop < smallest:\n",
    "                smallest = int(stop)\n",
    "\n",
    "        con_tmp = part1 + \",\" + str(greatest) + \"..\" + str(smallest)\n",
    "        final_list.append(con_tmp)  \n",
    "            \n",
    "    actual_condition = final_list + test_str\n",
    "    \n",
    "    return actual_condition"
   ]
  },
  {
   "cell_type": "markdown",
   "metadata": {},
   "source": [
    "#### Dropping Conditions Check !!"
   ]
  },
  {
   "cell_type": "code",
   "execution_count": 101,
   "metadata": {},
   "outputs": [],
   "source": [
    "def dropCondition(condition):\n",
    "    print (condition)\n",
    "    for item in condition:\n",
    "        temp_att_val = []\n",
    "        temp_cond = condition\n",
    "        temp_cond.remove(item)\n",
    "      \n",
    "        for i in temp_cond:\n",
    "            location = df3.index[df3['Cases'] == i].tolist()\n",
    "            element = df3['att_val'].loc[location[0]]\n",
    "         \n",
    "            temp_att_val.append(set(element))\n",
    "            \n",
    "        print(temp_att_val)\n",
    "        intersection = set.intersection(*temp_att_val)\n",
    "    print(intersection)\n",
    "      "
   ]
  },
  {
   "cell_type": "code",
   "execution_count": 102,
   "metadata": {},
   "outputs": [
    {
     "name": "stdout",
     "output_type": "stream",
     "text": [
      "['Wind,10..30', 'Humidity,low', 'Temperature,medium']\n",
      "[{1, 2, 5}, {1, 3, 5}]\n",
      "[{1, 2, 5}]\n",
      "{1, 2, 5}\n"
     ]
    }
   ],
   "source": [
    "condition2 = ['Wind,10..30', 'Humidity,low', 'Temperature,medium']\n",
    "dropCondition(condition2)"
   ]
  },
  {
   "cell_type": "markdown",
   "metadata": {},
   "source": [
    "#### MLEM2 Algorithm !!"
   ]
  },
  {
   "cell_type": "code",
   "execution_count": 29,
   "metadata": {},
   "outputs": [],
   "source": [
    "def stepAlgo(df3,selected_case,current_goal,B,condition,concept_curr):\n",
    "    \n",
    "    rule_set = []\n",
    "    \n",
    "    while current_goal != set():\n",
    "\n",
    "        #Check if the selected case is a subset of the current goal\n",
    "\n",
    "        #List of current case\n",
    "        A = df3['att_val'].loc[selected_case] \n",
    "\n",
    "        if B == set():\n",
    "            #Copy over the current set elements to B\n",
    "            for i in range(len(A)):\n",
    "                B.add(A[i])\n",
    "\n",
    "        #Elements of intersection of current and previous set\n",
    "        A = set(A).intersection(B)\n",
    "        B = A\n",
    "\n",
    "        #Check if intersecting elements are subset of Goal\n",
    "        if A.issubset(current_goal):\n",
    "            #Current goal is updated after discarding the already covered goal by new rule\n",
    "            current_goal = set(current_goal) - A\n",
    "\n",
    "            #Extract the current case\n",
    "            curr_case = df3['Cases'].loc[selected_case]\n",
    "            #Add the conditions of a Rule\n",
    "            condition.append(curr_case)\n",
    "            \n",
    "            #Check for possibility of dropping conditions\n",
    "#             dropCondition(condition)\n",
    "            \n",
    "            #Combine the interval\n",
    "            condition = combineInterval(condition)\n",
    "\n",
    "            #Join conditions\n",
    "            cond = \"\"\n",
    "            for item in condition:\n",
    "                cond = cond + \"(\" + str(item) + \")\" + \" & \"\n",
    "\n",
    "            cond = cond[:-2] + \"->\"\n",
    "            rule = cond + \" (\" + concept + \",\" + concept_curr + \")\"\n",
    "            rule_set.append(rule)\n",
    "\n",
    "            #Reset everythng and continue for covering rest of the goal\n",
    "            condition = []\n",
    "            B = set()\n",
    "            findGoalIntersect(current_goal)\n",
    "            selected_case = findCases(df3)\n",
    "\n",
    "\n",
    "        #If not a subset of current goal\n",
    "        else:\n",
    "            #Assign empty set for the selected case for next iteration\n",
    "            df3['goal_intersect'].loc[selected_case] = set()\n",
    "            #Extract the current case\n",
    "            curr_case = df3['Cases'].loc[selected_case]\n",
    "            #Add the case to the condition list\n",
    "            condition.append(curr_case)\n",
    "\n",
    "            #Check for Range overlapping of the remaining cases\n",
    "            if \".\" in curr_case:\n",
    "                second_part = curr_case.split(',')[1]\n",
    "                start = int(second_part.split('..')[0])\n",
    "                end = int(second_part.split('..')[1])\n",
    "                for index, row in df3.iterrows():\n",
    "                    if \".\" in row['Cases']:\n",
    "                        part2 = row['Cases'].split(',')[1]\n",
    "                        start1 = int(part2.split('..')[0])\n",
    "                        end1 = int(part2.split('..')[1])\n",
    "\n",
    "                        #Assign blank set for cases with overlapping ranges\n",
    "                        if set((range(start,end))).issubset(range(start1,end1)) == True:\n",
    "                            row['goal_intersect'] = set()\n",
    "\n",
    "            selected_case = findCases(df3)\n",
    "                        \n",
    "    return rule_set"
   ]
  },
  {
   "cell_type": "code",
   "execution_count": 30,
   "metadata": {},
   "outputs": [],
   "source": [
    "#concept_list and goal_list has 1:1 mapping\n",
    "final_rules = []\n",
    "start_time = time.time()\n",
    "\n",
    "#Running algorithm for all the goals/concepts\n",
    "for i in range(0,len(goal_list)):\n",
    "    findGoalIntersect(goal_list[i])\n",
    "    condition = []\n",
    "    B = set()\n",
    "    selected_case = findCases(df3)\n",
    "    \n",
    "    rule_set = stepAlgo(df3,selected_case,goal_list[i],B,condition,concept_list[i])\n",
    "    final_rules.append(rule_set)\n",
    "    \n",
    "elapsed_time = time.time() - start_time"
   ]
  },
  {
   "cell_type": "code",
   "execution_count": 31,
   "metadata": {},
   "outputs": [
    {
     "name": "stdout",
     "output_type": "stream",
     "text": [
      "Time to run the algorithm:  0.037 Sec\n",
      "\n",
      "\n",
      "['(Wind,4..6) -> (Trip,yes)', '(Temperature,low) & (Humidity,low) -> (Trip,yes)']\n",
      "['(Wind,6..14) & (Humidity,medium) -> (Trip,maybe)', '(Wind,10..30) & (Humidity,low) & (Temperature,medium) -> (Trip,maybe)']\n",
      "['(Humidity,high) -> (Trip,no)']\n"
     ]
    }
   ],
   "source": [
    "print(\"Time to run the algorithm: \", round(elapsed_time, 3), \"Sec\")\n",
    "print(\"\\n\")\n",
    "print(*final_rules, sep='\\n')"
   ]
  },
  {
   "cell_type": "code",
   "execution_count": 32,
   "metadata": {},
   "outputs": [],
   "source": [
    "#Order of functions to run for algorithm (after attribute-value pairs are made):\n",
    "# 1. findGoalIntersect()\n",
    "# 2. findCases()\n",
    "# 3. stepAlgo()"
   ]
  },
  {
   "cell_type": "code",
   "execution_count": 33,
   "metadata": {},
   "outputs": [],
   "source": [
    "# Need to implement dropping condition"
   ]
  }
 ],
 "metadata": {
  "kernelspec": {
   "display_name": "Python 3",
   "language": "python",
   "name": "python3"
  },
  "language_info": {
   "codemirror_mode": {
    "name": "ipython",
    "version": 3
   },
   "file_extension": ".py",
   "mimetype": "text/x-python",
   "name": "python",
   "nbconvert_exporter": "python",
   "pygments_lexer": "ipython3",
   "version": "3.6.6"
  }
 },
 "nbformat": 4,
 "nbformat_minor": 2
}
