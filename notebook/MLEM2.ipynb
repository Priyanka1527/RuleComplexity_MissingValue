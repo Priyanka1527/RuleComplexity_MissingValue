{
 "cells": [
  {
   "cell_type": "markdown",
   "metadata": {},
   "source": [
    "# MLEM2 Algorithm"
   ]
  },
  {
   "cell_type": "code",
   "execution_count": 1,
   "metadata": {},
   "outputs": [],
   "source": [
    "import pandas as pd\n",
    "from pandas.api.types import is_numeric_dtype"
   ]
  },
  {
   "cell_type": "code",
   "execution_count": 2,
   "metadata": {},
   "outputs": [],
   "source": [
    "df = pd.read_csv('../data/trip_data.csv')"
   ]
  },
  {
   "cell_type": "code",
   "execution_count": 3,
   "metadata": {},
   "outputs": [],
   "source": [
    "df = df.drop(['Case'],axis=1)"
   ]
  },
  {
   "cell_type": "code",
   "execution_count": 4,
   "metadata": {},
   "outputs": [
    {
     "data": {
      "text/html": [
       "<div>\n",
       "<style scoped>\n",
       "    .dataframe tbody tr th:only-of-type {\n",
       "        vertical-align: middle;\n",
       "    }\n",
       "\n",
       "    .dataframe tbody tr th {\n",
       "        vertical-align: top;\n",
       "    }\n",
       "\n",
       "    .dataframe thead th {\n",
       "        text-align: right;\n",
       "    }\n",
       "</style>\n",
       "<table border=\"1\" class=\"dataframe\">\n",
       "  <thead>\n",
       "    <tr style=\"text-align: right;\">\n",
       "      <th></th>\n",
       "      <th>Wind</th>\n",
       "      <th>Humidity</th>\n",
       "      <th>Temperature</th>\n",
       "      <th>Trip</th>\n",
       "    </tr>\n",
       "  </thead>\n",
       "  <tbody>\n",
       "    <tr>\n",
       "      <th>0</th>\n",
       "      <td>4</td>\n",
       "      <td>low</td>\n",
       "      <td>medium</td>\n",
       "      <td>yes</td>\n",
       "    </tr>\n",
       "    <tr>\n",
       "      <th>1</th>\n",
       "      <td>8</td>\n",
       "      <td>low</td>\n",
       "      <td>low</td>\n",
       "      <td>yes</td>\n",
       "    </tr>\n",
       "    <tr>\n",
       "      <th>2</th>\n",
       "      <td>4</td>\n",
       "      <td>medium</td>\n",
       "      <td>medium</td>\n",
       "      <td>yes</td>\n",
       "    </tr>\n",
       "    <tr>\n",
       "      <th>3</th>\n",
       "      <td>8</td>\n",
       "      <td>medium</td>\n",
       "      <td>high</td>\n",
       "      <td>maybe</td>\n",
       "    </tr>\n",
       "    <tr>\n",
       "      <th>4</th>\n",
       "      <td>12</td>\n",
       "      <td>low</td>\n",
       "      <td>medium</td>\n",
       "      <td>maybe</td>\n",
       "    </tr>\n",
       "    <tr>\n",
       "      <th>5</th>\n",
       "      <td>16</td>\n",
       "      <td>high</td>\n",
       "      <td>low</td>\n",
       "      <td>no</td>\n",
       "    </tr>\n",
       "    <tr>\n",
       "      <th>6</th>\n",
       "      <td>30</td>\n",
       "      <td>high</td>\n",
       "      <td>high</td>\n",
       "      <td>no</td>\n",
       "    </tr>\n",
       "    <tr>\n",
       "      <th>7</th>\n",
       "      <td>12</td>\n",
       "      <td>high</td>\n",
       "      <td>high</td>\n",
       "      <td>no</td>\n",
       "    </tr>\n",
       "  </tbody>\n",
       "</table>\n",
       "</div>"
      ],
      "text/plain": [
       "   Wind Humidity Temperature   Trip\n",
       "0     4      low      medium    yes\n",
       "1     8      low         low    yes\n",
       "2     4   medium      medium    yes\n",
       "3     8   medium        high  maybe\n",
       "4    12      low      medium  maybe\n",
       "5    16     high         low     no\n",
       "6    30     high        high     no\n",
       "7    12     high        high     no"
      ]
     },
     "execution_count": 4,
     "metadata": {},
     "output_type": "execute_result"
    }
   ],
   "source": [
    "df"
   ]
  },
  {
   "cell_type": "markdown",
   "metadata": {},
   "source": [
    "#### --------------------------Defining Goals--------------------------"
   ]
  },
  {
   "cell_type": "code",
   "execution_count": 5,
   "metadata": {},
   "outputs": [
    {
     "data": {
      "text/plain": [
       "'Trip'"
      ]
     },
     "execution_count": 5,
     "metadata": {},
     "output_type": "execute_result"
    }
   ],
   "source": [
    "df_headers = list(df)\n",
    "concept = df_headers[-1]\n",
    "concept"
   ]
  },
  {
   "cell_type": "code",
   "execution_count": 6,
   "metadata": {},
   "outputs": [
    {
     "data": {
      "text/plain": [
       "array(['yes', 'maybe', 'no'], dtype=object)"
      ]
     },
     "execution_count": 6,
     "metadata": {},
     "output_type": "execute_result"
    }
   ],
   "source": [
    "#all unique concepts\n",
    "concept_list = df[concept].unique()\n",
    "concept_list"
   ]
  },
  {
   "cell_type": "code",
   "execution_count": 7,
   "metadata": {},
   "outputs": [],
   "source": [
    "#calculating cases by concepts and making sets\n",
    "temp_list = []\n",
    "goal_list = []\n",
    "for item in concept_list:\n",
    "    for index, row in df.iterrows():\n",
    "        if row[concept] == item:\n",
    "            temp_list.append(index+1)\n",
    "    goal_list.append(temp_list)\n",
    "    temp_list = []"
   ]
  },
  {
   "cell_type": "code",
   "execution_count": 8,
   "metadata": {},
   "outputs": [
    {
     "data": {
      "text/plain": [
       "[[1, 2, 3], [4, 5], [6, 7, 8]]"
      ]
     },
     "execution_count": 8,
     "metadata": {},
     "output_type": "execute_result"
    }
   ],
   "source": [
    "goal_list"
   ]
  },
  {
   "cell_type": "markdown",
   "metadata": {},
   "source": [
    "#### -------------------Finding numeric column---------------------"
   ]
  },
  {
   "cell_type": "code",
   "execution_count": 9,
   "metadata": {},
   "outputs": [],
   "source": [
    "numeric_col = df.dtypes[df.dtypes != \"object\"].index[0]"
   ]
  },
  {
   "cell_type": "code",
   "execution_count": 10,
   "metadata": {},
   "outputs": [
    {
     "data": {
      "text/plain": [
       "'Wind'"
      ]
     },
     "execution_count": 10,
     "metadata": {},
     "output_type": "execute_result"
    }
   ],
   "source": [
    "numeric_col"
   ]
  },
  {
   "cell_type": "code",
   "execution_count": 11,
   "metadata": {},
   "outputs": [],
   "source": [
    "sort_col = df[numeric_col].sort_values()"
   ]
  },
  {
   "cell_type": "code",
   "execution_count": 12,
   "metadata": {},
   "outputs": [],
   "source": [
    "df['sort_col'] = sort_col.values"
   ]
  },
  {
   "cell_type": "code",
   "execution_count": 13,
   "metadata": {},
   "outputs": [
    {
     "data": {
      "text/html": [
       "<div>\n",
       "<style scoped>\n",
       "    .dataframe tbody tr th:only-of-type {\n",
       "        vertical-align: middle;\n",
       "    }\n",
       "\n",
       "    .dataframe tbody tr th {\n",
       "        vertical-align: top;\n",
       "    }\n",
       "\n",
       "    .dataframe thead th {\n",
       "        text-align: right;\n",
       "    }\n",
       "</style>\n",
       "<table border=\"1\" class=\"dataframe\">\n",
       "  <thead>\n",
       "    <tr style=\"text-align: right;\">\n",
       "      <th></th>\n",
       "      <th>Wind</th>\n",
       "      <th>Humidity</th>\n",
       "      <th>Temperature</th>\n",
       "      <th>Trip</th>\n",
       "      <th>sort_col</th>\n",
       "    </tr>\n",
       "  </thead>\n",
       "  <tbody>\n",
       "    <tr>\n",
       "      <th>0</th>\n",
       "      <td>4</td>\n",
       "      <td>low</td>\n",
       "      <td>medium</td>\n",
       "      <td>yes</td>\n",
       "      <td>4</td>\n",
       "    </tr>\n",
       "    <tr>\n",
       "      <th>1</th>\n",
       "      <td>8</td>\n",
       "      <td>low</td>\n",
       "      <td>low</td>\n",
       "      <td>yes</td>\n",
       "      <td>4</td>\n",
       "    </tr>\n",
       "    <tr>\n",
       "      <th>2</th>\n",
       "      <td>4</td>\n",
       "      <td>medium</td>\n",
       "      <td>medium</td>\n",
       "      <td>yes</td>\n",
       "      <td>8</td>\n",
       "    </tr>\n",
       "    <tr>\n",
       "      <th>3</th>\n",
       "      <td>8</td>\n",
       "      <td>medium</td>\n",
       "      <td>high</td>\n",
       "      <td>maybe</td>\n",
       "      <td>8</td>\n",
       "    </tr>\n",
       "    <tr>\n",
       "      <th>4</th>\n",
       "      <td>12</td>\n",
       "      <td>low</td>\n",
       "      <td>medium</td>\n",
       "      <td>maybe</td>\n",
       "      <td>12</td>\n",
       "    </tr>\n",
       "    <tr>\n",
       "      <th>5</th>\n",
       "      <td>16</td>\n",
       "      <td>high</td>\n",
       "      <td>low</td>\n",
       "      <td>no</td>\n",
       "      <td>12</td>\n",
       "    </tr>\n",
       "    <tr>\n",
       "      <th>6</th>\n",
       "      <td>30</td>\n",
       "      <td>high</td>\n",
       "      <td>high</td>\n",
       "      <td>no</td>\n",
       "      <td>16</td>\n",
       "    </tr>\n",
       "    <tr>\n",
       "      <th>7</th>\n",
       "      <td>12</td>\n",
       "      <td>high</td>\n",
       "      <td>high</td>\n",
       "      <td>no</td>\n",
       "      <td>30</td>\n",
       "    </tr>\n",
       "  </tbody>\n",
       "</table>\n",
       "</div>"
      ],
      "text/plain": [
       "   Wind Humidity Temperature   Trip  sort_col\n",
       "0     4      low      medium    yes         4\n",
       "1     8      low         low    yes         4\n",
       "2     4   medium      medium    yes         8\n",
       "3     8   medium        high  maybe         8\n",
       "4    12      low      medium  maybe        12\n",
       "5    16     high         low     no        12\n",
       "6    30     high        high     no        16\n",
       "7    12     high        high     no        30"
      ]
     },
     "execution_count": 13,
     "metadata": {},
     "output_type": "execute_result"
    }
   ],
   "source": [
    "df"
   ]
  },
  {
   "cell_type": "code",
   "execution_count": 14,
   "metadata": {},
   "outputs": [],
   "source": [
    "point_list = df['sort_col'].unique()"
   ]
  },
  {
   "cell_type": "code",
   "execution_count": 15,
   "metadata": {},
   "outputs": [
    {
     "data": {
      "text/plain": [
       "array([ 4,  8, 12, 16, 30])"
      ]
     },
     "execution_count": 15,
     "metadata": {},
     "output_type": "execute_result"
    }
   ],
   "source": [
    "point_list"
   ]
  },
  {
   "cell_type": "code",
   "execution_count": 16,
   "metadata": {},
   "outputs": [],
   "source": [
    "avg_list = []\n",
    "for i in range(len(point_list)-1):\n",
    "    avg = (point_list[i] + point_list[i+1])/2\n",
    "    avg_list.append(int(avg))"
   ]
  },
  {
   "cell_type": "code",
   "execution_count": 17,
   "metadata": {},
   "outputs": [
    {
     "data": {
      "text/plain": [
       "[6, 10, 14, 23]"
      ]
     },
     "execution_count": 17,
     "metadata": {},
     "output_type": "execute_result"
    }
   ],
   "source": [
    "avg_list"
   ]
  },
  {
   "cell_type": "code",
   "execution_count": 18,
   "metadata": {},
   "outputs": [
    {
     "data": {
      "text/plain": [
       "['Wind', 'Humidity', 'Temperature', 'Trip', 'sort_col']"
      ]
     },
     "execution_count": 18,
     "metadata": {},
     "output_type": "execute_result"
    }
   ],
   "source": [
    "attributes = list(df)\n",
    "attributes"
   ]
  },
  {
   "cell_type": "code",
   "execution_count": 19,
   "metadata": {},
   "outputs": [],
   "source": [
    "case_list = []\n",
    "for i in avg_list:\n",
    "    case = str(numeric_col) + \",\" + str(point_list[0]) + \"..\" + str(i)\n",
    "    case2 = str(numeric_col) + \",\" + str(i) + \"..\" + str(point_list[len(point_list)-1])\n",
    "    case_list.append(case)\n",
    "    case_list.append(case2)"
   ]
  },
  {
   "cell_type": "code",
   "execution_count": 20,
   "metadata": {},
   "outputs": [
    {
     "data": {
      "text/plain": [
       "['Wind,4..6',\n",
       " 'Wind,6..30',\n",
       " 'Wind,4..10',\n",
       " 'Wind,10..30',\n",
       " 'Wind,4..14',\n",
       " 'Wind,14..30',\n",
       " 'Wind,4..23',\n",
       " 'Wind,23..30']"
      ]
     },
     "execution_count": 20,
     "metadata": {},
     "output_type": "execute_result"
    }
   ],
   "source": [
    "case_list"
   ]
  },
  {
   "cell_type": "code",
   "execution_count": 21,
   "metadata": {},
   "outputs": [
    {
     "name": "stdout",
     "output_type": "stream",
     "text": [
      "Wind\n",
      "Humidity\n",
      "Temperature\n"
     ]
    }
   ],
   "source": [
    "for item in attributes[:-2]:\n",
    "    print(item)\n",
    "    #check for non numeric columns\n",
    "    if not is_numeric_dtype(df[item]):\n",
    "        temp = df[item].unique()\n",
    "        for i in temp:\n",
    "            case = item + \",\" + i\n",
    "            case_list.append(case)\n",
    "        "
   ]
  },
  {
   "cell_type": "code",
   "execution_count": 22,
   "metadata": {},
   "outputs": [
    {
     "data": {
      "text/plain": [
       "['Wind,4..6',\n",
       " 'Wind,6..30',\n",
       " 'Wind,4..10',\n",
       " 'Wind,10..30',\n",
       " 'Wind,4..14',\n",
       " 'Wind,14..30',\n",
       " 'Wind,4..23',\n",
       " 'Wind,23..30',\n",
       " 'Humidity,low',\n",
       " 'Humidity,medium',\n",
       " 'Humidity,high',\n",
       " 'Temperature,medium',\n",
       " 'Temperature,low',\n",
       " 'Temperature,high']"
      ]
     },
     "execution_count": 22,
     "metadata": {},
     "output_type": "execute_result"
    }
   ],
   "source": [
    "case_list"
   ]
  },
  {
   "cell_type": "markdown",
   "metadata": {},
   "source": [
    "#### ---------------Building (a,v) pairs---------------------"
   ]
  },
  {
   "cell_type": "code",
   "execution_count": 23,
   "metadata": {},
   "outputs": [
    {
     "name": "stdout",
     "output_type": "stream",
     "text": [
      "[1, 3]\n",
      "[2, 4, 5, 6, 7, 8]\n",
      "[1, 2, 3, 4]\n",
      "[5, 6, 7, 8]\n",
      "[1, 2, 3, 4, 5, 8]\n",
      "[6, 7]\n",
      "[1, 2, 3, 4, 5, 6, 8]\n",
      "[7]\n",
      "[1, 2, 5]\n",
      "[3, 4]\n",
      "[6, 7, 8]\n",
      "[1, 3, 5]\n",
      "[2, 6]\n",
      "[4, 7, 8]\n"
     ]
    }
   ],
   "source": [
    "temp_list = []\n",
    "att_val_list = []\n",
    "for item in case_list:\n",
    "    a,b = item.split(\",\") #a = attribute and b = value\n",
    "    if \".\" in b:\n",
    "        start,end = b.split(\"..\")\n",
    "        for index, row in df.iterrows():\n",
    "            if row[a] >= int(start) and row[a] <= int(end):\n",
    "                temp_list.append(index+1)\n",
    "        print(temp_list)\n",
    "        att_val_list.append(temp_list)\n",
    "        temp_list = []\n",
    "        \n",
    "    else:\n",
    "        for index, row in df.iterrows():\n",
    "            if row[a] == b:\n",
    "                temp_list.append(index+1)\n",
    "        print(temp_list)\n",
    "        att_val_list.append(temp_list)\n",
    "        temp_list = []"
   ]
  },
  {
   "cell_type": "code",
   "execution_count": 24,
   "metadata": {},
   "outputs": [
    {
     "data": {
      "text/plain": [
       "[[1, 3],\n",
       " [2, 4, 5, 6, 7, 8],\n",
       " [1, 2, 3, 4],\n",
       " [5, 6, 7, 8],\n",
       " [1, 2, 3, 4, 5, 8],\n",
       " [6, 7],\n",
       " [1, 2, 3, 4, 5, 6, 8],\n",
       " [7],\n",
       " [1, 2, 5],\n",
       " [3, 4],\n",
       " [6, 7, 8],\n",
       " [1, 3, 5],\n",
       " [2, 6],\n",
       " [4, 7, 8]]"
      ]
     },
     "execution_count": 24,
     "metadata": {},
     "output_type": "execute_result"
    }
   ],
   "source": [
    "att_val_list"
   ]
  },
  {
   "cell_type": "code",
   "execution_count": 25,
   "metadata": {},
   "outputs": [],
   "source": [
    "#Creating data for case and att-value list\n",
    "data = {'Cases': case_list, 'att_val': att_val_list}"
   ]
  },
  {
   "cell_type": "code",
   "execution_count": 26,
   "metadata": {},
   "outputs": [],
   "source": [
    "df2 = pd.DataFrame(data)"
   ]
  },
  {
   "cell_type": "code",
   "execution_count": 27,
   "metadata": {},
   "outputs": [
    {
     "data": {
      "text/html": [
       "<div>\n",
       "<style scoped>\n",
       "    .dataframe tbody tr th:only-of-type {\n",
       "        vertical-align: middle;\n",
       "    }\n",
       "\n",
       "    .dataframe tbody tr th {\n",
       "        vertical-align: top;\n",
       "    }\n",
       "\n",
       "    .dataframe thead th {\n",
       "        text-align: right;\n",
       "    }\n",
       "</style>\n",
       "<table border=\"1\" class=\"dataframe\">\n",
       "  <thead>\n",
       "    <tr style=\"text-align: right;\">\n",
       "      <th></th>\n",
       "      <th>Cases</th>\n",
       "      <th>att_val</th>\n",
       "    </tr>\n",
       "  </thead>\n",
       "  <tbody>\n",
       "    <tr>\n",
       "      <th>0</th>\n",
       "      <td>Wind,4..6</td>\n",
       "      <td>[1, 3]</td>\n",
       "    </tr>\n",
       "    <tr>\n",
       "      <th>1</th>\n",
       "      <td>Wind,6..30</td>\n",
       "      <td>[2, 4, 5, 6, 7, 8]</td>\n",
       "    </tr>\n",
       "    <tr>\n",
       "      <th>2</th>\n",
       "      <td>Wind,4..10</td>\n",
       "      <td>[1, 2, 3, 4]</td>\n",
       "    </tr>\n",
       "    <tr>\n",
       "      <th>3</th>\n",
       "      <td>Wind,10..30</td>\n",
       "      <td>[5, 6, 7, 8]</td>\n",
       "    </tr>\n",
       "    <tr>\n",
       "      <th>4</th>\n",
       "      <td>Wind,4..14</td>\n",
       "      <td>[1, 2, 3, 4, 5, 8]</td>\n",
       "    </tr>\n",
       "    <tr>\n",
       "      <th>5</th>\n",
       "      <td>Wind,14..30</td>\n",
       "      <td>[6, 7]</td>\n",
       "    </tr>\n",
       "    <tr>\n",
       "      <th>6</th>\n",
       "      <td>Wind,4..23</td>\n",
       "      <td>[1, 2, 3, 4, 5, 6, 8]</td>\n",
       "    </tr>\n",
       "    <tr>\n",
       "      <th>7</th>\n",
       "      <td>Wind,23..30</td>\n",
       "      <td>[7]</td>\n",
       "    </tr>\n",
       "    <tr>\n",
       "      <th>8</th>\n",
       "      <td>Humidity,low</td>\n",
       "      <td>[1, 2, 5]</td>\n",
       "    </tr>\n",
       "    <tr>\n",
       "      <th>9</th>\n",
       "      <td>Humidity,medium</td>\n",
       "      <td>[3, 4]</td>\n",
       "    </tr>\n",
       "    <tr>\n",
       "      <th>10</th>\n",
       "      <td>Humidity,high</td>\n",
       "      <td>[6, 7, 8]</td>\n",
       "    </tr>\n",
       "    <tr>\n",
       "      <th>11</th>\n",
       "      <td>Temperature,medium</td>\n",
       "      <td>[1, 3, 5]</td>\n",
       "    </tr>\n",
       "    <tr>\n",
       "      <th>12</th>\n",
       "      <td>Temperature,low</td>\n",
       "      <td>[2, 6]</td>\n",
       "    </tr>\n",
       "    <tr>\n",
       "      <th>13</th>\n",
       "      <td>Temperature,high</td>\n",
       "      <td>[4, 7, 8]</td>\n",
       "    </tr>\n",
       "  </tbody>\n",
       "</table>\n",
       "</div>"
      ],
      "text/plain": [
       "                 Cases                att_val\n",
       "0            Wind,4..6                 [1, 3]\n",
       "1           Wind,6..30     [2, 4, 5, 6, 7, 8]\n",
       "2           Wind,4..10           [1, 2, 3, 4]\n",
       "3          Wind,10..30           [5, 6, 7, 8]\n",
       "4           Wind,4..14     [1, 2, 3, 4, 5, 8]\n",
       "5          Wind,14..30                 [6, 7]\n",
       "6           Wind,4..23  [1, 2, 3, 4, 5, 6, 8]\n",
       "7          Wind,23..30                    [7]\n",
       "8         Humidity,low              [1, 2, 5]\n",
       "9      Humidity,medium                 [3, 4]\n",
       "10       Humidity,high              [6, 7, 8]\n",
       "11  Temperature,medium              [1, 3, 5]\n",
       "12     Temperature,low                 [2, 6]\n",
       "13    Temperature,high              [4, 7, 8]"
      ]
     },
     "execution_count": 27,
     "metadata": {},
     "output_type": "execute_result"
    }
   ],
   "source": [
    "#Cases and corresponding att-value pairs\n",
    "df2"
   ]
  },
  {
   "cell_type": "markdown",
   "metadata": {},
   "source": [
    "#### --------------Developing MLEM2 Algorithm--------------------"
   ]
  },
  {
   "cell_type": "code",
   "execution_count": 28,
   "metadata": {},
   "outputs": [],
   "source": [
    "goalIntersect = []\n",
    "def mlemAlgo(goal):\n",
    "    for index, row in df2.iterrows():\n",
    "        #List containing intersection of (a,v) pairs and goal\n",
    "        goalIntersect.append(set(row['att_val']).intersection(set(goal)))\n",
    "        \n",
    "    #Insert new column with the recent iteration\n",
    "    df2.insert(2, 'goal_intersect', goalIntersect)"
   ]
  },
  {
   "cell_type": "code",
   "execution_count": 29,
   "metadata": {},
   "outputs": [],
   "source": [
    "mlemAlgo(goal_list[0])"
   ]
  },
  {
   "cell_type": "code",
   "execution_count": 30,
   "metadata": {},
   "outputs": [
    {
     "data": {
      "text/html": [
       "<div>\n",
       "<style scoped>\n",
       "    .dataframe tbody tr th:only-of-type {\n",
       "        vertical-align: middle;\n",
       "    }\n",
       "\n",
       "    .dataframe tbody tr th {\n",
       "        vertical-align: top;\n",
       "    }\n",
       "\n",
       "    .dataframe thead th {\n",
       "        text-align: right;\n",
       "    }\n",
       "</style>\n",
       "<table border=\"1\" class=\"dataframe\">\n",
       "  <thead>\n",
       "    <tr style=\"text-align: right;\">\n",
       "      <th></th>\n",
       "      <th>Cases</th>\n",
       "      <th>att_val</th>\n",
       "      <th>goal_intersect</th>\n",
       "    </tr>\n",
       "  </thead>\n",
       "  <tbody>\n",
       "    <tr>\n",
       "      <th>0</th>\n",
       "      <td>Wind,4..6</td>\n",
       "      <td>[1, 3]</td>\n",
       "      <td>{1, 3}</td>\n",
       "    </tr>\n",
       "    <tr>\n",
       "      <th>1</th>\n",
       "      <td>Wind,6..30</td>\n",
       "      <td>[2, 4, 5, 6, 7, 8]</td>\n",
       "      <td>{2}</td>\n",
       "    </tr>\n",
       "    <tr>\n",
       "      <th>2</th>\n",
       "      <td>Wind,4..10</td>\n",
       "      <td>[1, 2, 3, 4]</td>\n",
       "      <td>{1, 2, 3}</td>\n",
       "    </tr>\n",
       "    <tr>\n",
       "      <th>3</th>\n",
       "      <td>Wind,10..30</td>\n",
       "      <td>[5, 6, 7, 8]</td>\n",
       "      <td>{}</td>\n",
       "    </tr>\n",
       "    <tr>\n",
       "      <th>4</th>\n",
       "      <td>Wind,4..14</td>\n",
       "      <td>[1, 2, 3, 4, 5, 8]</td>\n",
       "      <td>{1, 2, 3}</td>\n",
       "    </tr>\n",
       "    <tr>\n",
       "      <th>5</th>\n",
       "      <td>Wind,14..30</td>\n",
       "      <td>[6, 7]</td>\n",
       "      <td>{}</td>\n",
       "    </tr>\n",
       "    <tr>\n",
       "      <th>6</th>\n",
       "      <td>Wind,4..23</td>\n",
       "      <td>[1, 2, 3, 4, 5, 6, 8]</td>\n",
       "      <td>{1, 2, 3}</td>\n",
       "    </tr>\n",
       "    <tr>\n",
       "      <th>7</th>\n",
       "      <td>Wind,23..30</td>\n",
       "      <td>[7]</td>\n",
       "      <td>{}</td>\n",
       "    </tr>\n",
       "    <tr>\n",
       "      <th>8</th>\n",
       "      <td>Humidity,low</td>\n",
       "      <td>[1, 2, 5]</td>\n",
       "      <td>{1, 2}</td>\n",
       "    </tr>\n",
       "    <tr>\n",
       "      <th>9</th>\n",
       "      <td>Humidity,medium</td>\n",
       "      <td>[3, 4]</td>\n",
       "      <td>{3}</td>\n",
       "    </tr>\n",
       "    <tr>\n",
       "      <th>10</th>\n",
       "      <td>Humidity,high</td>\n",
       "      <td>[6, 7, 8]</td>\n",
       "      <td>{}</td>\n",
       "    </tr>\n",
       "    <tr>\n",
       "      <th>11</th>\n",
       "      <td>Temperature,medium</td>\n",
       "      <td>[1, 3, 5]</td>\n",
       "      <td>{1, 3}</td>\n",
       "    </tr>\n",
       "    <tr>\n",
       "      <th>12</th>\n",
       "      <td>Temperature,low</td>\n",
       "      <td>[2, 6]</td>\n",
       "      <td>{2}</td>\n",
       "    </tr>\n",
       "    <tr>\n",
       "      <th>13</th>\n",
       "      <td>Temperature,high</td>\n",
       "      <td>[4, 7, 8]</td>\n",
       "      <td>{}</td>\n",
       "    </tr>\n",
       "  </tbody>\n",
       "</table>\n",
       "</div>"
      ],
      "text/plain": [
       "                 Cases                att_val goal_intersect\n",
       "0            Wind,4..6                 [1, 3]         {1, 3}\n",
       "1           Wind,6..30     [2, 4, 5, 6, 7, 8]            {2}\n",
       "2           Wind,4..10           [1, 2, 3, 4]      {1, 2, 3}\n",
       "3          Wind,10..30           [5, 6, 7, 8]             {}\n",
       "4           Wind,4..14     [1, 2, 3, 4, 5, 8]      {1, 2, 3}\n",
       "5          Wind,14..30                 [6, 7]             {}\n",
       "6           Wind,4..23  [1, 2, 3, 4, 5, 6, 8]      {1, 2, 3}\n",
       "7          Wind,23..30                    [7]             {}\n",
       "8         Humidity,low              [1, 2, 5]         {1, 2}\n",
       "9      Humidity,medium                 [3, 4]            {3}\n",
       "10       Humidity,high              [6, 7, 8]             {}\n",
       "11  Temperature,medium              [1, 3, 5]         {1, 3}\n",
       "12     Temperature,low                 [2, 6]            {2}\n",
       "13    Temperature,high              [4, 7, 8]             {}"
      ]
     },
     "execution_count": 30,
     "metadata": {},
     "output_type": "execute_result"
    }
   ],
   "source": [
    "df2"
   ]
  },
  {
   "cell_type": "code",
   "execution_count": null,
   "metadata": {},
   "outputs": [],
   "source": []
  }
 ],
 "metadata": {
  "kernelspec": {
   "display_name": "Python 3",
   "language": "python",
   "name": "python3"
  },
  "language_info": {
   "codemirror_mode": {
    "name": "ipython",
    "version": 3
   },
   "file_extension": ".py",
   "mimetype": "text/x-python",
   "name": "python",
   "nbconvert_exporter": "python",
   "pygments_lexer": "ipython3",
   "version": "3.6.6"
  }
 },
 "nbformat": 4,
 "nbformat_minor": 2
}
