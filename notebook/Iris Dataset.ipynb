{
 "cells": [
  {
   "cell_type": "markdown",
   "metadata": {},
   "source": [
    "## Handling Missing Attributes and Rule Induction on Iris Dataset !!"
   ]
  },
  {
   "cell_type": "code",
   "execution_count": 1,
   "metadata": {},
   "outputs": [],
   "source": [
    "import time\n",
    "import pandas as pd\n",
    "import numpy as np\n",
    "pd.set_option('display.max_rows', 200)\n",
    "from pandas.api.types import is_numeric_dtype\n",
    "from functools import reduce"
   ]
  },
  {
   "cell_type": "code",
   "execution_count": 2,
   "metadata": {},
   "outputs": [],
   "source": [
    "df = pd.read_csv('../data/Iris/Iris-5-lost.csv')"
   ]
  },
  {
   "cell_type": "code",
   "execution_count": 3,
   "metadata": {},
   "outputs": [
    {
     "data": {
      "text/html": [
       "<div>\n",
       "<style scoped>\n",
       "    .dataframe tbody tr th:only-of-type {\n",
       "        vertical-align: middle;\n",
       "    }\n",
       "\n",
       "    .dataframe tbody tr th {\n",
       "        vertical-align: top;\n",
       "    }\n",
       "\n",
       "    .dataframe thead th {\n",
       "        text-align: right;\n",
       "    }\n",
       "</style>\n",
       "<table border=\"1\" class=\"dataframe\">\n",
       "  <thead>\n",
       "    <tr style=\"text-align: right;\">\n",
       "      <th></th>\n",
       "      <th>sepal_length</th>\n",
       "      <th>sepal_width</th>\n",
       "      <th>petal_length</th>\n",
       "      <th>petal_width</th>\n",
       "      <th>class</th>\n",
       "    </tr>\n",
       "  </thead>\n",
       "  <tbody>\n",
       "    <tr>\n",
       "      <th>0</th>\n",
       "      <td>5.1</td>\n",
       "      <td>3.5</td>\n",
       "      <td>1.4</td>\n",
       "      <td>0.2</td>\n",
       "      <td>Iris-setosa</td>\n",
       "    </tr>\n",
       "    <tr>\n",
       "      <th>1</th>\n",
       "      <td>?</td>\n",
       "      <td>3</td>\n",
       "      <td>1.4</td>\n",
       "      <td>?</td>\n",
       "      <td>Iris-setosa</td>\n",
       "    </tr>\n",
       "    <tr>\n",
       "      <th>2</th>\n",
       "      <td>4.7</td>\n",
       "      <td>3.2</td>\n",
       "      <td>1.3</td>\n",
       "      <td>0.2</td>\n",
       "      <td>Iris-setosa</td>\n",
       "    </tr>\n",
       "    <tr>\n",
       "      <th>3</th>\n",
       "      <td>4.6</td>\n",
       "      <td>3.1</td>\n",
       "      <td>1.5</td>\n",
       "      <td>0.2</td>\n",
       "      <td>Iris-setosa</td>\n",
       "    </tr>\n",
       "    <tr>\n",
       "      <th>4</th>\n",
       "      <td>5</td>\n",
       "      <td>?</td>\n",
       "      <td>1.4</td>\n",
       "      <td>0.2</td>\n",
       "      <td>Iris-setosa</td>\n",
       "    </tr>\n",
       "    <tr>\n",
       "      <th>5</th>\n",
       "      <td>5.4</td>\n",
       "      <td>3.9</td>\n",
       "      <td>1.7</td>\n",
       "      <td>0.4</td>\n",
       "      <td>Iris-setosa</td>\n",
       "    </tr>\n",
       "    <tr>\n",
       "      <th>6</th>\n",
       "      <td>4.6</td>\n",
       "      <td>3.4</td>\n",
       "      <td>1.4</td>\n",
       "      <td>0.3</td>\n",
       "      <td>Iris-setosa</td>\n",
       "    </tr>\n",
       "    <tr>\n",
       "      <th>7</th>\n",
       "      <td>5</td>\n",
       "      <td>3.4</td>\n",
       "      <td>1.5</td>\n",
       "      <td>0.2</td>\n",
       "      <td>Iris-setosa</td>\n",
       "    </tr>\n",
       "    <tr>\n",
       "      <th>8</th>\n",
       "      <td>4.4</td>\n",
       "      <td>2.9</td>\n",
       "      <td>1.4</td>\n",
       "      <td>?</td>\n",
       "      <td>Iris-setosa</td>\n",
       "    </tr>\n",
       "    <tr>\n",
       "      <th>9</th>\n",
       "      <td>4.9</td>\n",
       "      <td>3.1</td>\n",
       "      <td>?</td>\n",
       "      <td>0.1</td>\n",
       "      <td>Iris-setosa</td>\n",
       "    </tr>\n",
       "  </tbody>\n",
       "</table>\n",
       "</div>"
      ],
      "text/plain": [
       "  sepal_length sepal_width petal_length petal_width        class\n",
       "0          5.1         3.5          1.4         0.2  Iris-setosa\n",
       "1            ?           3          1.4           ?  Iris-setosa\n",
       "2          4.7         3.2          1.3         0.2  Iris-setosa\n",
       "3          4.6         3.1          1.5         0.2  Iris-setosa\n",
       "4            5           ?          1.4         0.2  Iris-setosa\n",
       "5          5.4         3.9          1.7         0.4  Iris-setosa\n",
       "6          4.6         3.4          1.4         0.3  Iris-setosa\n",
       "7            5         3.4          1.5         0.2  Iris-setosa\n",
       "8          4.4         2.9          1.4           ?  Iris-setosa\n",
       "9          4.9         3.1            ?         0.1  Iris-setosa"
      ]
     },
     "execution_count": 3,
     "metadata": {},
     "output_type": "execute_result"
    }
   ],
   "source": [
    "df.head(10)"
   ]
  },
  {
   "cell_type": "markdown",
   "metadata": {},
   "source": [
    "### Filling up the missing attributes with Lost Value Interpretation !!"
   ]
  },
  {
   "cell_type": "markdown",
   "metadata": {},
   "source": [
    "#### Defining Goal Set !!"
   ]
  },
  {
   "cell_type": "code",
   "execution_count": 4,
   "metadata": {},
   "outputs": [
    {
     "data": {
      "text/plain": [
       "'class'"
      ]
     },
     "execution_count": 4,
     "metadata": {},
     "output_type": "execute_result"
    }
   ],
   "source": [
    "df_headers = list(df)\n",
    "concept = df_headers[-1]\n",
    "concept"
   ]
  },
  {
   "cell_type": "code",
   "execution_count": 5,
   "metadata": {},
   "outputs": [
    {
     "data": {
      "text/plain": [
       "array(['Iris-setosa', 'Iris-versicolor', 'Iris-viginica'], dtype=object)"
      ]
     },
     "execution_count": 5,
     "metadata": {},
     "output_type": "execute_result"
    }
   ],
   "source": [
    "#all unique concepts\n",
    "concept_list = df[concept].unique()\n",
    "concept_list"
   ]
  },
  {
   "cell_type": "code",
   "execution_count": 6,
   "metadata": {},
   "outputs": [],
   "source": [
    "#calculating cases by concepts and making sets\n",
    "U = [] #universal list containing all cases\n",
    "temp_list = []\n",
    "goal_list = []\n",
    "for item in concept_list:\n",
    "    for index, row in df.iterrows():\n",
    "        U.append(index+1)\n",
    "        if row[concept] == item:\n",
    "            temp_list.append(index)\n",
    "    goal_list.append(temp_list)\n",
    "    temp_list = []"
   ]
  },
  {
   "cell_type": "code",
   "execution_count": 7,
   "metadata": {},
   "outputs": [
    {
     "name": "stdout",
     "output_type": "stream",
     "text": [
      "[[0, 1, 2, 3, 4, 5, 6, 7, 8, 9, 10, 11, 12, 13, 14, 15, 16, 17, 18, 19, 20, 21, 22, 23, 24, 25, 26, 27, 28, 29, 30, 31, 32, 33, 34, 35, 36, 37, 38, 39, 40, 41, 42, 43, 44, 45, 46, 47, 48, 49], [50, 51, 52, 53, 54, 55, 56, 57, 58, 59, 60, 61, 62, 63, 64, 65, 66, 67, 68, 69, 70, 71, 72, 73, 74, 75, 76, 77, 78, 79, 80, 81, 82, 83, 84, 85, 86, 87, 88, 89, 90, 91, 92, 93, 94, 95, 96, 97, 98, 99], [100, 101, 102, 103, 104, 105, 106, 107, 108, 109, 110, 111, 112, 113, 114, 115, 116, 117, 118, 119, 120, 121, 122, 123, 124, 125, 126, 127, 128, 129, 130, 131, 132, 133, 134, 135, 136, 137, 138, 139, 140, 141, 142, 143, 144, 145, 146, 147, 148, 149]]\n"
     ]
    }
   ],
   "source": [
    "print(goal_list,)"
   ]
  },
  {
   "cell_type": "markdown",
   "metadata": {},
   "source": [
    "#### Building Case List !!"
   ]
  },
  {
   "cell_type": "code",
   "execution_count": 8,
   "metadata": {},
   "outputs": [
    {
     "data": {
      "text/plain": [
       "['sepal_length', 'sepal_width', 'petal_length', 'petal_width', 'class']"
      ]
     },
     "execution_count": 8,
     "metadata": {},
     "output_type": "execute_result"
    }
   ],
   "source": [
    "attributes = list(df)\n",
    "attributes"
   ]
  },
  {
   "cell_type": "code",
   "execution_count": 9,
   "metadata": {},
   "outputs": [],
   "source": [
    "case_list = []"
   ]
  },
  {
   "cell_type": "code",
   "execution_count": 10,
   "metadata": {},
   "outputs": [],
   "source": [
    "def discretize(numeric_col):\n",
    "    print(numeric_col)\n",
    "    #Sorting the values of numeric column\n",
    "    sort_col = df[numeric_col].sort_values()\n",
    "   \n",
    "    df['sort_col'] = sort_col.values\n",
    "    point_list = df['sort_col'].unique()\n",
    "    point_list = list(point_list)\n",
    "    point_list.remove('?')\n",
    "    print(point_list)\n",
    "    \n",
    "    #Finding average between each two points\n",
    "    avg_list = []\n",
    "    for i in range(len(point_list)-1):\n",
    "        avg = (float(point_list[i]) + float(point_list[i+1]))/2\n",
    "        avg_list.append(round(float(avg),1))\n",
    "        \n",
    "    print (avg_list)\n",
    "    #Performing the discretization and adding the cases\n",
    "    for i in avg_list:\n",
    "        case = str(numeric_col) + \",\" + str(round(float(point_list[0]),1)) + \"..\" + str(i)\n",
    "        case2 = str(numeric_col) + \",\" + str(i) + \"..\" + str(round(float(point_list[len(point_list)-1]),1))\n",
    "        case_list.append(case)\n",
    "        case_list.append(case2)"
   ]
  },
  {
   "cell_type": "code",
   "execution_count": 11,
   "metadata": {},
   "outputs": [
    {
     "name": "stdout",
     "output_type": "stream",
     "text": [
      "sepal_length\n",
      "['4.3', '4.4', '4.5', '4.6', '4.7', '4.8', '4.9', '5', '5.1', '5.2', '5.3', '5.4', '5.5', '5.6', '5.7', '5.8', '5.9', '6', '6.1', '6.2', '6.3', '6.4', '6.5', '6.6', '6.7', '6.8', '6.9', '7', '7.1', '7.2', '7.3', '7.4', '7.6', '7.7', '7.9']\n",
      "[4.3, 4.5, 4.5, 4.7, 4.8, 4.8, 5.0, 5.0, 5.2, 5.2, 5.3, 5.5, 5.5, 5.7, 5.8, 5.8, 6.0, 6.0, 6.2, 6.2, 6.3, 6.5, 6.5, 6.7, 6.8, 6.8, 7.0, 7.0, 7.2, 7.2, 7.3, 7.5, 7.7, 7.8]\n",
      "sepal_width\n",
      "['2', '2.2', '2.3', '2.4', '2.5', '2.6', '2.7', '2.8', '2.9', '3', '3.1', '3.2', '3.3', '3.4', '3.5', '3.6', '3.7', '3.8', '3.9', '4', '4.1', '4.2', '4.4']\n",
      "[2.1, 2.2, 2.3, 2.5, 2.5, 2.7, 2.8, 2.8, 3.0, 3.0, 3.2, 3.2, 3.3, 3.5, 3.5, 3.7, 3.8, 3.8, 4.0, 4.0, 4.2, 4.3]\n",
      "petal_length\n",
      "['1', '1.1', '1.2', '1.3', '1.4', '1.5', '1.6', '1.7', '1.9', '3', '3.3', '3.5', '3.6', '3.7', '3.8', '3.9', '4', '4.1', '4.2', '4.3', '4.4', '4.5', '4.6', '4.7', '4.8', '4.9', '5', '5.1', '5.2', '5.3', '5.4', '5.5', '5.6', '5.7', '5.8', '5.9', '6', '6.1', '6.3', '6.4', '6.6', '6.7', '6.9']\n",
      "[1.1, 1.1, 1.2, 1.4, 1.4, 1.6, 1.6, 1.8, 2.5, 3.1, 3.4, 3.5, 3.7, 3.8, 3.8, 4.0, 4.0, 4.2, 4.2, 4.3, 4.5, 4.5, 4.7, 4.8, 4.8, 5.0, 5.0, 5.2, 5.2, 5.3, 5.5, 5.5, 5.7, 5.8, 5.8, 6.0, 6.0, 6.2, 6.3, 6.5, 6.7, 6.8]\n",
      "petal_width\n",
      "['0.1', '0.2', '0.3', '0.4', '0.5', '0.6', '1', '1.1', '1.2', '1.3', '1.4', '1.5', '1.6', '1.7', '1.8', '1.9', '2', '2.1', '2.2', '2.3', '2.4', '2.5']\n",
      "[0.2, 0.2, 0.3, 0.5, 0.6, 0.8, 1.1, 1.1, 1.2, 1.4, 1.4, 1.6, 1.6, 1.8, 1.9, 1.9, 2.0, 2.2, 2.2, 2.3, 2.5]\n"
     ]
    }
   ],
   "source": [
    "#Discretization considering upto 2 decimal point\n",
    "for item in attributes[:-1]:\n",
    "        discretize(item)"
   ]
  },
  {
   "cell_type": "code",
   "execution_count": 12,
   "metadata": {},
   "outputs": [
    {
     "data": {
      "text/plain": [
       "['sepal_length,4.3..4.3',\n",
       " 'sepal_length,4.3..7.9',\n",
       " 'sepal_length,4.3..4.5',\n",
       " 'sepal_length,4.5..7.9',\n",
       " 'sepal_length,4.3..4.5',\n",
       " 'sepal_length,4.5..7.9',\n",
       " 'sepal_length,4.3..4.7',\n",
       " 'sepal_length,4.7..7.9',\n",
       " 'sepal_length,4.3..4.8',\n",
       " 'sepal_length,4.8..7.9',\n",
       " 'sepal_length,4.3..4.8',\n",
       " 'sepal_length,4.8..7.9',\n",
       " 'sepal_length,4.3..5.0',\n",
       " 'sepal_length,5.0..7.9',\n",
       " 'sepal_length,4.3..5.0',\n",
       " 'sepal_length,5.0..7.9',\n",
       " 'sepal_length,4.3..5.2',\n",
       " 'sepal_length,5.2..7.9',\n",
       " 'sepal_length,4.3..5.2',\n",
       " 'sepal_length,5.2..7.9',\n",
       " 'sepal_length,4.3..5.3',\n",
       " 'sepal_length,5.3..7.9',\n",
       " 'sepal_length,4.3..5.5',\n",
       " 'sepal_length,5.5..7.9',\n",
       " 'sepal_length,4.3..5.5',\n",
       " 'sepal_length,5.5..7.9',\n",
       " 'sepal_length,4.3..5.7',\n",
       " 'sepal_length,5.7..7.9',\n",
       " 'sepal_length,4.3..5.8',\n",
       " 'sepal_length,5.8..7.9',\n",
       " 'sepal_length,4.3..5.8',\n",
       " 'sepal_length,5.8..7.9',\n",
       " 'sepal_length,4.3..6.0',\n",
       " 'sepal_length,6.0..7.9',\n",
       " 'sepal_length,4.3..6.0',\n",
       " 'sepal_length,6.0..7.9',\n",
       " 'sepal_length,4.3..6.2',\n",
       " 'sepal_length,6.2..7.9',\n",
       " 'sepal_length,4.3..6.2',\n",
       " 'sepal_length,6.2..7.9',\n",
       " 'sepal_length,4.3..6.3',\n",
       " 'sepal_length,6.3..7.9',\n",
       " 'sepal_length,4.3..6.5',\n",
       " 'sepal_length,6.5..7.9',\n",
       " 'sepal_length,4.3..6.5',\n",
       " 'sepal_length,6.5..7.9',\n",
       " 'sepal_length,4.3..6.7',\n",
       " 'sepal_length,6.7..7.9',\n",
       " 'sepal_length,4.3..6.8',\n",
       " 'sepal_length,6.8..7.9',\n",
       " 'sepal_length,4.3..6.8',\n",
       " 'sepal_length,6.8..7.9',\n",
       " 'sepal_length,4.3..7.0',\n",
       " 'sepal_length,7.0..7.9',\n",
       " 'sepal_length,4.3..7.0',\n",
       " 'sepal_length,7.0..7.9',\n",
       " 'sepal_length,4.3..7.2',\n",
       " 'sepal_length,7.2..7.9',\n",
       " 'sepal_length,4.3..7.2',\n",
       " 'sepal_length,7.2..7.9',\n",
       " 'sepal_length,4.3..7.3',\n",
       " 'sepal_length,7.3..7.9',\n",
       " 'sepal_length,4.3..7.5',\n",
       " 'sepal_length,7.5..7.9',\n",
       " 'sepal_length,4.3..7.7',\n",
       " 'sepal_length,7.7..7.9',\n",
       " 'sepal_length,4.3..7.8',\n",
       " 'sepal_length,7.8..7.9',\n",
       " 'sepal_width,2.0..2.1',\n",
       " 'sepal_width,2.1..4.4',\n",
       " 'sepal_width,2.0..2.2',\n",
       " 'sepal_width,2.2..4.4',\n",
       " 'sepal_width,2.0..2.3',\n",
       " 'sepal_width,2.3..4.4',\n",
       " 'sepal_width,2.0..2.5',\n",
       " 'sepal_width,2.5..4.4',\n",
       " 'sepal_width,2.0..2.5',\n",
       " 'sepal_width,2.5..4.4',\n",
       " 'sepal_width,2.0..2.7',\n",
       " 'sepal_width,2.7..4.4',\n",
       " 'sepal_width,2.0..2.8',\n",
       " 'sepal_width,2.8..4.4',\n",
       " 'sepal_width,2.0..2.8',\n",
       " 'sepal_width,2.8..4.4',\n",
       " 'sepal_width,2.0..3.0',\n",
       " 'sepal_width,3.0..4.4',\n",
       " 'sepal_width,2.0..3.0',\n",
       " 'sepal_width,3.0..4.4',\n",
       " 'sepal_width,2.0..3.2',\n",
       " 'sepal_width,3.2..4.4',\n",
       " 'sepal_width,2.0..3.2',\n",
       " 'sepal_width,3.2..4.4',\n",
       " 'sepal_width,2.0..3.3',\n",
       " 'sepal_width,3.3..4.4',\n",
       " 'sepal_width,2.0..3.5',\n",
       " 'sepal_width,3.5..4.4',\n",
       " 'sepal_width,2.0..3.5',\n",
       " 'sepal_width,3.5..4.4',\n",
       " 'sepal_width,2.0..3.7',\n",
       " 'sepal_width,3.7..4.4',\n",
       " 'sepal_width,2.0..3.8',\n",
       " 'sepal_width,3.8..4.4',\n",
       " 'sepal_width,2.0..3.8',\n",
       " 'sepal_width,3.8..4.4',\n",
       " 'sepal_width,2.0..4.0',\n",
       " 'sepal_width,4.0..4.4',\n",
       " 'sepal_width,2.0..4.0',\n",
       " 'sepal_width,4.0..4.4',\n",
       " 'sepal_width,2.0..4.2',\n",
       " 'sepal_width,4.2..4.4',\n",
       " 'sepal_width,2.0..4.3',\n",
       " 'sepal_width,4.3..4.4',\n",
       " 'petal_length,1.0..1.1',\n",
       " 'petal_length,1.1..6.9',\n",
       " 'petal_length,1.0..1.1',\n",
       " 'petal_length,1.1..6.9',\n",
       " 'petal_length,1.0..1.2',\n",
       " 'petal_length,1.2..6.9',\n",
       " 'petal_length,1.0..1.4',\n",
       " 'petal_length,1.4..6.9',\n",
       " 'petal_length,1.0..1.4',\n",
       " 'petal_length,1.4..6.9',\n",
       " 'petal_length,1.0..1.6',\n",
       " 'petal_length,1.6..6.9',\n",
       " 'petal_length,1.0..1.6',\n",
       " 'petal_length,1.6..6.9',\n",
       " 'petal_length,1.0..1.8',\n",
       " 'petal_length,1.8..6.9',\n",
       " 'petal_length,1.0..2.5',\n",
       " 'petal_length,2.5..6.9',\n",
       " 'petal_length,1.0..3.1',\n",
       " 'petal_length,3.1..6.9',\n",
       " 'petal_length,1.0..3.4',\n",
       " 'petal_length,3.4..6.9',\n",
       " 'petal_length,1.0..3.5',\n",
       " 'petal_length,3.5..6.9',\n",
       " 'petal_length,1.0..3.7',\n",
       " 'petal_length,3.7..6.9',\n",
       " 'petal_length,1.0..3.8',\n",
       " 'petal_length,3.8..6.9',\n",
       " 'petal_length,1.0..3.8',\n",
       " 'petal_length,3.8..6.9',\n",
       " 'petal_length,1.0..4.0',\n",
       " 'petal_length,4.0..6.9',\n",
       " 'petal_length,1.0..4.0',\n",
       " 'petal_length,4.0..6.9',\n",
       " 'petal_length,1.0..4.2',\n",
       " 'petal_length,4.2..6.9',\n",
       " 'petal_length,1.0..4.2',\n",
       " 'petal_length,4.2..6.9',\n",
       " 'petal_length,1.0..4.3',\n",
       " 'petal_length,4.3..6.9',\n",
       " 'petal_length,1.0..4.5',\n",
       " 'petal_length,4.5..6.9',\n",
       " 'petal_length,1.0..4.5',\n",
       " 'petal_length,4.5..6.9',\n",
       " 'petal_length,1.0..4.7',\n",
       " 'petal_length,4.7..6.9',\n",
       " 'petal_length,1.0..4.8',\n",
       " 'petal_length,4.8..6.9',\n",
       " 'petal_length,1.0..4.8',\n",
       " 'petal_length,4.8..6.9',\n",
       " 'petal_length,1.0..5.0',\n",
       " 'petal_length,5.0..6.9',\n",
       " 'petal_length,1.0..5.0',\n",
       " 'petal_length,5.0..6.9',\n",
       " 'petal_length,1.0..5.2',\n",
       " 'petal_length,5.2..6.9',\n",
       " 'petal_length,1.0..5.2',\n",
       " 'petal_length,5.2..6.9',\n",
       " 'petal_length,1.0..5.3',\n",
       " 'petal_length,5.3..6.9',\n",
       " 'petal_length,1.0..5.5',\n",
       " 'petal_length,5.5..6.9',\n",
       " 'petal_length,1.0..5.5',\n",
       " 'petal_length,5.5..6.9',\n",
       " 'petal_length,1.0..5.7',\n",
       " 'petal_length,5.7..6.9',\n",
       " 'petal_length,1.0..5.8',\n",
       " 'petal_length,5.8..6.9',\n",
       " 'petal_length,1.0..5.8',\n",
       " 'petal_length,5.8..6.9',\n",
       " 'petal_length,1.0..6.0',\n",
       " 'petal_length,6.0..6.9',\n",
       " 'petal_length,1.0..6.0',\n",
       " 'petal_length,6.0..6.9',\n",
       " 'petal_length,1.0..6.2',\n",
       " 'petal_length,6.2..6.9',\n",
       " 'petal_length,1.0..6.3',\n",
       " 'petal_length,6.3..6.9',\n",
       " 'petal_length,1.0..6.5',\n",
       " 'petal_length,6.5..6.9',\n",
       " 'petal_length,1.0..6.7',\n",
       " 'petal_length,6.7..6.9',\n",
       " 'petal_length,1.0..6.8',\n",
       " 'petal_length,6.8..6.9',\n",
       " 'petal_width,0.1..0.2',\n",
       " 'petal_width,0.2..2.5',\n",
       " 'petal_width,0.1..0.2',\n",
       " 'petal_width,0.2..2.5',\n",
       " 'petal_width,0.1..0.3',\n",
       " 'petal_width,0.3..2.5',\n",
       " 'petal_width,0.1..0.5',\n",
       " 'petal_width,0.5..2.5',\n",
       " 'petal_width,0.1..0.6',\n",
       " 'petal_width,0.6..2.5',\n",
       " 'petal_width,0.1..0.8',\n",
       " 'petal_width,0.8..2.5',\n",
       " 'petal_width,0.1..1.1',\n",
       " 'petal_width,1.1..2.5',\n",
       " 'petal_width,0.1..1.1',\n",
       " 'petal_width,1.1..2.5',\n",
       " 'petal_width,0.1..1.2',\n",
       " 'petal_width,1.2..2.5',\n",
       " 'petal_width,0.1..1.4',\n",
       " 'petal_width,1.4..2.5',\n",
       " 'petal_width,0.1..1.4',\n",
       " 'petal_width,1.4..2.5',\n",
       " 'petal_width,0.1..1.6',\n",
       " 'petal_width,1.6..2.5',\n",
       " 'petal_width,0.1..1.6',\n",
       " 'petal_width,1.6..2.5',\n",
       " 'petal_width,0.1..1.8',\n",
       " 'petal_width,1.8..2.5',\n",
       " 'petal_width,0.1..1.9',\n",
       " 'petal_width,1.9..2.5',\n",
       " 'petal_width,0.1..1.9',\n",
       " 'petal_width,1.9..2.5',\n",
       " 'petal_width,0.1..2.0',\n",
       " 'petal_width,2.0..2.5',\n",
       " 'petal_width,0.1..2.2',\n",
       " 'petal_width,2.2..2.5',\n",
       " 'petal_width,0.1..2.2',\n",
       " 'petal_width,2.2..2.5',\n",
       " 'petal_width,0.1..2.3',\n",
       " 'petal_width,2.3..2.5',\n",
       " 'petal_width,0.1..2.5',\n",
       " 'petal_width,2.5..2.5']"
      ]
     },
     "execution_count": 12,
     "metadata": {},
     "output_type": "execute_result"
    }
   ],
   "source": [
    "case_list"
   ]
  },
  {
   "cell_type": "markdown",
   "metadata": {},
   "source": [
    "#### Handle Missing Attributes !!"
   ]
  },
  {
   "cell_type": "code",
   "execution_count": null,
   "metadata": {},
   "outputs": [],
   "source": []
  }
 ],
 "metadata": {
  "kernelspec": {
   "display_name": "Python 3",
   "language": "python",
   "name": "python3"
  },
  "language_info": {
   "codemirror_mode": {
    "name": "ipython",
    "version": 3
   },
   "file_extension": ".py",
   "mimetype": "text/x-python",
   "name": "python",
   "nbconvert_exporter": "python",
   "pygments_lexer": "ipython3",
   "version": "3.6.6"
  }
 },
 "nbformat": 4,
 "nbformat_minor": 2
}
