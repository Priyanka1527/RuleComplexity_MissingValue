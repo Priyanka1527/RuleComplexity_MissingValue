{
 "cells": [
  {
   "cell_type": "code",
   "execution_count": 1,
   "metadata": {},
   "outputs": [],
   "source": [
    "import time\n",
    "import pandas as pd\n",
    "import numpy as np\n",
    "pd.set_option('display.max_rows', 200)\n",
    "from pandas.api.types import is_numeric_dtype\n",
    "from functools import reduce"
   ]
  },
  {
   "cell_type": "code",
   "execution_count": 2,
   "metadata": {},
   "outputs": [],
   "source": [
    "df = pd.read_csv('../data/test_education.csv')"
   ]
  },
  {
   "cell_type": "code",
   "execution_count": 3,
   "metadata": {},
   "outputs": [],
   "source": [
    "df = df.drop(['Case'],axis=1)"
   ]
  },
  {
   "cell_type": "code",
   "execution_count": 4,
   "metadata": {},
   "outputs": [
    {
     "data": {
      "text/html": [
       "<div>\n",
       "<style scoped>\n",
       "    .dataframe tbody tr th:only-of-type {\n",
       "        vertical-align: middle;\n",
       "    }\n",
       "\n",
       "    .dataframe tbody tr th {\n",
       "        vertical-align: top;\n",
       "    }\n",
       "\n",
       "    .dataframe thead th {\n",
       "        text-align: right;\n",
       "    }\n",
       "</style>\n",
       "<table border=\"1\" class=\"dataframe\">\n",
       "  <thead>\n",
       "    <tr style=\"text-align: right;\">\n",
       "      <th></th>\n",
       "      <th>Education</th>\n",
       "      <th>Skills</th>\n",
       "      <th>Experience</th>\n",
       "      <th>Productivity</th>\n",
       "    </tr>\n",
       "  </thead>\n",
       "  <tbody>\n",
       "    <tr>\n",
       "      <th>0</th>\n",
       "      <td>higher</td>\n",
       "      <td>high</td>\n",
       "      <td>-</td>\n",
       "      <td>high</td>\n",
       "    </tr>\n",
       "    <tr>\n",
       "      <th>1</th>\n",
       "      <td>?</td>\n",
       "      <td>high</td>\n",
       "      <td>low</td>\n",
       "      <td>high</td>\n",
       "    </tr>\n",
       "    <tr>\n",
       "      <th>2</th>\n",
       "      <td>secondary</td>\n",
       "      <td>-</td>\n",
       "      <td>high</td>\n",
       "      <td>high</td>\n",
       "    </tr>\n",
       "    <tr>\n",
       "      <th>3</th>\n",
       "      <td>higher</td>\n",
       "      <td>?</td>\n",
       "      <td>high</td>\n",
       "      <td>high</td>\n",
       "    </tr>\n",
       "    <tr>\n",
       "      <th>4</th>\n",
       "      <td>elementary</td>\n",
       "      <td>high</td>\n",
       "      <td>low</td>\n",
       "      <td>low</td>\n",
       "    </tr>\n",
       "    <tr>\n",
       "      <th>5</th>\n",
       "      <td>secondary</td>\n",
       "      <td>-</td>\n",
       "      <td>high</td>\n",
       "      <td>low</td>\n",
       "    </tr>\n",
       "    <tr>\n",
       "      <th>6</th>\n",
       "      <td>-</td>\n",
       "      <td>low</td>\n",
       "      <td>high</td>\n",
       "      <td>low</td>\n",
       "    </tr>\n",
       "    <tr>\n",
       "      <th>7</th>\n",
       "      <td>elementary</td>\n",
       "      <td>?</td>\n",
       "      <td>-</td>\n",
       "      <td>low</td>\n",
       "    </tr>\n",
       "  </tbody>\n",
       "</table>\n",
       "</div>"
      ],
      "text/plain": [
       "    Education Skills Experience Productivity\n",
       "0      higher   high          -         high\n",
       "1           ?   high        low         high\n",
       "2   secondary      -       high         high\n",
       "3      higher      ?       high         high\n",
       "4  elementary   high        low          low\n",
       "5   secondary      -       high          low\n",
       "6           -    low       high          low\n",
       "7  elementary      ?          -          low"
      ]
     },
     "execution_count": 4,
     "metadata": {},
     "output_type": "execute_result"
    }
   ],
   "source": [
    "df"
   ]
  },
  {
   "cell_type": "markdown",
   "metadata": {},
   "source": [
    "### Attribute-Concept Values used to fill up Incomplete Data !!"
   ]
  },
  {
   "cell_type": "markdown",
   "metadata": {},
   "source": [
    "#### Defining Goal Set !!"
   ]
  },
  {
   "cell_type": "code",
   "execution_count": 5,
   "metadata": {},
   "outputs": [
    {
     "data": {
      "text/plain": [
       "'Productivity'"
      ]
     },
     "execution_count": 5,
     "metadata": {},
     "output_type": "execute_result"
    }
   ],
   "source": [
    "df_headers = list(df)\n",
    "concept = df_headers[-1]\n",
    "concept"
   ]
  },
  {
   "cell_type": "code",
   "execution_count": 6,
   "metadata": {},
   "outputs": [
    {
     "data": {
      "text/plain": [
       "array(['high', 'low'], dtype=object)"
      ]
     },
     "execution_count": 6,
     "metadata": {},
     "output_type": "execute_result"
    }
   ],
   "source": [
    "#all unique concepts\n",
    "concept_list = df[concept].unique()\n",
    "concept_list"
   ]
  },
  {
   "cell_type": "code",
   "execution_count": 7,
   "metadata": {},
   "outputs": [],
   "source": [
    "#calculating cases by concepts and making sets\n",
    "U = [] #universal list containing all cases\n",
    "temp_list = []\n",
    "goal_list = []\n",
    "for item in concept_list:\n",
    "    for index, row in df.iterrows():\n",
    "        U.append(index+1)\n",
    "        if row[concept] == item:\n",
    "            temp_list.append(index)\n",
    "    goal_list.append(temp_list)\n",
    "    temp_list = []"
   ]
  },
  {
   "cell_type": "code",
   "execution_count": 8,
   "metadata": {},
   "outputs": [
    {
     "data": {
      "text/plain": [
       "[[0, 1, 2, 3], [4, 5, 6, 7]]"
      ]
     },
     "execution_count": 8,
     "metadata": {},
     "output_type": "execute_result"
    }
   ],
   "source": [
    "goal_list"
   ]
  },
  {
   "cell_type": "markdown",
   "metadata": {},
   "source": [
    "#### Building Case List !!"
   ]
  },
  {
   "cell_type": "code",
   "execution_count": 9,
   "metadata": {},
   "outputs": [],
   "source": [
    "# Case list is built here as it's not needed att-concept or lost value handling to do so"
   ]
  },
  {
   "cell_type": "code",
   "execution_count": 10,
   "metadata": {},
   "outputs": [
    {
     "data": {
      "text/plain": [
       "['Education', 'Skills', 'Experience', 'Productivity']"
      ]
     },
     "execution_count": 10,
     "metadata": {},
     "output_type": "execute_result"
    }
   ],
   "source": [
    "attributes = list(df)\n",
    "attributes"
   ]
  },
  {
   "cell_type": "code",
   "execution_count": 11,
   "metadata": {},
   "outputs": [
    {
     "name": "stdout",
     "output_type": "stream",
     "text": [
      "Education\n",
      "Skills\n",
      "Experience\n"
     ]
    }
   ],
   "source": [
    "case_list = []\n",
    "#Loop through all the attributes except last 2 - Concept and sort_col\n",
    "for item in attributes[:-1]:\n",
    "    print(item)\n",
    "    \n",
    "    #check for non numeric columns\n",
    "    if not is_numeric_dtype(df[item]):\n",
    "        temp = df[item].unique()\n",
    "        for i in temp:\n",
    "            if i == '?' or i == '-':\n",
    "                continue\n",
    "            else:\n",
    "                case = item + \",\" + i\n",
    "                case_list.append(case)"
   ]
  },
  {
   "cell_type": "code",
   "execution_count": 12,
   "metadata": {},
   "outputs": [
    {
     "data": {
      "text/plain": [
       "['Education,higher',\n",
       " 'Education,secondary',\n",
       " 'Education,elementary',\n",
       " 'Skills,high',\n",
       " 'Skills,low',\n",
       " 'Experience,low',\n",
       " 'Experience,high']"
      ]
     },
     "execution_count": 12,
     "metadata": {},
     "output_type": "execute_result"
    }
   ],
   "source": [
    "case_list"
   ]
  },
  {
   "cell_type": "code",
   "execution_count": 13,
   "metadata": {},
   "outputs": [],
   "source": [
    "#Don't copy dataframes using assignment operator e.g. df=df2 \n",
    "#as it'll modify the other dataframe if we attempt to edit one\n",
    "#hence use copy() function\n",
    "\n",
    "df2 = df.copy()"
   ]
  },
  {
   "cell_type": "markdown",
   "metadata": {},
   "source": [
    "#### Start of handling Missing attribute !!"
   ]
  },
  {
   "cell_type": "code",
   "execution_count": 14,
   "metadata": {},
   "outputs": [
    {
     "name": "stdout",
     "output_type": "stream",
     "text": [
      "Education 6\n",
      "low\n",
      "[4, 5, 6, 7]\n",
      "['elementary', 'secondary']\n",
      "\n",
      "\n",
      "Skills 2\n",
      "high\n",
      "[0, 1, 2, 3]\n",
      "['high']\n",
      "Skills 5\n",
      "low\n",
      "[4, 5, 6, 7]\n",
      "['high', 'low']\n",
      "\n",
      "\n",
      "Experience 0\n",
      "high\n",
      "[0, 1, 2, 3]\n",
      "['low', 'high']\n",
      "Experience 7\n",
      "low\n",
      "[4, 5, 6, 7]\n",
      "['low', 'high']\n",
      "\n",
      "\n",
      "\n",
      "\n"
     ]
    }
   ],
   "source": [
    "for col in df:\n",
    "    for i, row_value in df[col].iteritems():\n",
    "        \n",
    "        #This is for attribute-concept value interpretation\n",
    "        #For Lost value interpretation, we don't add that case to any block at all\n",
    "        if row_value == '-':\n",
    "            \n",
    "            final_values = []\n",
    "            print(col,i)\n",
    "            concept_tmp = df[concept][i]\n",
    "            print(concept_tmp)\n",
    "            \n",
    "            for item_list in goal_list:\n",
    "                if i in item_list:\n",
    "                    final_values = item_list\n",
    "                    \n",
    "            print (final_values)\n",
    "            \n",
    "            #Taking out all unique cases corresponding to the matched concept\n",
    "            col_values = []\n",
    "            for item in final_values:\n",
    "                col_values.append(df[col][item])\n",
    "        \n",
    "            \n",
    "            uniqueList = []\n",
    "            for letter in col_values:\n",
    "                if letter not in uniqueList:\n",
    "                    uniqueList.append(letter)\n",
    "            \n",
    "            if '-' in uniqueList:\n",
    "                uniqueList.remove('-')\n",
    "                \n",
    "            if '?' in uniqueList:\n",
    "                uniqueList.remove('?')\n",
    "            print(uniqueList)\n",
    "            \n",
    "#             print(df.loc[i,col])\n",
    "            df2.at[i, col] = uniqueList\n",
    "            \n",
    "    print(\"\\n\")"
   ]
  },
  {
   "cell_type": "code",
   "execution_count": 15,
   "metadata": {},
   "outputs": [
    {
     "data": {
      "text/html": [
       "<div>\n",
       "<style scoped>\n",
       "    .dataframe tbody tr th:only-of-type {\n",
       "        vertical-align: middle;\n",
       "    }\n",
       "\n",
       "    .dataframe tbody tr th {\n",
       "        vertical-align: top;\n",
       "    }\n",
       "\n",
       "    .dataframe thead th {\n",
       "        text-align: right;\n",
       "    }\n",
       "</style>\n",
       "<table border=\"1\" class=\"dataframe\">\n",
       "  <thead>\n",
       "    <tr style=\"text-align: right;\">\n",
       "      <th></th>\n",
       "      <th>Education</th>\n",
       "      <th>Skills</th>\n",
       "      <th>Experience</th>\n",
       "      <th>Productivity</th>\n",
       "    </tr>\n",
       "  </thead>\n",
       "  <tbody>\n",
       "    <tr>\n",
       "      <th>0</th>\n",
       "      <td>higher</td>\n",
       "      <td>high</td>\n",
       "      <td>[low, high]</td>\n",
       "      <td>high</td>\n",
       "    </tr>\n",
       "    <tr>\n",
       "      <th>1</th>\n",
       "      <td>?</td>\n",
       "      <td>high</td>\n",
       "      <td>low</td>\n",
       "      <td>high</td>\n",
       "    </tr>\n",
       "    <tr>\n",
       "      <th>2</th>\n",
       "      <td>secondary</td>\n",
       "      <td>[high]</td>\n",
       "      <td>high</td>\n",
       "      <td>high</td>\n",
       "    </tr>\n",
       "    <tr>\n",
       "      <th>3</th>\n",
       "      <td>higher</td>\n",
       "      <td>?</td>\n",
       "      <td>high</td>\n",
       "      <td>high</td>\n",
       "    </tr>\n",
       "    <tr>\n",
       "      <th>4</th>\n",
       "      <td>elementary</td>\n",
       "      <td>high</td>\n",
       "      <td>low</td>\n",
       "      <td>low</td>\n",
       "    </tr>\n",
       "    <tr>\n",
       "      <th>5</th>\n",
       "      <td>secondary</td>\n",
       "      <td>[high, low]</td>\n",
       "      <td>high</td>\n",
       "      <td>low</td>\n",
       "    </tr>\n",
       "    <tr>\n",
       "      <th>6</th>\n",
       "      <td>[elementary, secondary]</td>\n",
       "      <td>low</td>\n",
       "      <td>high</td>\n",
       "      <td>low</td>\n",
       "    </tr>\n",
       "    <tr>\n",
       "      <th>7</th>\n",
       "      <td>elementary</td>\n",
       "      <td>?</td>\n",
       "      <td>[low, high]</td>\n",
       "      <td>low</td>\n",
       "    </tr>\n",
       "  </tbody>\n",
       "</table>\n",
       "</div>"
      ],
      "text/plain": [
       "                 Education       Skills   Experience Productivity\n",
       "0                   higher         high  [low, high]         high\n",
       "1                        ?         high          low         high\n",
       "2                secondary       [high]         high         high\n",
       "3                   higher            ?         high         high\n",
       "4               elementary         high          low          low\n",
       "5                secondary  [high, low]         high          low\n",
       "6  [elementary, secondary]          low         high          low\n",
       "7               elementary            ?  [low, high]          low"
      ]
     },
     "execution_count": 15,
     "metadata": {},
     "output_type": "execute_result"
    }
   ],
   "source": [
    "df2"
   ]
  },
  {
   "cell_type": "code",
   "execution_count": 16,
   "metadata": {},
   "outputs": [],
   "source": [
    "df = df2.copy()"
   ]
  },
  {
   "cell_type": "code",
   "execution_count": 17,
   "metadata": {},
   "outputs": [],
   "source": [
    "df_headers = list(df)\n",
    "concept = df_headers[-1]\n",
    "concept_list = df[concept].unique()"
   ]
  },
  {
   "cell_type": "code",
   "execution_count": 18,
   "metadata": {},
   "outputs": [
    {
     "data": {
      "text/plain": [
       "array(['high', 'low'], dtype=object)"
      ]
     },
     "execution_count": 18,
     "metadata": {},
     "output_type": "execute_result"
    }
   ],
   "source": [
    "concept_list"
   ]
  },
  {
   "cell_type": "code",
   "execution_count": 19,
   "metadata": {},
   "outputs": [],
   "source": [
    "#calculating cases by concepts and making sets\n",
    "temp_list = []\n",
    "goal_list = []\n",
    "for item in concept_list:\n",
    "    for index, row in df.iterrows():\n",
    "        if row[concept] == item:\n",
    "            temp_list.append(index+1)\n",
    "    goal_list.append(temp_list)\n",
    "    temp_list = []"
   ]
  },
  {
   "cell_type": "code",
   "execution_count": 20,
   "metadata": {},
   "outputs": [
    {
     "data": {
      "text/plain": [
       "[[1, 2, 3, 4], [5, 6, 7, 8]]"
      ]
     },
     "execution_count": 20,
     "metadata": {},
     "output_type": "execute_result"
    }
   ],
   "source": [
    "goal_list"
   ]
  },
  {
   "cell_type": "code",
   "execution_count": 21,
   "metadata": {},
   "outputs": [
    {
     "data": {
      "text/html": [
       "<div>\n",
       "<style scoped>\n",
       "    .dataframe tbody tr th:only-of-type {\n",
       "        vertical-align: middle;\n",
       "    }\n",
       "\n",
       "    .dataframe tbody tr th {\n",
       "        vertical-align: top;\n",
       "    }\n",
       "\n",
       "    .dataframe thead th {\n",
       "        text-align: right;\n",
       "    }\n",
       "</style>\n",
       "<table border=\"1\" class=\"dataframe\">\n",
       "  <thead>\n",
       "    <tr style=\"text-align: right;\">\n",
       "      <th></th>\n",
       "      <th>Education</th>\n",
       "      <th>Skills</th>\n",
       "      <th>Experience</th>\n",
       "      <th>Productivity</th>\n",
       "    </tr>\n",
       "  </thead>\n",
       "  <tbody>\n",
       "    <tr>\n",
       "      <th>0</th>\n",
       "      <td>higher</td>\n",
       "      <td>high</td>\n",
       "      <td>[low, high]</td>\n",
       "      <td>high</td>\n",
       "    </tr>\n",
       "    <tr>\n",
       "      <th>1</th>\n",
       "      <td>?</td>\n",
       "      <td>high</td>\n",
       "      <td>low</td>\n",
       "      <td>high</td>\n",
       "    </tr>\n",
       "    <tr>\n",
       "      <th>2</th>\n",
       "      <td>secondary</td>\n",
       "      <td>[high]</td>\n",
       "      <td>high</td>\n",
       "      <td>high</td>\n",
       "    </tr>\n",
       "    <tr>\n",
       "      <th>3</th>\n",
       "      <td>higher</td>\n",
       "      <td>?</td>\n",
       "      <td>high</td>\n",
       "      <td>high</td>\n",
       "    </tr>\n",
       "    <tr>\n",
       "      <th>4</th>\n",
       "      <td>elementary</td>\n",
       "      <td>high</td>\n",
       "      <td>low</td>\n",
       "      <td>low</td>\n",
       "    </tr>\n",
       "    <tr>\n",
       "      <th>5</th>\n",
       "      <td>secondary</td>\n",
       "      <td>[high, low]</td>\n",
       "      <td>high</td>\n",
       "      <td>low</td>\n",
       "    </tr>\n",
       "    <tr>\n",
       "      <th>6</th>\n",
       "      <td>[elementary, secondary]</td>\n",
       "      <td>low</td>\n",
       "      <td>high</td>\n",
       "      <td>low</td>\n",
       "    </tr>\n",
       "    <tr>\n",
       "      <th>7</th>\n",
       "      <td>elementary</td>\n",
       "      <td>?</td>\n",
       "      <td>[low, high]</td>\n",
       "      <td>low</td>\n",
       "    </tr>\n",
       "  </tbody>\n",
       "</table>\n",
       "</div>"
      ],
      "text/plain": [
       "                 Education       Skills   Experience Productivity\n",
       "0                   higher         high  [low, high]         high\n",
       "1                        ?         high          low         high\n",
       "2                secondary       [high]         high         high\n",
       "3                   higher            ?         high         high\n",
       "4               elementary         high          low          low\n",
       "5                secondary  [high, low]         high          low\n",
       "6  [elementary, secondary]          low         high          low\n",
       "7               elementary            ?  [low, high]          low"
      ]
     },
     "execution_count": 21,
     "metadata": {},
     "output_type": "execute_result"
    }
   ],
   "source": [
    "df"
   ]
  },
  {
   "cell_type": "code",
   "execution_count": 22,
   "metadata": {},
   "outputs": [
    {
     "data": {
      "text/plain": [
       "['Education,higher',\n",
       " 'Education,secondary',\n",
       " 'Education,elementary',\n",
       " 'Skills,high',\n",
       " 'Skills,low',\n",
       " 'Experience,low',\n",
       " 'Experience,high']"
      ]
     },
     "execution_count": 22,
     "metadata": {},
     "output_type": "execute_result"
    }
   ],
   "source": [
    "case_list"
   ]
  },
  {
   "cell_type": "code",
   "execution_count": 23,
   "metadata": {},
   "outputs": [
    {
     "name": "stdout",
     "output_type": "stream",
     "text": [
      "[1, 4]\n",
      "[3, 6, 7]\n",
      "[5, 7, 8]\n",
      "[1, 2, 3, 5, 6]\n",
      "[6, 7]\n",
      "[1, 2, 5, 8]\n",
      "[1, 3, 4, 6, 7, 8]\n"
     ]
    }
   ],
   "source": [
    "temp_list = []\n",
    "att_val_list = []\n",
    "for item in case_list:\n",
    "    a,b = item.split(\",\") #a = attribute and b = value\n",
    "    if \".\" in b:\n",
    "        start,end = b.split(\"..\")\n",
    "        for index, row in df.iterrows():\n",
    "            if row[a] >= int(start) and row[a] <= int(end):\n",
    "                temp_list.append(index+1)\n",
    "        print(temp_list)\n",
    "        att_val_list.append(temp_list)\n",
    "        temp_list = []\n",
    "        \n",
    "    else:\n",
    "        for index, row in df.iterrows():\n",
    "            if type(row[a]) == list:\n",
    "                tmp_list = row[a]\n",
    "                for case in tmp_list:\n",
    "                    if case == b:\n",
    "                        temp_list.append(index+1)\n",
    "                        \n",
    "            if row[a] == b:\n",
    "                temp_list.append(index+1)\n",
    "        print(temp_list)\n",
    "        att_val_list.append(temp_list)\n",
    "        temp_list = []"
   ]
  },
  {
   "cell_type": "code",
   "execution_count": 24,
   "metadata": {},
   "outputs": [
    {
     "name": "stdout",
     "output_type": "stream",
     "text": [
      "0       Education,higher    [1, 4]\n",
      "1       Education,secondary [3, 6, 7]\n",
      "2       Education,elementary[5, 7, 8]\n",
      "3       Skills,high         [1, 2, 3, 5, 6]\n",
      "4       Skills,low          [6, 7]\n",
      "5       Experience,low      [1, 2, 5, 8]\n",
      "6       Experience,high     [1, 3, 4, 6, 7, 8]\n"
     ]
    }
   ],
   "source": [
    "#Print two evenly distributed list side by side\n",
    "fmt = '%-8s%-20s%s'\n",
    "\n",
    "for i, (case, att_val) in enumerate(zip(case_list, att_val_list)):\n",
    "    print(fmt % (i, case, att_val))"
   ]
  },
  {
   "cell_type": "code",
   "execution_count": 25,
   "metadata": {},
   "outputs": [],
   "source": [
    "#Might need to handle cases when att-concept values could not be populated and default should be Null"
   ]
  },
  {
   "cell_type": "markdown",
   "metadata": {},
   "source": [
    "### Start of Lower/Upper & Probabilistic Approximations !!"
   ]
  },
  {
   "cell_type": "markdown",
   "metadata": {},
   "source": [
    "#### Bulding Characteristic Sets !!"
   ]
  },
  {
   "cell_type": "code",
   "execution_count": 26,
   "metadata": {},
   "outputs": [
    {
     "data": {
      "text/html": [
       "<div>\n",
       "<style scoped>\n",
       "    .dataframe tbody tr th:only-of-type {\n",
       "        vertical-align: middle;\n",
       "    }\n",
       "\n",
       "    .dataframe tbody tr th {\n",
       "        vertical-align: top;\n",
       "    }\n",
       "\n",
       "    .dataframe thead th {\n",
       "        text-align: right;\n",
       "    }\n",
       "</style>\n",
       "<table border=\"1\" class=\"dataframe\">\n",
       "  <thead>\n",
       "    <tr style=\"text-align: right;\">\n",
       "      <th></th>\n",
       "      <th>Education</th>\n",
       "      <th>Skills</th>\n",
       "      <th>Experience</th>\n",
       "      <th>Productivity</th>\n",
       "    </tr>\n",
       "  </thead>\n",
       "  <tbody>\n",
       "    <tr>\n",
       "      <th>0</th>\n",
       "      <td>higher</td>\n",
       "      <td>high</td>\n",
       "      <td>[low, high]</td>\n",
       "      <td>high</td>\n",
       "    </tr>\n",
       "    <tr>\n",
       "      <th>1</th>\n",
       "      <td>?</td>\n",
       "      <td>high</td>\n",
       "      <td>low</td>\n",
       "      <td>high</td>\n",
       "    </tr>\n",
       "    <tr>\n",
       "      <th>2</th>\n",
       "      <td>secondary</td>\n",
       "      <td>[high]</td>\n",
       "      <td>high</td>\n",
       "      <td>high</td>\n",
       "    </tr>\n",
       "    <tr>\n",
       "      <th>3</th>\n",
       "      <td>higher</td>\n",
       "      <td>?</td>\n",
       "      <td>high</td>\n",
       "      <td>high</td>\n",
       "    </tr>\n",
       "    <tr>\n",
       "      <th>4</th>\n",
       "      <td>elementary</td>\n",
       "      <td>high</td>\n",
       "      <td>low</td>\n",
       "      <td>low</td>\n",
       "    </tr>\n",
       "    <tr>\n",
       "      <th>5</th>\n",
       "      <td>secondary</td>\n",
       "      <td>[high, low]</td>\n",
       "      <td>high</td>\n",
       "      <td>low</td>\n",
       "    </tr>\n",
       "    <tr>\n",
       "      <th>6</th>\n",
       "      <td>[elementary, secondary]</td>\n",
       "      <td>low</td>\n",
       "      <td>high</td>\n",
       "      <td>low</td>\n",
       "    </tr>\n",
       "    <tr>\n",
       "      <th>7</th>\n",
       "      <td>elementary</td>\n",
       "      <td>?</td>\n",
       "      <td>[low, high]</td>\n",
       "      <td>low</td>\n",
       "    </tr>\n",
       "  </tbody>\n",
       "</table>\n",
       "</div>"
      ],
      "text/plain": [
       "                 Education       Skills   Experience Productivity\n",
       "0                   higher         high  [low, high]         high\n",
       "1                        ?         high          low         high\n",
       "2                secondary       [high]         high         high\n",
       "3                   higher            ?         high         high\n",
       "4               elementary         high          low          low\n",
       "5                secondary  [high, low]         high          low\n",
       "6  [elementary, secondary]          low         high          low\n",
       "7               elementary            ?  [low, high]          low"
      ]
     },
     "execution_count": 26,
     "metadata": {},
     "output_type": "execute_result"
    }
   ],
   "source": [
    "df"
   ]
  },
  {
   "cell_type": "code",
   "execution_count": 27,
   "metadata": {},
   "outputs": [
    {
     "data": {
      "text/plain": [
       "{1, 2, 3, 4, 5, 6, 7, 8}"
      ]
     },
     "execution_count": 27,
     "metadata": {},
     "output_type": "execute_result"
    }
   ],
   "source": [
    "U = set(U)\n",
    "U"
   ]
  },
  {
   "cell_type": "code",
   "execution_count": 28,
   "metadata": {},
   "outputs": [
    {
     "data": {
      "text/plain": [
       "{'Education,higher': [1, 4],\n",
       " 'Education,secondary': [3, 6, 7],\n",
       " 'Education,elementary': [5, 7, 8],\n",
       " 'Skills,high': [1, 2, 3, 5, 6],\n",
       " 'Skills,low': [6, 7],\n",
       " 'Experience,low': [1, 2, 5, 8],\n",
       " 'Experience,high': [1, 3, 4, 6, 7, 8]}"
      ]
     },
     "execution_count": 28,
     "metadata": {},
     "output_type": "execute_result"
    }
   ],
   "source": [
    "# Creating dictionary combining case_list and att_val list\n",
    "block = dict(zip(case_list, att_val_list))\n",
    "block"
   ]
  },
  {
   "cell_type": "code",
   "execution_count": 29,
   "metadata": {},
   "outputs": [
    {
     "name": "stdout",
     "output_type": "stream",
     "text": [
      "When value is single\n",
      "['Education,higher']\n",
      "When value is single\n",
      "['Education,higher', 'Skills,high']\n",
      "When values are list\n",
      "['Experience,low']\n",
      "['Experience,low', 'Experience,high']\n",
      "Union Set:  {1, 2, 3, 4, 5, 6, 7, 8}\n",
      "final_union:  [{1, 2, 3, 4, 5, 6, 7, 8}]\n",
      "Final Union Set:  [1, 2, 3, 4, 5, 6, 7, 8]\n",
      "When item is found as key in the block\n",
      "{1, 4}\n",
      "When item is found as key in the block\n",
      "{1}\n",
      "Final tmp_set:  {1}\n",
      "This is the final value:  {1}\n",
      "K_1\n",
      "\n",
      "\n",
      "When value is single\n",
      "['Education,?']\n",
      "When value is single\n",
      "['Education,?', 'Skills,high']\n",
      "When value is single\n",
      "['Education,?', 'Skills,high', 'Experience,low']\n",
      "final_union:  []\n",
      "Final Union Set:  []\n",
      "When item is not found as key in the block\n",
      "set()\n",
      "{1, 2, 3, 4, 5, 6, 7, 8}\n",
      "{1, 2, 3, 4, 5, 6, 7, 8}\n",
      "When item is found as key in the block\n",
      "{1, 2, 3, 5, 6}\n",
      "When item is found as key in the block\n",
      "{1, 2, 5}\n",
      "Final tmp_set:  {1, 2, 5}\n",
      "This is the final value:  {1, 2, 5}\n",
      "K_2\n",
      "\n",
      "\n",
      "When value is single\n",
      "['Education,secondary']\n",
      "When values are list\n",
      "['Skills,high']\n",
      "Union Set:  {1, 2, 3, 5, 6}\n",
      "When value is single\n",
      "['Education,secondary', 'Experience,high']\n",
      "final_union:  [{1, 2, 3, 5, 6}]\n",
      "Final Union Set:  [1, 2, 3, 5, 6]\n",
      "When item is found as key in the block\n",
      "{3, 6, 7}\n",
      "When item is found as key in the block\n",
      "{3, 6, 7}\n",
      "Final tmp_set:  {3, 6, 7}\n",
      "This is the final value:  {3, 6}\n",
      "K_3\n",
      "\n",
      "\n",
      "When value is single\n",
      "['Education,higher']\n",
      "When value is single\n",
      "['Education,higher', 'Skills,?']\n",
      "When value is single\n",
      "['Education,higher', 'Skills,?', 'Experience,high']\n",
      "final_union:  []\n",
      "Final Union Set:  []\n",
      "When item is found as key in the block\n",
      "{1, 4}\n",
      "When item is not found as key in the block\n",
      "{1, 4}\n",
      "{1, 2, 3, 4, 5, 6, 7, 8}\n",
      "{1, 4}\n",
      "When item is found as key in the block\n",
      "{1, 4}\n",
      "Final tmp_set:  {1, 4}\n",
      "This is the final value:  {1, 4}\n",
      "K_4\n",
      "\n",
      "\n",
      "When value is single\n",
      "['Education,elementary']\n",
      "When value is single\n",
      "['Education,elementary', 'Skills,high']\n",
      "When value is single\n",
      "['Education,elementary', 'Skills,high', 'Experience,low']\n",
      "final_union:  []\n",
      "Final Union Set:  []\n",
      "When item is found as key in the block\n",
      "{8, 5, 7}\n",
      "When item is found as key in the block\n",
      "{5}\n",
      "When item is found as key in the block\n",
      "{5}\n",
      "Final tmp_set:  {5}\n",
      "This is the final value:  {5}\n",
      "K_5\n",
      "\n",
      "\n",
      "When value is single\n",
      "['Education,secondary']\n",
      "When values are list\n",
      "['Skills,high']\n",
      "['Skills,high', 'Skills,low']\n",
      "Union Set:  {1, 2, 3, 5, 6, 7}\n",
      "When value is single\n",
      "['Education,secondary', 'Experience,high']\n",
      "final_union:  [{1, 2, 3, 5, 6, 7}]\n",
      "Final Union Set:  [1, 2, 3, 5, 6, 7]\n",
      "When item is found as key in the block\n",
      "{3, 6, 7}\n",
      "When item is found as key in the block\n",
      "{3, 6, 7}\n",
      "Final tmp_set:  {3, 6, 7}\n",
      "This is the final value:  {3, 6, 7}\n",
      "K_6\n",
      "\n",
      "\n",
      "When values are list\n",
      "['Education,elementary']\n",
      "['Education,elementary', 'Education,secondary']\n",
      "Union Set:  {3, 5, 6, 7, 8}\n",
      "When value is single\n",
      "['Skills,low']\n",
      "When value is single\n",
      "['Skills,low', 'Experience,high']\n",
      "final_union:  [{3, 5, 6, 7, 8}]\n",
      "Final Union Set:  [3, 5, 6, 7, 8]\n",
      "When item is found as key in the block\n",
      "{6, 7}\n",
      "When item is found as key in the block\n",
      "{6, 7}\n",
      "Final tmp_set:  {6, 7}\n",
      "This is the final value:  {6, 7}\n",
      "K_7\n",
      "\n",
      "\n",
      "When value is single\n",
      "['Education,elementary']\n",
      "When value is single\n",
      "['Education,elementary', 'Skills,?']\n",
      "When values are list\n",
      "['Experience,low']\n",
      "['Experience,low', 'Experience,high']\n",
      "Union Set:  {1, 2, 3, 4, 5, 6, 7, 8}\n",
      "final_union:  [{1, 2, 3, 4, 5, 6, 7, 8}]\n",
      "Final Union Set:  [1, 2, 3, 4, 5, 6, 7, 8]\n",
      "When item is found as key in the block\n",
      "{8, 5, 7}\n",
      "When item is not found as key in the block\n",
      "{8, 5, 7}\n",
      "{1, 2, 3, 4, 5, 6, 7, 8}\n",
      "{8, 5, 7}\n",
      "Final tmp_set:  {8, 5, 7}\n",
      "This is the final value:  {8, 5, 7}\n",
      "K_8\n",
      "\n",
      "\n"
     ]
    }
   ],
   "source": [
    "dic = {}\n",
    "for index, row in df.iterrows():\n",
    "    tmp_set = set()\n",
    "    final_union = []\n",
    "    char_list = []\n",
    "    char_list_2 = []\n",
    "    final_union_set = []\n",
    "  \n",
    "    for cols in attributes[:-1]:\n",
    "        #If the value for corresponding attribute is a list then create all of the att-value pairs\n",
    "        if type(df.loc[index,cols]) == list:\n",
    "            print(\"When values are list\") #########\n",
    "            for item in df.loc[index,cols]:\n",
    "                block_key = cols + \",\" + item\n",
    "                char_list.append(block_key) #char_list has all att-val cases\n",
    "                print(char_list) #########\n",
    "                \n",
    "            union_set = set()\n",
    "            #Compute union of att-concept value case\n",
    "            for item in char_list:\n",
    "                union_set = union_set.union(set(block[item]))\n",
    "            \n",
    "            print(\"Union Set: \", union_set) #########\n",
    "            final_union.append(union_set)\n",
    "        \n",
    "        else:\n",
    "            print(\"When value is single\") #########\n",
    "            block_key = cols + \",\" + df.loc[index,cols]\n",
    "            char_list_2.append(block_key) #char_list_2 has all single cases\n",
    "            print(char_list_2) ##########\n",
    "   \n",
    "    #Compute instersection for this current row for Characteristics set\n",
    "    \n",
    "    print(\"final_union: \", final_union) ########\n",
    "    if len(final_union):\n",
    "        final_union_set = list(reduce(set.intersection, [set(item) for item in final_union]))\n",
    "        \n",
    "    \n",
    "    print(\"Final Union Set: \", final_union_set) ##########\n",
    "    \n",
    "    for item in char_list_2:\n",
    "        if item in block:\n",
    "            print(\"When item is found as key in the block\") ########\n",
    "            if tmp_set == set():\n",
    "                #Copy over the current set elements to B\n",
    "                for i in range(len(block[item])):\n",
    "                    tmp_set.add(block[item][i])\n",
    "                    \n",
    "            tmp_set = tmp_set.intersection(set(block[item]))\n",
    "            print(tmp_set) ########\n",
    "        \n",
    "        #If item not in block\n",
    "        else:\n",
    "            print(\"When item is not found as key in the block\") ########\n",
    "            print(tmp_set) ########\n",
    "            print(U) #########\n",
    "            if tmp_set == set():\n",
    "                tmp_set = U\n",
    "                \n",
    "            tmp_set = tmp_set.intersection(U)\n",
    "            print(tmp_set) ########\n",
    "    \n",
    "    print(\"Final tmp_set: \", tmp_set) #########\n",
    "    final_union_set = set(final_union_set)\n",
    "    \n",
    "    if final_union_set == set():\n",
    "        tmp_set = tmp_set\n",
    "    else:\n",
    "        tmp_set = tmp_set.intersection(final_union_set)\n",
    "        \n",
    "    print(\"This is the final value: \", tmp_set) ###########\n",
    "        \n",
    "    key = ('K_%d' % (index+1))\n",
    "    print(key) #########\n",
    "    dic[key] = tmp_set\n",
    "    print(\"\\n\") ##########"
   ]
  },
  {
   "cell_type": "code",
   "execution_count": 30,
   "metadata": {},
   "outputs": [
    {
     "data": {
      "text/plain": [
       "{'K_1': {1},\n",
       " 'K_2': {1, 2, 5},\n",
       " 'K_3': {3, 6},\n",
       " 'K_4': {1, 4},\n",
       " 'K_5': {5},\n",
       " 'K_6': {3, 6, 7},\n",
       " 'K_7': {6, 7},\n",
       " 'K_8': {5, 7, 8}}"
      ]
     },
     "execution_count": 30,
     "metadata": {},
     "output_type": "execute_result"
    }
   ],
   "source": [
    "dic"
   ]
  },
  {
   "cell_type": "markdown",
   "metadata": {},
   "source": [
    "#### Concept Lower and Upper Approximation calculation !!"
   ]
  },
  {
   "cell_type": "code",
   "execution_count": 31,
   "metadata": {},
   "outputs": [],
   "source": [
    "# Concept Lower Approximations: BX =∪{KB(x) | x∈X,KB(x)⊆X}\n",
    "# Concept Upper Approximations: BX =∪{KB(x) | x∈X}"
   ]
  },
  {
   "cell_type": "markdown",
   "metadata": {},
   "source": [
    "#### Lower Approximation !!"
   ]
  },
  {
   "cell_type": "code",
   "execution_count": 32,
   "metadata": {},
   "outputs": [],
   "source": [
    "def lowerApproximation(charac_set,concept):\n",
    "    #set to contain lower approximations\n",
    "    lower = set()\n",
    "    \n",
    "    #Check for each element of the concept\n",
    "    for item in concept:\n",
    "        key = 'K_%d' % (item)\n",
    "        set_value = charac_set[key]\n",
    "  \n",
    "        if set_value.issubset(set(concept)):\n",
    "            lower = lower.union(set_value)\n",
    "          \n",
    "    return lower"
   ]
  },
  {
   "cell_type": "code",
   "execution_count": 33,
   "metadata": {},
   "outputs": [],
   "source": [
    "lower_approximations = {}\n",
    "for item in goal_list:\n",
    "    #Key is the string converted list so as to add as dictionary key\n",
    "    lower_approximations[str(item)] = lowerApproximation(dic,item)"
   ]
  },
  {
   "cell_type": "code",
   "execution_count": 34,
   "metadata": {},
   "outputs": [
    {
     "data": {
      "text/plain": [
       "{'[1, 2, 3, 4]': {1, 4}, '[5, 6, 7, 8]': {5, 6, 7, 8}}"
      ]
     },
     "execution_count": 34,
     "metadata": {},
     "output_type": "execute_result"
    }
   ],
   "source": [
    "lower_approximations"
   ]
  },
  {
   "cell_type": "code",
   "execution_count": 35,
   "metadata": {},
   "outputs": [
    {
     "data": {
      "text/plain": [
       "{5, 6, 7, 8}"
      ]
     },
     "execution_count": 35,
     "metadata": {},
     "output_type": "execute_result"
    }
   ],
   "source": [
    "#Accessing the lower approximations\n",
    "lower_approximations[str(goal_list[1])]"
   ]
  },
  {
   "cell_type": "markdown",
   "metadata": {},
   "source": [
    "#### Upper Approximation !!"
   ]
  },
  {
   "cell_type": "code",
   "execution_count": 36,
   "metadata": {},
   "outputs": [],
   "source": [
    "def upperApproximation(charac_set,concept):\n",
    "    #set to contain lower approximations\n",
    "    upper = set()\n",
    "    \n",
    "    #Check for each element of the concept\n",
    "    for item in concept:\n",
    "        key = 'K_%d' % (item)\n",
    "        set_value = charac_set[key]\n",
    "        upper = upper.union(set_value)\n",
    "          \n",
    "    return upper"
   ]
  },
  {
   "cell_type": "code",
   "execution_count": 37,
   "metadata": {},
   "outputs": [],
   "source": [
    "upper_approximations = {}\n",
    "for item in goal_list:\n",
    "    #Key is the string converted list so as to add as dictionary key\n",
    "    upper_approximations[str(item)] = upperApproximation(dic,item)"
   ]
  },
  {
   "cell_type": "code",
   "execution_count": 38,
   "metadata": {},
   "outputs": [
    {
     "data": {
      "text/plain": [
       "{'[1, 2, 3, 4]': {1, 2, 3, 4, 5, 6}, '[5, 6, 7, 8]': {3, 5, 6, 7, 8}}"
      ]
     },
     "execution_count": 38,
     "metadata": {},
     "output_type": "execute_result"
    }
   ],
   "source": [
    "upper_approximations"
   ]
  },
  {
   "cell_type": "code",
   "execution_count": 39,
   "metadata": {},
   "outputs": [
    {
     "data": {
      "text/plain": [
       "{1, 2, 3, 4, 5, 6}"
      ]
     },
     "execution_count": 39,
     "metadata": {},
     "output_type": "execute_result"
    }
   ],
   "source": [
    "#Accessing the lower approximations\n",
    "upper_approximations[str(goal_list[0])]"
   ]
  },
  {
   "cell_type": "markdown",
   "metadata": {},
   "source": [
    "#### Concept Probabilistic Approximation !!"
   ]
  },
  {
   "cell_type": "code",
   "execution_count": 40,
   "metadata": {},
   "outputs": [],
   "source": [
    "# ∪{KB(x) | x ∈ X, Pr(X|KB(x)) ≥ α}"
   ]
  },
  {
   "cell_type": "code",
   "execution_count": 41,
   "metadata": {},
   "outputs": [],
   "source": [
    "# Study Concept Probabilistic Approximation. It's not clear yet."
   ]
  },
  {
   "cell_type": "code",
   "execution_count": 42,
   "metadata": {},
   "outputs": [],
   "source": [
    "first_column = list(dic.keys())"
   ]
  },
  {
   "cell_type": "code",
   "execution_count": 43,
   "metadata": {},
   "outputs": [],
   "source": [
    "second_column = list(dic.values())"
   ]
  },
  {
   "cell_type": "code",
   "execution_count": 44,
   "metadata": {},
   "outputs": [],
   "source": [
    "prob_approx = pd.DataFrame(\n",
    "    {'charset_name': first_column,\n",
    "     'charset_value': second_column\n",
    "    })"
   ]
  },
  {
   "cell_type": "code",
   "execution_count": 45,
   "metadata": {},
   "outputs": [
    {
     "data": {
      "text/html": [
       "<div>\n",
       "<style scoped>\n",
       "    .dataframe tbody tr th:only-of-type {\n",
       "        vertical-align: middle;\n",
       "    }\n",
       "\n",
       "    .dataframe tbody tr th {\n",
       "        vertical-align: top;\n",
       "    }\n",
       "\n",
       "    .dataframe thead th {\n",
       "        text-align: right;\n",
       "    }\n",
       "</style>\n",
       "<table border=\"1\" class=\"dataframe\">\n",
       "  <thead>\n",
       "    <tr style=\"text-align: right;\">\n",
       "      <th></th>\n",
       "      <th>charset_name</th>\n",
       "      <th>charset_value</th>\n",
       "    </tr>\n",
       "  </thead>\n",
       "  <tbody>\n",
       "    <tr>\n",
       "      <th>0</th>\n",
       "      <td>K_1</td>\n",
       "      <td>{1}</td>\n",
       "    </tr>\n",
       "    <tr>\n",
       "      <th>1</th>\n",
       "      <td>K_2</td>\n",
       "      <td>{1, 2, 5}</td>\n",
       "    </tr>\n",
       "    <tr>\n",
       "      <th>2</th>\n",
       "      <td>K_3</td>\n",
       "      <td>{3, 6}</td>\n",
       "    </tr>\n",
       "    <tr>\n",
       "      <th>3</th>\n",
       "      <td>K_4</td>\n",
       "      <td>{1, 4}</td>\n",
       "    </tr>\n",
       "    <tr>\n",
       "      <th>4</th>\n",
       "      <td>K_5</td>\n",
       "      <td>{5}</td>\n",
       "    </tr>\n",
       "    <tr>\n",
       "      <th>5</th>\n",
       "      <td>K_6</td>\n",
       "      <td>{3, 6, 7}</td>\n",
       "    </tr>\n",
       "    <tr>\n",
       "      <th>6</th>\n",
       "      <td>K_7</td>\n",
       "      <td>{6, 7}</td>\n",
       "    </tr>\n",
       "    <tr>\n",
       "      <th>7</th>\n",
       "      <td>K_8</td>\n",
       "      <td>{8, 5, 7}</td>\n",
       "    </tr>\n",
       "  </tbody>\n",
       "</table>\n",
       "</div>"
      ],
      "text/plain": [
       "  charset_name charset_value\n",
       "0          K_1           {1}\n",
       "1          K_2     {1, 2, 5}\n",
       "2          K_3        {3, 6}\n",
       "3          K_4        {1, 4}\n",
       "4          K_5           {5}\n",
       "5          K_6     {3, 6, 7}\n",
       "6          K_7        {6, 7}\n",
       "7          K_8     {8, 5, 7}"
      ]
     },
     "execution_count": 45,
     "metadata": {},
     "output_type": "execute_result"
    }
   ],
   "source": [
    "prob_approx"
   ]
  },
  {
   "cell_type": "code",
   "execution_count": 46,
   "metadata": {},
   "outputs": [],
   "source": [
    "def probabilisticApproximation(concept):\n",
    "    prob = []\n",
    "    for index, row in prob_approx.iterrows():\n",
    "        if len(row['charset_value']) != 0:\n",
    "            probability_conditional = len(row['charset_value'].intersection(set(concept))) / len(row['charset_value'])\n",
    "        else:\n",
    "            probability_conditional = 0.0\n",
    "            \n",
    "        prob.append(round(probability_conditional,2))\n",
    "    return prob"
   ]
  },
  {
   "cell_type": "markdown",
   "metadata": {},
   "source": [
    "#### Calculate Middle Concept Probabilistic Approximation where α=0.5"
   ]
  },
  {
   "cell_type": "code",
   "execution_count": 47,
   "metadata": {},
   "outputs": [],
   "source": [
    "def findMiddleApprox(concept):\n",
    "    probapprox = set()\n",
    "    cond_prob = probabilisticApproximation(concept) #Need to put the goal\n",
    "    prob_approx['cond_probability'] = cond_prob\n",
    "    for index, row in prob_approx.iterrows():\n",
    "        part1,part2 = row['charset_name'].split(\"_\")\n",
    "       \n",
    "        if row['cond_probability'] >= 0.50:\n",
    "            if int(part2) in concept:\n",
    "#                 print(row['charset_value'])\n",
    "                probapprox = probapprox.union(row['charset_value'])\n",
    "    return probapprox        "
   ]
  },
  {
   "cell_type": "code",
   "execution_count": 48,
   "metadata": {},
   "outputs": [],
   "source": [
    "probapprox = findMiddleApprox(goal_list[1]) #Need to put the goal"
   ]
  },
  {
   "cell_type": "code",
   "execution_count": 49,
   "metadata": {},
   "outputs": [
    {
     "data": {
      "text/plain": [
       "{3, 5, 6, 7, 8}"
      ]
     },
     "execution_count": 49,
     "metadata": {},
     "output_type": "execute_result"
    }
   ],
   "source": [
    "probapprox"
   ]
  }
 ],
 "metadata": {
  "kernelspec": {
   "display_name": "Python 3",
   "language": "python",
   "name": "python3"
  },
  "language_info": {
   "codemirror_mode": {
    "name": "ipython",
    "version": 3
   },
   "file_extension": ".py",
   "mimetype": "text/x-python",
   "name": "python",
   "nbconvert_exporter": "python",
   "pygments_lexer": "ipython3",
   "version": "3.6.6"
  }
 },
 "nbformat": 4,
 "nbformat_minor": 2
}
