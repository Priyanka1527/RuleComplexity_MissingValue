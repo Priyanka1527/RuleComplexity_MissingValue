{
 "cells": [
  {
   "cell_type": "code",
   "execution_count": 1,
   "metadata": {},
   "outputs": [],
   "source": [
    "import time\n",
    "import pandas as pd\n",
    "import numpy as np\n",
    "pd.set_option('display.max_rows', 200)\n",
    "from pandas.api.types import is_numeric_dtype"
   ]
  },
  {
   "cell_type": "code",
   "execution_count": 2,
   "metadata": {},
   "outputs": [],
   "source": [
    "df = pd.read_csv('../data/test_education.csv')"
   ]
  },
  {
   "cell_type": "code",
   "execution_count": 3,
   "metadata": {},
   "outputs": [],
   "source": [
    "df = df.drop(['Case'],axis=1)"
   ]
  },
  {
   "cell_type": "code",
   "execution_count": 4,
   "metadata": {},
   "outputs": [
    {
     "data": {
      "text/html": [
       "<div>\n",
       "<style scoped>\n",
       "    .dataframe tbody tr th:only-of-type {\n",
       "        vertical-align: middle;\n",
       "    }\n",
       "\n",
       "    .dataframe tbody tr th {\n",
       "        vertical-align: top;\n",
       "    }\n",
       "\n",
       "    .dataframe thead th {\n",
       "        text-align: right;\n",
       "    }\n",
       "</style>\n",
       "<table border=\"1\" class=\"dataframe\">\n",
       "  <thead>\n",
       "    <tr style=\"text-align: right;\">\n",
       "      <th></th>\n",
       "      <th>Education</th>\n",
       "      <th>Skills</th>\n",
       "      <th>Experience</th>\n",
       "      <th>Productivity</th>\n",
       "    </tr>\n",
       "  </thead>\n",
       "  <tbody>\n",
       "    <tr>\n",
       "      <th>0</th>\n",
       "      <td>higher</td>\n",
       "      <td>high</td>\n",
       "      <td>-</td>\n",
       "      <td>high</td>\n",
       "    </tr>\n",
       "    <tr>\n",
       "      <th>1</th>\n",
       "      <td>?</td>\n",
       "      <td>high</td>\n",
       "      <td>low</td>\n",
       "      <td>high</td>\n",
       "    </tr>\n",
       "    <tr>\n",
       "      <th>2</th>\n",
       "      <td>secondary</td>\n",
       "      <td>-</td>\n",
       "      <td>high</td>\n",
       "      <td>high</td>\n",
       "    </tr>\n",
       "    <tr>\n",
       "      <th>3</th>\n",
       "      <td>higher</td>\n",
       "      <td>?</td>\n",
       "      <td>high</td>\n",
       "      <td>high</td>\n",
       "    </tr>\n",
       "    <tr>\n",
       "      <th>4</th>\n",
       "      <td>elementary</td>\n",
       "      <td>high</td>\n",
       "      <td>low</td>\n",
       "      <td>low</td>\n",
       "    </tr>\n",
       "    <tr>\n",
       "      <th>5</th>\n",
       "      <td>secondary</td>\n",
       "      <td>-</td>\n",
       "      <td>high</td>\n",
       "      <td>low</td>\n",
       "    </tr>\n",
       "    <tr>\n",
       "      <th>6</th>\n",
       "      <td>-</td>\n",
       "      <td>low</td>\n",
       "      <td>high</td>\n",
       "      <td>low</td>\n",
       "    </tr>\n",
       "    <tr>\n",
       "      <th>7</th>\n",
       "      <td>elementary</td>\n",
       "      <td>?</td>\n",
       "      <td>-</td>\n",
       "      <td>low</td>\n",
       "    </tr>\n",
       "  </tbody>\n",
       "</table>\n",
       "</div>"
      ],
      "text/plain": [
       "    Education Skills Experience Productivity\n",
       "0      higher   high          -         high\n",
       "1           ?   high        low         high\n",
       "2   secondary      -       high         high\n",
       "3      higher      ?       high         high\n",
       "4  elementary   high        low          low\n",
       "5   secondary      -       high          low\n",
       "6           -    low       high          low\n",
       "7  elementary      ?          -          low"
      ]
     },
     "execution_count": 4,
     "metadata": {},
     "output_type": "execute_result"
    }
   ],
   "source": [
    "df"
   ]
  },
  {
   "cell_type": "markdown",
   "metadata": {},
   "source": [
    "### Attribute-Concept Values used to fill up Incomplete Data !!"
   ]
  },
  {
   "cell_type": "markdown",
   "metadata": {},
   "source": [
    "#### Defining Goal Set !!"
   ]
  },
  {
   "cell_type": "code",
   "execution_count": 5,
   "metadata": {},
   "outputs": [
    {
     "data": {
      "text/plain": [
       "'Productivity'"
      ]
     },
     "execution_count": 5,
     "metadata": {},
     "output_type": "execute_result"
    }
   ],
   "source": [
    "df_headers = list(df)\n",
    "concept = df_headers[-1]\n",
    "concept"
   ]
  },
  {
   "cell_type": "code",
   "execution_count": 6,
   "metadata": {},
   "outputs": [
    {
     "data": {
      "text/plain": [
       "array(['high', 'low'], dtype=object)"
      ]
     },
     "execution_count": 6,
     "metadata": {},
     "output_type": "execute_result"
    }
   ],
   "source": [
    "#all unique concepts\n",
    "concept_list = df[concept].unique()\n",
    "concept_list"
   ]
  },
  {
   "cell_type": "code",
   "execution_count": 7,
   "metadata": {},
   "outputs": [],
   "source": [
    "#calculating cases by concepts and making sets\n",
    "U = [] #universal list containing all cases\n",
    "temp_list = []\n",
    "goal_list = []\n",
    "for item in concept_list:\n",
    "    for index, row in df.iterrows():\n",
    "        U.append(index)\n",
    "        if row[concept] == item:\n",
    "            temp_list.append(index)\n",
    "    goal_list.append(temp_list)\n",
    "    temp_list = []"
   ]
  },
  {
   "cell_type": "code",
   "execution_count": 8,
   "metadata": {},
   "outputs": [
    {
     "data": {
      "text/plain": [
       "[[0, 1, 2, 3], [4, 5, 6, 7]]"
      ]
     },
     "execution_count": 8,
     "metadata": {},
     "output_type": "execute_result"
    }
   ],
   "source": [
    "goal_list"
   ]
  },
  {
   "cell_type": "markdown",
   "metadata": {},
   "source": [
    "#### Building Case List !!"
   ]
  },
  {
   "cell_type": "code",
   "execution_count": 9,
   "metadata": {},
   "outputs": [],
   "source": [
    "# Case list is built here as it's not needed att-concept or lost value handling to do so"
   ]
  },
  {
   "cell_type": "code",
   "execution_count": 10,
   "metadata": {},
   "outputs": [
    {
     "data": {
      "text/plain": [
       "['Education', 'Skills', 'Experience', 'Productivity']"
      ]
     },
     "execution_count": 10,
     "metadata": {},
     "output_type": "execute_result"
    }
   ],
   "source": [
    "attributes = list(df)\n",
    "attributes"
   ]
  },
  {
   "cell_type": "code",
   "execution_count": 11,
   "metadata": {},
   "outputs": [
    {
     "name": "stdout",
     "output_type": "stream",
     "text": [
      "Education\n",
      "Skills\n",
      "Experience\n"
     ]
    }
   ],
   "source": [
    "case_list = []\n",
    "#Loop through all the attributes except last 2 - Concept and sort_col\n",
    "for item in attributes[:-1]:\n",
    "    print(item)\n",
    "    \n",
    "    #check for non numeric columns\n",
    "    if not is_numeric_dtype(df[item]):\n",
    "        temp = df[item].unique()\n",
    "        for i in temp:\n",
    "            if i == '?' or i == '-':\n",
    "                continue\n",
    "            else:\n",
    "                case = item + \",\" + i\n",
    "                case_list.append(case)"
   ]
  },
  {
   "cell_type": "code",
   "execution_count": 12,
   "metadata": {},
   "outputs": [
    {
     "data": {
      "text/plain": [
       "['Education,higher',\n",
       " 'Education,secondary',\n",
       " 'Education,elementary',\n",
       " 'Skills,high',\n",
       " 'Skills,low',\n",
       " 'Experience,low',\n",
       " 'Experience,high']"
      ]
     },
     "execution_count": 12,
     "metadata": {},
     "output_type": "execute_result"
    }
   ],
   "source": [
    "case_list"
   ]
  },
  {
   "cell_type": "code",
   "execution_count": 13,
   "metadata": {},
   "outputs": [],
   "source": [
    "#Don't copy dataframes using assignment operator e.g. df=df2 \n",
    "#as it'll modify the other dataframe if we attempt to edit one\n",
    "#hence use copy() function\n",
    "\n",
    "df2 = df.copy()"
   ]
  },
  {
   "cell_type": "markdown",
   "metadata": {},
   "source": [
    "#### Start of handling Missing attribute !!"
   ]
  },
  {
   "cell_type": "code",
   "execution_count": 14,
   "metadata": {},
   "outputs": [
    {
     "name": "stdout",
     "output_type": "stream",
     "text": [
      "Education 6\n",
      "low\n",
      "[4, 5, 6, 7]\n",
      "['elementary', 'secondary']\n",
      "\n",
      "\n",
      "Skills 2\n",
      "high\n",
      "[0, 1, 2, 3]\n",
      "['high']\n",
      "Skills 5\n",
      "low\n",
      "[4, 5, 6, 7]\n",
      "['high', 'low']\n",
      "\n",
      "\n",
      "Experience 0\n",
      "high\n",
      "[0, 1, 2, 3]\n",
      "['low', 'high']\n",
      "Experience 7\n",
      "low\n",
      "[4, 5, 6, 7]\n",
      "['low', 'high']\n",
      "\n",
      "\n",
      "\n",
      "\n"
     ]
    }
   ],
   "source": [
    "for col in df:\n",
    "    for i, row_value in df[col].iteritems():\n",
    "        \n",
    "        #This is for attribute-concept value interpretation\n",
    "        #For Lost value interpretation, we don't add that case to any block at all\n",
    "        if row_value == '-':\n",
    "            \n",
    "            final_values = []\n",
    "            print(col,i)\n",
    "            concept_tmp = df[concept][i]\n",
    "            print(concept_tmp)\n",
    "            \n",
    "            for item_list in goal_list:\n",
    "                if i in item_list:\n",
    "                    final_values = item_list\n",
    "                    \n",
    "            print (final_values)\n",
    "            \n",
    "            #Taking out all unique cases corresponding to the matched concept\n",
    "            col_values = []\n",
    "            for item in final_values:\n",
    "                col_values.append(df[col][item])\n",
    "        \n",
    "            \n",
    "            uniqueList = []\n",
    "            for letter in col_values:\n",
    "                if letter not in uniqueList:\n",
    "                    uniqueList.append(letter)\n",
    "            \n",
    "            if '-' in uniqueList:\n",
    "                uniqueList.remove('-')\n",
    "                \n",
    "            if '?' in uniqueList:\n",
    "                uniqueList.remove('?')\n",
    "            print(uniqueList)\n",
    "            \n",
    "#             print(df.loc[i,col])\n",
    "            df2.at[i, col] = uniqueList\n",
    "            \n",
    "    print(\"\\n\")"
   ]
  },
  {
   "cell_type": "code",
   "execution_count": 15,
   "metadata": {},
   "outputs": [
    {
     "data": {
      "text/html": [
       "<div>\n",
       "<style scoped>\n",
       "    .dataframe tbody tr th:only-of-type {\n",
       "        vertical-align: middle;\n",
       "    }\n",
       "\n",
       "    .dataframe tbody tr th {\n",
       "        vertical-align: top;\n",
       "    }\n",
       "\n",
       "    .dataframe thead th {\n",
       "        text-align: right;\n",
       "    }\n",
       "</style>\n",
       "<table border=\"1\" class=\"dataframe\">\n",
       "  <thead>\n",
       "    <tr style=\"text-align: right;\">\n",
       "      <th></th>\n",
       "      <th>Education</th>\n",
       "      <th>Skills</th>\n",
       "      <th>Experience</th>\n",
       "      <th>Productivity</th>\n",
       "    </tr>\n",
       "  </thead>\n",
       "  <tbody>\n",
       "    <tr>\n",
       "      <th>0</th>\n",
       "      <td>higher</td>\n",
       "      <td>high</td>\n",
       "      <td>[low, high]</td>\n",
       "      <td>high</td>\n",
       "    </tr>\n",
       "    <tr>\n",
       "      <th>1</th>\n",
       "      <td>?</td>\n",
       "      <td>high</td>\n",
       "      <td>low</td>\n",
       "      <td>high</td>\n",
       "    </tr>\n",
       "    <tr>\n",
       "      <th>2</th>\n",
       "      <td>secondary</td>\n",
       "      <td>[high]</td>\n",
       "      <td>high</td>\n",
       "      <td>high</td>\n",
       "    </tr>\n",
       "    <tr>\n",
       "      <th>3</th>\n",
       "      <td>higher</td>\n",
       "      <td>?</td>\n",
       "      <td>high</td>\n",
       "      <td>high</td>\n",
       "    </tr>\n",
       "    <tr>\n",
       "      <th>4</th>\n",
       "      <td>elementary</td>\n",
       "      <td>high</td>\n",
       "      <td>low</td>\n",
       "      <td>low</td>\n",
       "    </tr>\n",
       "    <tr>\n",
       "      <th>5</th>\n",
       "      <td>secondary</td>\n",
       "      <td>[high, low]</td>\n",
       "      <td>high</td>\n",
       "      <td>low</td>\n",
       "    </tr>\n",
       "    <tr>\n",
       "      <th>6</th>\n",
       "      <td>[elementary, secondary]</td>\n",
       "      <td>low</td>\n",
       "      <td>high</td>\n",
       "      <td>low</td>\n",
       "    </tr>\n",
       "    <tr>\n",
       "      <th>7</th>\n",
       "      <td>elementary</td>\n",
       "      <td>?</td>\n",
       "      <td>[low, high]</td>\n",
       "      <td>low</td>\n",
       "    </tr>\n",
       "  </tbody>\n",
       "</table>\n",
       "</div>"
      ],
      "text/plain": [
       "                 Education       Skills   Experience Productivity\n",
       "0                   higher         high  [low, high]         high\n",
       "1                        ?         high          low         high\n",
       "2                secondary       [high]         high         high\n",
       "3                   higher            ?         high         high\n",
       "4               elementary         high          low          low\n",
       "5                secondary  [high, low]         high          low\n",
       "6  [elementary, secondary]          low         high          low\n",
       "7               elementary            ?  [low, high]          low"
      ]
     },
     "execution_count": 15,
     "metadata": {},
     "output_type": "execute_result"
    }
   ],
   "source": [
    "df2"
   ]
  },
  {
   "cell_type": "code",
   "execution_count": 16,
   "metadata": {},
   "outputs": [],
   "source": [
    "df = df2.copy()"
   ]
  },
  {
   "cell_type": "code",
   "execution_count": 17,
   "metadata": {},
   "outputs": [],
   "source": [
    "df_headers = list(df)\n",
    "concept = df_headers[-1]\n",
    "concept_list = df[concept].unique()"
   ]
  },
  {
   "cell_type": "code",
   "execution_count": 18,
   "metadata": {},
   "outputs": [],
   "source": [
    "#calculating cases by concepts and making sets\n",
    "temp_list = []\n",
    "goal_list = []\n",
    "for item in concept_list:\n",
    "    for index, row in df.iterrows():\n",
    "        if row[concept] == item:\n",
    "            temp_list.append(index+1)\n",
    "    goal_list.append(temp_list)\n",
    "    temp_list = []"
   ]
  },
  {
   "cell_type": "code",
   "execution_count": 19,
   "metadata": {},
   "outputs": [
    {
     "data": {
      "text/plain": [
       "[[1, 2, 3, 4], [5, 6, 7, 8]]"
      ]
     },
     "execution_count": 19,
     "metadata": {},
     "output_type": "execute_result"
    }
   ],
   "source": [
    "goal_list"
   ]
  },
  {
   "cell_type": "code",
   "execution_count": 20,
   "metadata": {},
   "outputs": [
    {
     "data": {
      "text/html": [
       "<div>\n",
       "<style scoped>\n",
       "    .dataframe tbody tr th:only-of-type {\n",
       "        vertical-align: middle;\n",
       "    }\n",
       "\n",
       "    .dataframe tbody tr th {\n",
       "        vertical-align: top;\n",
       "    }\n",
       "\n",
       "    .dataframe thead th {\n",
       "        text-align: right;\n",
       "    }\n",
       "</style>\n",
       "<table border=\"1\" class=\"dataframe\">\n",
       "  <thead>\n",
       "    <tr style=\"text-align: right;\">\n",
       "      <th></th>\n",
       "      <th>Education</th>\n",
       "      <th>Skills</th>\n",
       "      <th>Experience</th>\n",
       "      <th>Productivity</th>\n",
       "    </tr>\n",
       "  </thead>\n",
       "  <tbody>\n",
       "    <tr>\n",
       "      <th>0</th>\n",
       "      <td>higher</td>\n",
       "      <td>high</td>\n",
       "      <td>[low, high]</td>\n",
       "      <td>high</td>\n",
       "    </tr>\n",
       "    <tr>\n",
       "      <th>1</th>\n",
       "      <td>?</td>\n",
       "      <td>high</td>\n",
       "      <td>low</td>\n",
       "      <td>high</td>\n",
       "    </tr>\n",
       "    <tr>\n",
       "      <th>2</th>\n",
       "      <td>secondary</td>\n",
       "      <td>[high]</td>\n",
       "      <td>high</td>\n",
       "      <td>high</td>\n",
       "    </tr>\n",
       "    <tr>\n",
       "      <th>3</th>\n",
       "      <td>higher</td>\n",
       "      <td>?</td>\n",
       "      <td>high</td>\n",
       "      <td>high</td>\n",
       "    </tr>\n",
       "    <tr>\n",
       "      <th>4</th>\n",
       "      <td>elementary</td>\n",
       "      <td>high</td>\n",
       "      <td>low</td>\n",
       "      <td>low</td>\n",
       "    </tr>\n",
       "    <tr>\n",
       "      <th>5</th>\n",
       "      <td>secondary</td>\n",
       "      <td>[high, low]</td>\n",
       "      <td>high</td>\n",
       "      <td>low</td>\n",
       "    </tr>\n",
       "    <tr>\n",
       "      <th>6</th>\n",
       "      <td>[elementary, secondary]</td>\n",
       "      <td>low</td>\n",
       "      <td>high</td>\n",
       "      <td>low</td>\n",
       "    </tr>\n",
       "    <tr>\n",
       "      <th>7</th>\n",
       "      <td>elementary</td>\n",
       "      <td>?</td>\n",
       "      <td>[low, high]</td>\n",
       "      <td>low</td>\n",
       "    </tr>\n",
       "  </tbody>\n",
       "</table>\n",
       "</div>"
      ],
      "text/plain": [
       "                 Education       Skills   Experience Productivity\n",
       "0                   higher         high  [low, high]         high\n",
       "1                        ?         high          low         high\n",
       "2                secondary       [high]         high         high\n",
       "3                   higher            ?         high         high\n",
       "4               elementary         high          low          low\n",
       "5                secondary  [high, low]         high          low\n",
       "6  [elementary, secondary]          low         high          low\n",
       "7               elementary            ?  [low, high]          low"
      ]
     },
     "execution_count": 20,
     "metadata": {},
     "output_type": "execute_result"
    }
   ],
   "source": [
    "df"
   ]
  },
  {
   "cell_type": "code",
   "execution_count": 21,
   "metadata": {},
   "outputs": [
    {
     "data": {
      "text/plain": [
       "['Education,higher',\n",
       " 'Education,secondary',\n",
       " 'Education,elementary',\n",
       " 'Skills,high',\n",
       " 'Skills,low',\n",
       " 'Experience,low',\n",
       " 'Experience,high']"
      ]
     },
     "execution_count": 21,
     "metadata": {},
     "output_type": "execute_result"
    }
   ],
   "source": [
    "case_list"
   ]
  },
  {
   "cell_type": "code",
   "execution_count": 22,
   "metadata": {},
   "outputs": [
    {
     "name": "stdout",
     "output_type": "stream",
     "text": [
      "[1, 4]\n",
      "[3, 6, 7]\n",
      "[5, 7, 8]\n",
      "[1, 2, 3, 5, 6]\n",
      "[6, 7]\n",
      "[1, 2, 5, 8]\n",
      "[1, 3, 4, 6, 7, 8]\n"
     ]
    }
   ],
   "source": [
    "temp_list = []\n",
    "att_val_list = []\n",
    "for item in case_list:\n",
    "    a,b = item.split(\",\") #a = attribute and b = value\n",
    "    if \".\" in b:\n",
    "        start,end = b.split(\"..\")\n",
    "        for index, row in df.iterrows():\n",
    "            if row[a] >= int(start) and row[a] <= int(end):\n",
    "                temp_list.append(index+1)\n",
    "        print(temp_list)\n",
    "        att_val_list.append(temp_list)\n",
    "        temp_list = []\n",
    "        \n",
    "    else:\n",
    "        for index, row in df.iterrows():\n",
    "            if type(row[a]) == list:\n",
    "                tmp_list = row[a]\n",
    "                for case in tmp_list:\n",
    "                    if case == b:\n",
    "                        temp_list.append(index+1)\n",
    "                        \n",
    "            if row[a] == b:\n",
    "                temp_list.append(index+1)\n",
    "        print(temp_list)\n",
    "        att_val_list.append(temp_list)\n",
    "        temp_list = []"
   ]
  },
  {
   "cell_type": "code",
   "execution_count": 23,
   "metadata": {},
   "outputs": [
    {
     "name": "stdout",
     "output_type": "stream",
     "text": [
      "0       Education,higher    [1, 4]\n",
      "1       Education,secondary [3, 6, 7]\n",
      "2       Education,elementary[5, 7, 8]\n",
      "3       Skills,high         [1, 2, 3, 5, 6]\n",
      "4       Skills,low          [6, 7]\n",
      "5       Experience,low      [1, 2, 5, 8]\n",
      "6       Experience,high     [1, 3, 4, 6, 7, 8]\n"
     ]
    }
   ],
   "source": [
    "#Print two evenly distributed list side by side\n",
    "fmt = '%-8s%-20s%s'\n",
    "\n",
    "for i, (case, att_val) in enumerate(zip(case_list, att_val_list)):\n",
    "    print(fmt % (i, case, att_val))"
   ]
  },
  {
   "cell_type": "code",
   "execution_count": 24,
   "metadata": {},
   "outputs": [],
   "source": [
    "#Might need to handle cases when att-concept values could not be populated and default should be Null"
   ]
  },
  {
   "cell_type": "markdown",
   "metadata": {},
   "source": [
    "### Start of Lower/Upper & Probabilistic Approximations !!"
   ]
  },
  {
   "cell_type": "markdown",
   "metadata": {},
   "source": [
    "#### Bulding Characteristic Sets !!"
   ]
  },
  {
   "cell_type": "code",
   "execution_count": 25,
   "metadata": {},
   "outputs": [
    {
     "data": {
      "text/html": [
       "<div>\n",
       "<style scoped>\n",
       "    .dataframe tbody tr th:only-of-type {\n",
       "        vertical-align: middle;\n",
       "    }\n",
       "\n",
       "    .dataframe tbody tr th {\n",
       "        vertical-align: top;\n",
       "    }\n",
       "\n",
       "    .dataframe thead th {\n",
       "        text-align: right;\n",
       "    }\n",
       "</style>\n",
       "<table border=\"1\" class=\"dataframe\">\n",
       "  <thead>\n",
       "    <tr style=\"text-align: right;\">\n",
       "      <th></th>\n",
       "      <th>Education</th>\n",
       "      <th>Skills</th>\n",
       "      <th>Experience</th>\n",
       "      <th>Productivity</th>\n",
       "    </tr>\n",
       "  </thead>\n",
       "  <tbody>\n",
       "    <tr>\n",
       "      <th>0</th>\n",
       "      <td>higher</td>\n",
       "      <td>high</td>\n",
       "      <td>[low, high]</td>\n",
       "      <td>high</td>\n",
       "    </tr>\n",
       "    <tr>\n",
       "      <th>1</th>\n",
       "      <td>?</td>\n",
       "      <td>high</td>\n",
       "      <td>low</td>\n",
       "      <td>high</td>\n",
       "    </tr>\n",
       "    <tr>\n",
       "      <th>2</th>\n",
       "      <td>secondary</td>\n",
       "      <td>[high]</td>\n",
       "      <td>high</td>\n",
       "      <td>high</td>\n",
       "    </tr>\n",
       "    <tr>\n",
       "      <th>3</th>\n",
       "      <td>higher</td>\n",
       "      <td>?</td>\n",
       "      <td>high</td>\n",
       "      <td>high</td>\n",
       "    </tr>\n",
       "    <tr>\n",
       "      <th>4</th>\n",
       "      <td>elementary</td>\n",
       "      <td>high</td>\n",
       "      <td>low</td>\n",
       "      <td>low</td>\n",
       "    </tr>\n",
       "    <tr>\n",
       "      <th>5</th>\n",
       "      <td>secondary</td>\n",
       "      <td>[high, low]</td>\n",
       "      <td>high</td>\n",
       "      <td>low</td>\n",
       "    </tr>\n",
       "    <tr>\n",
       "      <th>6</th>\n",
       "      <td>[elementary, secondary]</td>\n",
       "      <td>low</td>\n",
       "      <td>high</td>\n",
       "      <td>low</td>\n",
       "    </tr>\n",
       "    <tr>\n",
       "      <th>7</th>\n",
       "      <td>elementary</td>\n",
       "      <td>?</td>\n",
       "      <td>[low, high]</td>\n",
       "      <td>low</td>\n",
       "    </tr>\n",
       "  </tbody>\n",
       "</table>\n",
       "</div>"
      ],
      "text/plain": [
       "                 Education       Skills   Experience Productivity\n",
       "0                   higher         high  [low, high]         high\n",
       "1                        ?         high          low         high\n",
       "2                secondary       [high]         high         high\n",
       "3                   higher            ?         high         high\n",
       "4               elementary         high          low          low\n",
       "5                secondary  [high, low]         high          low\n",
       "6  [elementary, secondary]          low         high          low\n",
       "7               elementary            ?  [low, high]          low"
      ]
     },
     "execution_count": 25,
     "metadata": {},
     "output_type": "execute_result"
    }
   ],
   "source": [
    "df"
   ]
  },
  {
   "cell_type": "code",
   "execution_count": 26,
   "metadata": {},
   "outputs": [
    {
     "data": {
      "text/plain": [
       "{0, 1, 2, 3, 4, 5, 6, 7}"
      ]
     },
     "execution_count": 26,
     "metadata": {},
     "output_type": "execute_result"
    }
   ],
   "source": [
    "U = set(U)\n",
    "U"
   ]
  },
  {
   "cell_type": "code",
   "execution_count": 27,
   "metadata": {},
   "outputs": [
    {
     "data": {
      "text/plain": [
       "{'Education,higher': [1, 4],\n",
       " 'Education,secondary': [3, 6, 7],\n",
       " 'Education,elementary': [5, 7, 8],\n",
       " 'Skills,high': [1, 2, 3, 5, 6],\n",
       " 'Skills,low': [6, 7],\n",
       " 'Experience,low': [1, 2, 5, 8],\n",
       " 'Experience,high': [1, 3, 4, 6, 7, 8]}"
      ]
     },
     "execution_count": 27,
     "metadata": {},
     "output_type": "execute_result"
    }
   ],
   "source": [
    "# Creating dictionary combining case_list and att_val list\n",
    "block = dict(zip(case_list, att_val_list))\n",
    "block"
   ]
  },
  {
   "cell_type": "code",
   "execution_count": 68,
   "metadata": {},
   "outputs": [
    {
     "name": "stdout",
     "output_type": "stream",
     "text": [
      "here Education,?\n",
      "here Skills,?\n",
      "here Skills,?\n"
     ]
    }
   ],
   "source": [
    "dic = {}\n",
    "for index, row in df.iterrows():\n",
    "    tmp_set = set()\n",
    "    union_set = set()\n",
    "    char_list = []\n",
    "    char_list_2 = []\n",
    "    for cols in attributes[:-1]:\n",
    "        #If the value for corresponding attribute is a list then create all of the att-value pairs\n",
    "        if type(df.loc[index,cols]) == list:\n",
    "            for item in df.loc[index,cols]:\n",
    "                block_key = cols + \",\" + item\n",
    "                char_list.append(block_key) #char_list has all att-val cases\n",
    "        else:\n",
    "            block_key = cols + \",\" + df.loc[index,cols]\n",
    "            char_list_2.append(block_key) #char_list_2 has all single cases\n",
    "       \n",
    "   \n",
    "    #Compute instersection for this current row for Characteristics set\n",
    "    \n",
    "    #Compute union of att-concept value case\n",
    "    for item in char_list:\n",
    "        union_set = union_set.union(set(block[item]))\n",
    "        \n",
    "    for item in char_list_2:\n",
    "        if item in block:\n",
    "            if tmp_set == set():\n",
    "                #Copy over the current set elements to B\n",
    "                for i in range(len(block[item])):\n",
    "                    tmp_set.add(block[item][i])\n",
    "                    \n",
    "            tmp_set = tmp_set.intersection(set(block[item]))\n",
    "        print(tmp_set)\n",
    "        #Problem starts here \n",
    "        else:\n",
    "            if tmp_set == set():\n",
    "                tmp_set = U\n",
    "            tmp_set = tmp_set.intersection(U)\n",
    "    \n",
    "    if union_set == set():\n",
    "        tmp_set = tmp_set\n",
    "    else:\n",
    "        tmp_set = tmp_set.intersection(union_set)\n",
    "        \n",
    "         \n",
    "    key = ('K_%d' % (index+1))\n",
    "    dic[key] = tmp_set"
   ]
  },
  {
   "cell_type": "code",
   "execution_count": 57,
   "metadata": {},
   "outputs": [
    {
     "data": {
      "text/plain": [
       "{'K_1': {1},\n",
       " 'K_2': {1, 2, 5},\n",
       " 'K_3': {3, 6},\n",
       " 'K_4': {1, 4},\n",
       " 'K_5': {5},\n",
       " 'K_6': {3, 6, 7},\n",
       " 'K_7': {6, 7},\n",
       " 'K_8': {5, 7}}"
      ]
     },
     "execution_count": 57,
     "metadata": {},
     "output_type": "execute_result"
    }
   ],
   "source": [
    "dic"
   ]
  },
  {
   "cell_type": "code",
   "execution_count": null,
   "metadata": {},
   "outputs": [],
   "source": []
  }
 ],
 "metadata": {
  "kernelspec": {
   "display_name": "Python 3",
   "language": "python",
   "name": "python3"
  },
  "language_info": {
   "codemirror_mode": {
    "name": "ipython",
    "version": 3
   },
   "file_extension": ".py",
   "mimetype": "text/x-python",
   "name": "python",
   "nbconvert_exporter": "python",
   "pygments_lexer": "ipython3",
   "version": "3.6.6"
  }
 },
 "nbformat": 4,
 "nbformat_minor": 2
}
