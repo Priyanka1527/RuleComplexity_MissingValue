{
 "cells": [
  {
   "cell_type": "code",
   "execution_count": 1,
   "metadata": {},
   "outputs": [],
   "source": [
    "import pandas\n",
    "import itertools\n",
    "import re\n",
    "import matplotlib.pyplot as plt\n",
    "import numpy as np\n",
    "import pandas as pd\n",
    "from scipy import interpolate\n",
    "from scipy.interpolate import interp1d"
   ]
  },
  {
   "cell_type": "code",
   "execution_count": 2,
   "metadata": {},
   "outputs": [],
   "source": [
    "def findRuleComplexity(lines):\n",
    "    rule_count = 0\n",
    "    condition_count = 0\n",
    "    for item in lines:\n",
    "        item = item[1:len(item)-2]\n",
    "        item = item.replace(\", \",\"\\n\")\n",
    "        item = item.split(\"\\n\")\n",
    "\n",
    "        rule_count += len(item)\n",
    "        for rule in item:\n",
    "            left,right = rule.split(\"->\")\n",
    "            conditions = left.split(\"&\")\n",
    "            length = len(conditions)\n",
    "            condition_count += length\n",
    "    return rule_count,condition_count"
   ]
  },
  {
   "cell_type": "markdown",
   "metadata": {},
   "source": [
    "#### Iris_0 !!"
   ]
  },
  {
   "cell_type": "code",
   "execution_count": 3,
   "metadata": {},
   "outputs": [],
   "source": [
    "f1 = open('../data/Echo/Rules/Echo_main.txt', \"r\")\n",
    "\n",
    "\n",
    "data = {}\n",
    "data[\"Lower,\" + \"?\"] = list(f1)\n",
    "data[\"Middle,\" + \"?\"] = data[\"Lower,\" + \"?\"]\n",
    "data[\"Upper,\" + \"?\"] = data[\"Lower,\" + \"?\"]\n",
    "data[\"Lower,\" + \"-\"] = data[\"Lower,\" + \"?\"]\n",
    "data[\"Middle,\" + \"-\"] = data[\"Lower,\" + \"?\"]\n",
    "data[\"Upper,\" + \"-\"] = data[\"Lower,\" + \"?\"]"
   ]
  },
  {
   "cell_type": "code",
   "execution_count": 4,
   "metadata": {},
   "outputs": [],
   "source": [
    "Iris_0 = {}\n",
    "for key, value in data.items():\n",
    "    rule,condition = findRuleComplexity(value)\n",
    "    Iris_0[key] = [rule]\n",
    "    Iris_0[key].append(condition)"
   ]
  },
  {
   "cell_type": "markdown",
   "metadata": {},
   "source": [
    "#### Iris_5 !!"
   ]
  },
  {
   "cell_type": "code",
   "execution_count": 5,
   "metadata": {},
   "outputs": [],
   "source": [
    "f1 = open('../data/Echo/Rules/Echo_5_lost_lower.txt', \"r\")\n",
    "f2 = open('../data/Echo/Rules/Echo_5_lost_middle.txt', \"r\")\n",
    "f3 = open('../data/Echo/Rules/Echo_5_lost_upper.txt', \"r\")\n",
    "f4 = open('../data/Echo/Rules/Echo_5_attcon_lower.txt', \"r\")\n",
    "f5 = open('../data/Echo/Rules/Echo_5_attcon_middle.txt', \"r\")\n",
    "f6 = open('../data/Echo/Rules/Echo_5_attcon_upper.txt', \"r\")\n",
    "\n",
    "\n",
    "data = {}\n",
    "data[\"Lower,\" + \"?\"] = list(f1)\n",
    "data[\"Middle,\" + \"?\"] = list(f2)\n",
    "data[\"Upper,\" + \"?\"] = list(f3)\n",
    "data[\"Lower,\" + \"-\"] = list(f4)\n",
    "data[\"Middle,\" + \"-\"] = list(f5)\n",
    "data[\"Upper,\" + \"-\"] = list(f6)"
   ]
  },
  {
   "cell_type": "code",
   "execution_count": 6,
   "metadata": {},
   "outputs": [],
   "source": [
    "Iris_5 = {}\n",
    "for key, value in data.items():\n",
    "    rule,condition = findRuleComplexity(value)\n",
    "    Iris_5[key] = [rule]\n",
    "    Iris_5[key].append(condition)"
   ]
  },
  {
   "cell_type": "markdown",
   "metadata": {},
   "source": [
    "#### Iris_10 !!"
   ]
  },
  {
   "cell_type": "code",
   "execution_count": 7,
   "metadata": {},
   "outputs": [],
   "source": [
    "f1 = open('../data/Echo/Rules/Echo_10_lost_lower.txt', \"r\")\n",
    "f2 = open('../data/Echo/Rules/Echo_10_lost_middle.txt', \"r\")\n",
    "f3 = open('../data/Echo/Rules/Echo_10_lost_upper.txt', \"r\")\n",
    "f4 = open('../data/Echo/Rules/Echo_10_attcon_lower.txt', \"r\")\n",
    "f5 = open('../data/Echo/Rules/Echo_10_attcon_middle.txt', \"r\")\n",
    "f6 = open('../data/Echo/Rules/Echo_10_attcon_upper.txt', \"r\")"
   ]
  },
  {
   "cell_type": "code",
   "execution_count": 8,
   "metadata": {},
   "outputs": [],
   "source": [
    "data = {}\n",
    "data[\"Lower,\" + \"?\"] = list(f1)\n",
    "data[\"Middle,\" + \"?\"] = list(f2)\n",
    "data[\"Upper,\" + \"?\"] = list(f3)\n",
    "data[\"Lower,\" + \"-\"] = list(f4)\n",
    "data[\"Middle,\" + \"-\"] = list(f5)\n",
    "data[\"Upper,\" + \"-\"] = list(f6)"
   ]
  },
  {
   "cell_type": "code",
   "execution_count": 9,
   "metadata": {},
   "outputs": [],
   "source": [
    "Iris_10 = {}\n",
    "for key, value in data.items():\n",
    "    rule,condition = findRuleComplexity(value)\n",
    "    Iris_10[key] = [rule]\n",
    "    Iris_10[key].append(condition)"
   ]
  },
  {
   "cell_type": "markdown",
   "metadata": {},
   "source": [
    "#### Iris_15 !!"
   ]
  },
  {
   "cell_type": "code",
   "execution_count": 10,
   "metadata": {},
   "outputs": [],
   "source": [
    "f1 = open('../data/Echo/Rules/Echo_15_lost_lower.txt', \"r\")\n",
    "f2 = open('../data/Echo/Rules/Echo_15_lost_middle.txt', \"r\")\n",
    "f3 = open('../data/Echo/Rules/Echo_15_lost_upper.txt', \"r\")\n",
    "f4 = open('../data/Echo/Rules/Echo_15_attcon_lower.txt', \"r\")\n",
    "f5 = open('../data/Echo/Rules/Echo_15_attcon_middle.txt', \"r\")\n",
    "f6 = open('../data/Echo/Rules/Echo_15_attcon_upper.txt', \"r\")\n",
    "\n",
    "data = {}\n",
    "data[\"Lower,\" + \"?\"] = list(f1)\n",
    "data[\"Middle,\" + \"?\"] = list(f2)\n",
    "data[\"Upper,\" + \"?\"] = list(f3)\n",
    "data[\"Lower,\" + \"-\"] = list(f4)\n",
    "data[\"Middle,\" + \"-\"] = list(f5)\n",
    "data[\"Upper,\" + \"-\"] = list(f6)"
   ]
  },
  {
   "cell_type": "code",
   "execution_count": 11,
   "metadata": {},
   "outputs": [],
   "source": [
    "Iris_15 = {}\n",
    "for key, value in data.items():\n",
    "    rule,condition = findRuleComplexity(value)\n",
    "    Iris_15[key] = [rule]\n",
    "    Iris_15[key].append(condition)"
   ]
  },
  {
   "cell_type": "markdown",
   "metadata": {},
   "source": [
    "#### Iris_20 !!"
   ]
  },
  {
   "cell_type": "code",
   "execution_count": 12,
   "metadata": {},
   "outputs": [],
   "source": [
    "f1 = open('../data/Echo/Rules/Echo_20_lost_lower.txt', \"r\")\n",
    "f2 = open('../data/Echo/Rules/Echo_20_lost_middle.txt', \"r\")\n",
    "f3 = open('../data/Echo/Rules/Echo_20_lost_upper.txt', \"r\")\n",
    "f4 = open('../data/Echo/Rules/Echo_20_attcon_lower.txt', \"r\")\n",
    "f5 = open('../data/Echo/Rules/Echo_20_attcon_middle.txt', \"r\")\n",
    "f6 = open('../data/Echo/Rules/Echo_20_attcon_upper.txt', \"r\")\n",
    "\n",
    "data = {}\n",
    "data[\"Lower,\" + \"?\"] = list(f1)\n",
    "data[\"Middle,\" + \"?\"] = list(f2)\n",
    "data[\"Upper,\" + \"?\"] = list(f3)\n",
    "data[\"Lower,\" + \"-\"] = list(f4)\n",
    "data[\"Middle,\" + \"-\"] = list(f5)\n",
    "data[\"Upper,\" + \"-\"] = list(f6)"
   ]
  },
  {
   "cell_type": "code",
   "execution_count": 13,
   "metadata": {},
   "outputs": [],
   "source": [
    "Iris_20 = {}\n",
    "for key, value in data.items():\n",
    "    rule,condition = findRuleComplexity(value)\n",
    "    Iris_20[key] = [rule]\n",
    "    Iris_20[key].append(condition)"
   ]
  },
  {
   "cell_type": "markdown",
   "metadata": {},
   "source": [
    "#### Iris_25 !!"
   ]
  },
  {
   "cell_type": "code",
   "execution_count": 14,
   "metadata": {},
   "outputs": [],
   "source": [
    "f1 = open('../data/Echo/Rules/Echo_25_lost_lower.txt', \"r\")\n",
    "f2 = open('../data/Echo/Rules/Echo_25_lost_middle.txt', \"r\")\n",
    "f3 = open('../data/Echo/Rules/Echo_25_lost_upper.txt', \"r\")\n",
    "f4 = open('../data/Echo/Rules/Echo_25_attcon_lower.txt', \"r\")\n",
    "f5 = open('../data/Echo/Rules/Echo_25_attcon_middle.txt', \"r\")\n",
    "f6 = open('../data/Echo/Rules/Echo_25_attcon_upper.txt', \"r\")\n",
    "\n",
    "data = {}\n",
    "data[\"Lower,\" + \"?\"] = list(f1)\n",
    "data[\"Middle,\" + \"?\"] = list(f2)\n",
    "data[\"Upper,\" + \"?\"] = list(f3)\n",
    "data[\"Lower,\" + \"-\"] = list(f4)\n",
    "data[\"Middle,\" + \"-\"] = list(f5)\n",
    "data[\"Upper,\" + \"-\"] = list(f6)"
   ]
  },
  {
   "cell_type": "code",
   "execution_count": 15,
   "metadata": {},
   "outputs": [],
   "source": [
    "Iris_25 = {}\n",
    "for key, value in data.items():\n",
    "    rule,condition = findRuleComplexity(value)\n",
    "    Iris_25[key] = [rule]\n",
    "    Iris_25[key].append(condition)"
   ]
  },
  {
   "cell_type": "markdown",
   "metadata": {},
   "source": [
    "#### Iris_30 !!"
   ]
  },
  {
   "cell_type": "code",
   "execution_count": 16,
   "metadata": {},
   "outputs": [],
   "source": [
    "f1 = open('../data/Echo/Rules/Echo_30_lost_lower.txt', \"r\")\n",
    "f2 = open('../data/Echo/Rules/Echo_30_lost_middle.txt', \"r\")\n",
    "f3 = open('../data/Echo/Rules/Echo_30_lost_upper.txt', \"r\")\n",
    "f4 = open('../data/Echo/Rules/Echo_30_attcon_lower.txt', \"r\")\n",
    "f5 = open('../data/Echo/Rules/Echo_30_attcon_middle.txt', \"r\")\n",
    "f6 = open('../data/Echo/Rules/Echo_30_attcon_upper.txt', \"r\")\n",
    "\n",
    "data = {}\n",
    "data[\"Lower,\" + \"?\"] = list(f1)\n",
    "data[\"Middle,\" + \"?\"] = list(f2)\n",
    "data[\"Upper,\" + \"?\"] = list(f3)\n",
    "data[\"Lower,\" + \"-\"] = list(f4)\n",
    "data[\"Middle,\" + \"-\"] = list(f5)\n",
    "data[\"Upper,\" + \"-\"] = list(f6)"
   ]
  },
  {
   "cell_type": "code",
   "execution_count": 17,
   "metadata": {},
   "outputs": [],
   "source": [
    "Iris_30 = {}\n",
    "for key, value in data.items():\n",
    "    rule,condition = findRuleComplexity(value)\n",
    "    Iris_30[key] = [rule]\n",
    "    Iris_30[key].append(condition)"
   ]
  },
  {
   "cell_type": "markdown",
   "metadata": {},
   "source": [
    "#### Iris_35 !!"
   ]
  },
  {
   "cell_type": "code",
   "execution_count": 18,
   "metadata": {},
   "outputs": [],
   "source": [
    "f1 = open('../data/Echo/Rules/Echo_35_lost_lower.txt', \"r\")\n",
    "f2 = open('../data/Echo/Rules/Echo_35_lost_middle.txt', \"r\")\n",
    "f3 = open('../data/Echo/Rules/Echo_35_lost_upper.txt', \"r\")\n",
    "f4 = open('../data/Echo/Rules/Echo_35_attcon_lower.txt', \"r\")\n",
    "f5 = open('../data/Echo/Rules/Echo_35_attcon_middle.txt', \"r\")\n",
    "f6 = open('../data/Echo/Rules/Echo_35_attcon_upper.txt', \"r\")\n",
    "\n",
    "data = {}\n",
    "data[\"Lower,\" + \"?\"] = list(f1)\n",
    "data[\"Middle,\" + \"?\"] = list(f2)\n",
    "data[\"Upper,\" + \"?\"] = list(f3)\n",
    "data[\"Lower,\" + \"-\"] = list(f4)\n",
    "data[\"Middle,\" + \"-\"] = list(f5)\n",
    "data[\"Upper,\" + \"-\"] = list(f6)"
   ]
  },
  {
   "cell_type": "code",
   "execution_count": 19,
   "metadata": {},
   "outputs": [],
   "source": [
    "Iris_35 = {}\n",
    "for key, value in data.items():\n",
    "    rule,condition = findRuleComplexity(value)\n",
    "    Iris_35[key] = [rule]\n",
    "    Iris_35[key].append(condition)"
   ]
  },
  {
   "cell_type": "code",
   "execution_count": 20,
   "metadata": {},
   "outputs": [],
   "source": [
    "f1 = open('../data/Echo/Rules/Echo_40_lost_lower.txt', \"r\")\n",
    "f2 = open('../data/Echo/Rules/Echo_40_lost_middle.txt', \"r\")\n",
    "f3 = open('../data/Echo/Rules/Echo_40_lost_upper.txt', \"r\")\n",
    "f4 = open('../data/Echo/Rules/Echo_40_attcon_lower.txt', \"r\")\n",
    "f5 = open('../data/Echo/Rules/Echo_40_attcon_middle.txt', \"r\")\n",
    "f6 = open('../data/Echo/Rules/Echo_40_attcon_upper.txt', \"r\")\n",
    "\n",
    "data = {}\n",
    "data[\"Lower,\" + \"?\"] = list(f1)\n",
    "data[\"Middle,\" + \"?\"] = list(f2)\n",
    "data[\"Upper,\" + \"?\"] = list(f3)\n",
    "data[\"Lower,\" + \"-\"] = list(f4)\n",
    "data[\"Middle,\" + \"-\"] = list(f5)\n",
    "data[\"Upper,\" + \"-\"] = list(f6)"
   ]
  },
  {
   "cell_type": "code",
   "execution_count": 21,
   "metadata": {},
   "outputs": [],
   "source": [
    "Iris_40 = {}\n",
    "for key, value in data.items():\n",
    "    rule,condition = findRuleComplexity(value)\n",
    "    Iris_40[key] = [rule]\n",
    "    Iris_40[key].append(condition)"
   ]
  },
  {
   "cell_type": "code",
   "execution_count": 22,
   "metadata": {},
   "outputs": [
    {
     "name": "stdout",
     "output_type": "stream",
     "text": [
      "defaultdict(<class 'list'>, {'Lower,?': [6, 8, 8, 16, 18, 14, 12, 10, 20], 'Middle,?': [6, 8, 8, 16, 18, 14, 12, 10, 16], 'Upper,?': [6, 8, 8, 16, 18, 14, 12, 10, 16], 'Lower,-': [6, 10, 10, 10, 10, 10, 10, 10, 12], 'Middle,-': [6, 10, 10, 10, 10, 10, 10, 10, 9], 'Upper,-': [6, 10, 10, 10, 10, 10, 10, 10, 9]})\n"
     ]
    }
   ],
   "source": [
    "#Rule Count\n",
    "from collections import defaultdict\n",
    "dd = defaultdict(list)\n",
    "\n",
    "for d in (Iris_0, Iris_5, Iris_10, Iris_15, Iris_20, Iris_25, Iris_30, Iris_35, Iris_40): \n",
    "    for key, value in d.items():\n",
    "        dd[key].append(value[0])\n",
    "\n",
    "print(dd)"
   ]
  },
  {
   "cell_type": "code",
   "execution_count": 23,
   "metadata": {},
   "outputs": [
    {
     "name": "stdout",
     "output_type": "stream",
     "text": [
      "defaultdict(<class 'list'>, {'Lower,?': [17, 36, 26, 40, 54, 36, 32, 26, 49], 'Middle,?': [17, 36, 26, 40, 54, 36, 32, 26, 36], 'Upper,?': [17, 36, 26, 40, 54, 36, 32, 26, 36], 'Lower,-': [17, 30, 36, 30, 34, 36, 48, 48, 34], 'Middle,-': [17, 30, 36, 30, 34, 36, 48, 48, 28], 'Upper,-': [17, 30, 36, 30, 34, 36, 48, 48, 28]})\n"
     ]
    }
   ],
   "source": [
    "#Condition Count\n",
    "from collections import defaultdict\n",
    "cc = defaultdict(list)\n",
    "\n",
    "for d in (Iris_0, Iris_5, Iris_10, Iris_15, Iris_20, Iris_25, Iris_30, Iris_35, Iris_40): \n",
    "    for key, value in d.items():\n",
    "        cc[key].append(value[1])\n",
    "\n",
    "print(cc)"
   ]
  },
  {
   "cell_type": "code",
   "execution_count": 24,
   "metadata": {},
   "outputs": [
    {
     "data": {
      "text/plain": [
       "defaultdict(list,\n",
       "            {'Lower,?': [6, 8, 8, 16, 18, 14, 12, 10, 20],\n",
       "             'Middle,?': [6, 8, 8, 16, 18, 14, 12, 10, 16],\n",
       "             'Upper,?': [6, 8, 8, 16, 18, 14, 12, 10, 16],\n",
       "             'Lower,-': [6, 10, 10, 10, 10, 10, 10, 10, 12],\n",
       "             'Middle,-': [6, 10, 10, 10, 10, 10, 10, 10, 9],\n",
       "             'Upper,-': [6, 10, 10, 10, 10, 10, 10, 10, 9]})"
      ]
     },
     "execution_count": 24,
     "metadata": {},
     "output_type": "execute_result"
    }
   ],
   "source": [
    "dd"
   ]
  },
  {
   "cell_type": "code",
   "execution_count": 25,
   "metadata": {},
   "outputs": [
    {
     "data": {
      "text/plain": [
       "defaultdict(list,\n",
       "            {'Lower,?': [17, 36, 26, 40, 54, 36, 32, 26, 49],\n",
       "             'Middle,?': [17, 36, 26, 40, 54, 36, 32, 26, 36],\n",
       "             'Upper,?': [17, 36, 26, 40, 54, 36, 32, 26, 36],\n",
       "             'Lower,-': [17, 30, 36, 30, 34, 36, 48, 48, 34],\n",
       "             'Middle,-': [17, 30, 36, 30, 34, 36, 48, 48, 28],\n",
       "             'Upper,-': [17, 30, 36, 30, 34, 36, 48, 48, 28]})"
      ]
     },
     "execution_count": 25,
     "metadata": {},
     "output_type": "execute_result"
    }
   ],
   "source": [
    "cc"
   ]
  },
  {
   "cell_type": "code",
   "execution_count": 26,
   "metadata": {},
   "outputs": [],
   "source": [
    "df = pd.DataFrame.from_dict(dd)\n",
    "df2 = pd.DataFrame.from_dict(cc)"
   ]
  },
  {
   "cell_type": "code",
   "execution_count": 27,
   "metadata": {},
   "outputs": [
    {
     "data": {
      "text/html": [
       "<div>\n",
       "<style scoped>\n",
       "    .dataframe tbody tr th:only-of-type {\n",
       "        vertical-align: middle;\n",
       "    }\n",
       "\n",
       "    .dataframe tbody tr th {\n",
       "        vertical-align: top;\n",
       "    }\n",
       "\n",
       "    .dataframe thead th {\n",
       "        text-align: right;\n",
       "    }\n",
       "</style>\n",
       "<table border=\"1\" class=\"dataframe\">\n",
       "  <thead>\n",
       "    <tr style=\"text-align: right;\">\n",
       "      <th></th>\n",
       "      <th>Lower,?</th>\n",
       "      <th>Middle,?</th>\n",
       "      <th>Upper,?</th>\n",
       "      <th>Lower,-</th>\n",
       "      <th>Middle,-</th>\n",
       "      <th>Upper,-</th>\n",
       "    </tr>\n",
       "  </thead>\n",
       "  <tbody>\n",
       "    <tr>\n",
       "      <th>0</th>\n",
       "      <td>6</td>\n",
       "      <td>6</td>\n",
       "      <td>6</td>\n",
       "      <td>6</td>\n",
       "      <td>6</td>\n",
       "      <td>6</td>\n",
       "    </tr>\n",
       "    <tr>\n",
       "      <th>1</th>\n",
       "      <td>8</td>\n",
       "      <td>8</td>\n",
       "      <td>8</td>\n",
       "      <td>10</td>\n",
       "      <td>10</td>\n",
       "      <td>10</td>\n",
       "    </tr>\n",
       "    <tr>\n",
       "      <th>2</th>\n",
       "      <td>8</td>\n",
       "      <td>8</td>\n",
       "      <td>8</td>\n",
       "      <td>10</td>\n",
       "      <td>10</td>\n",
       "      <td>10</td>\n",
       "    </tr>\n",
       "    <tr>\n",
       "      <th>3</th>\n",
       "      <td>16</td>\n",
       "      <td>16</td>\n",
       "      <td>16</td>\n",
       "      <td>10</td>\n",
       "      <td>10</td>\n",
       "      <td>10</td>\n",
       "    </tr>\n",
       "    <tr>\n",
       "      <th>4</th>\n",
       "      <td>18</td>\n",
       "      <td>18</td>\n",
       "      <td>18</td>\n",
       "      <td>10</td>\n",
       "      <td>10</td>\n",
       "      <td>10</td>\n",
       "    </tr>\n",
       "    <tr>\n",
       "      <th>5</th>\n",
       "      <td>14</td>\n",
       "      <td>14</td>\n",
       "      <td>14</td>\n",
       "      <td>10</td>\n",
       "      <td>10</td>\n",
       "      <td>10</td>\n",
       "    </tr>\n",
       "    <tr>\n",
       "      <th>6</th>\n",
       "      <td>12</td>\n",
       "      <td>12</td>\n",
       "      <td>12</td>\n",
       "      <td>10</td>\n",
       "      <td>10</td>\n",
       "      <td>10</td>\n",
       "    </tr>\n",
       "    <tr>\n",
       "      <th>7</th>\n",
       "      <td>10</td>\n",
       "      <td>10</td>\n",
       "      <td>10</td>\n",
       "      <td>10</td>\n",
       "      <td>10</td>\n",
       "      <td>10</td>\n",
       "    </tr>\n",
       "    <tr>\n",
       "      <th>8</th>\n",
       "      <td>20</td>\n",
       "      <td>16</td>\n",
       "      <td>16</td>\n",
       "      <td>12</td>\n",
       "      <td>9</td>\n",
       "      <td>9</td>\n",
       "    </tr>\n",
       "  </tbody>\n",
       "</table>\n",
       "</div>"
      ],
      "text/plain": [
       "   Lower,?  Middle,?  Upper,?  Lower,-  Middle,-  Upper,-\n",
       "0        6         6        6        6         6        6\n",
       "1        8         8        8       10        10       10\n",
       "2        8         8        8       10        10       10\n",
       "3       16        16       16       10        10       10\n",
       "4       18        18       18       10        10       10\n",
       "5       14        14       14       10        10       10\n",
       "6       12        12       12       10        10       10\n",
       "7       10        10       10       10        10       10\n",
       "8       20        16       16       12         9        9"
      ]
     },
     "execution_count": 27,
     "metadata": {},
     "output_type": "execute_result"
    }
   ],
   "source": [
    "df"
   ]
  },
  {
   "cell_type": "code",
   "execution_count": 28,
   "metadata": {},
   "outputs": [
    {
     "data": {
      "text/html": [
       "<div>\n",
       "<style scoped>\n",
       "    .dataframe tbody tr th:only-of-type {\n",
       "        vertical-align: middle;\n",
       "    }\n",
       "\n",
       "    .dataframe tbody tr th {\n",
       "        vertical-align: top;\n",
       "    }\n",
       "\n",
       "    .dataframe thead th {\n",
       "        text-align: right;\n",
       "    }\n",
       "</style>\n",
       "<table border=\"1\" class=\"dataframe\">\n",
       "  <thead>\n",
       "    <tr style=\"text-align: right;\">\n",
       "      <th></th>\n",
       "      <th>Lower,?</th>\n",
       "      <th>Middle,?</th>\n",
       "      <th>Upper,?</th>\n",
       "      <th>Lower,-</th>\n",
       "      <th>Middle,-</th>\n",
       "      <th>Upper,-</th>\n",
       "    </tr>\n",
       "  </thead>\n",
       "  <tbody>\n",
       "    <tr>\n",
       "      <th>0</th>\n",
       "      <td>17</td>\n",
       "      <td>17</td>\n",
       "      <td>17</td>\n",
       "      <td>17</td>\n",
       "      <td>17</td>\n",
       "      <td>17</td>\n",
       "    </tr>\n",
       "    <tr>\n",
       "      <th>1</th>\n",
       "      <td>36</td>\n",
       "      <td>36</td>\n",
       "      <td>36</td>\n",
       "      <td>30</td>\n",
       "      <td>30</td>\n",
       "      <td>30</td>\n",
       "    </tr>\n",
       "    <tr>\n",
       "      <th>2</th>\n",
       "      <td>26</td>\n",
       "      <td>26</td>\n",
       "      <td>26</td>\n",
       "      <td>36</td>\n",
       "      <td>36</td>\n",
       "      <td>36</td>\n",
       "    </tr>\n",
       "    <tr>\n",
       "      <th>3</th>\n",
       "      <td>40</td>\n",
       "      <td>40</td>\n",
       "      <td>40</td>\n",
       "      <td>30</td>\n",
       "      <td>30</td>\n",
       "      <td>30</td>\n",
       "    </tr>\n",
       "    <tr>\n",
       "      <th>4</th>\n",
       "      <td>54</td>\n",
       "      <td>54</td>\n",
       "      <td>54</td>\n",
       "      <td>34</td>\n",
       "      <td>34</td>\n",
       "      <td>34</td>\n",
       "    </tr>\n",
       "    <tr>\n",
       "      <th>5</th>\n",
       "      <td>36</td>\n",
       "      <td>36</td>\n",
       "      <td>36</td>\n",
       "      <td>36</td>\n",
       "      <td>36</td>\n",
       "      <td>36</td>\n",
       "    </tr>\n",
       "    <tr>\n",
       "      <th>6</th>\n",
       "      <td>32</td>\n",
       "      <td>32</td>\n",
       "      <td>32</td>\n",
       "      <td>48</td>\n",
       "      <td>48</td>\n",
       "      <td>48</td>\n",
       "    </tr>\n",
       "    <tr>\n",
       "      <th>7</th>\n",
       "      <td>26</td>\n",
       "      <td>26</td>\n",
       "      <td>26</td>\n",
       "      <td>48</td>\n",
       "      <td>48</td>\n",
       "      <td>48</td>\n",
       "    </tr>\n",
       "    <tr>\n",
       "      <th>8</th>\n",
       "      <td>49</td>\n",
       "      <td>36</td>\n",
       "      <td>36</td>\n",
       "      <td>34</td>\n",
       "      <td>28</td>\n",
       "      <td>28</td>\n",
       "    </tr>\n",
       "  </tbody>\n",
       "</table>\n",
       "</div>"
      ],
      "text/plain": [
       "   Lower,?  Middle,?  Upper,?  Lower,-  Middle,-  Upper,-\n",
       "0       17        17       17       17        17       17\n",
       "1       36        36       36       30        30       30\n",
       "2       26        26       26       36        36       36\n",
       "3       40        40       40       30        30       30\n",
       "4       54        54       54       34        34       34\n",
       "5       36        36       36       36        36       36\n",
       "6       32        32       32       48        48       48\n",
       "7       26        26       26       48        48       48\n",
       "8       49        36       36       34        28       28"
      ]
     },
     "execution_count": 28,
     "metadata": {},
     "output_type": "execute_result"
    }
   ],
   "source": [
    "df2"
   ]
  },
  {
   "cell_type": "markdown",
   "metadata": {},
   "source": [
    "### Plotting Begins !!"
   ]
  },
  {
   "cell_type": "code",
   "execution_count": 29,
   "metadata": {},
   "outputs": [
    {
     "data": {
      "text/plain": [
       "array([ 0,  5, 10, 15, 20, 25, 30, 35, 40])"
      ]
     },
     "execution_count": 29,
     "metadata": {},
     "output_type": "execute_result"
    }
   ],
   "source": [
    "x = np.arange(0, 45, 5)\n",
    "x"
   ]
  },
  {
   "cell_type": "code",
   "execution_count": 30,
   "metadata": {},
   "outputs": [],
   "source": [
    "df['x'] = x\n",
    "df2['x'] = x"
   ]
  },
  {
   "cell_type": "code",
   "execution_count": 31,
   "metadata": {},
   "outputs": [
    {
     "data": {
      "text/html": [
       "<div>\n",
       "<style scoped>\n",
       "    .dataframe tbody tr th:only-of-type {\n",
       "        vertical-align: middle;\n",
       "    }\n",
       "\n",
       "    .dataframe tbody tr th {\n",
       "        vertical-align: top;\n",
       "    }\n",
       "\n",
       "    .dataframe thead th {\n",
       "        text-align: right;\n",
       "    }\n",
       "</style>\n",
       "<table border=\"1\" class=\"dataframe\">\n",
       "  <thead>\n",
       "    <tr style=\"text-align: right;\">\n",
       "      <th></th>\n",
       "      <th>Lower,?</th>\n",
       "      <th>Middle,?</th>\n",
       "      <th>Upper,?</th>\n",
       "      <th>Lower,-</th>\n",
       "      <th>Middle,-</th>\n",
       "      <th>Upper,-</th>\n",
       "      <th>x</th>\n",
       "    </tr>\n",
       "  </thead>\n",
       "  <tbody>\n",
       "    <tr>\n",
       "      <th>0</th>\n",
       "      <td>6</td>\n",
       "      <td>6</td>\n",
       "      <td>6</td>\n",
       "      <td>6</td>\n",
       "      <td>6</td>\n",
       "      <td>6</td>\n",
       "      <td>0</td>\n",
       "    </tr>\n",
       "    <tr>\n",
       "      <th>1</th>\n",
       "      <td>8</td>\n",
       "      <td>8</td>\n",
       "      <td>8</td>\n",
       "      <td>10</td>\n",
       "      <td>10</td>\n",
       "      <td>10</td>\n",
       "      <td>5</td>\n",
       "    </tr>\n",
       "    <tr>\n",
       "      <th>2</th>\n",
       "      <td>8</td>\n",
       "      <td>8</td>\n",
       "      <td>8</td>\n",
       "      <td>10</td>\n",
       "      <td>10</td>\n",
       "      <td>10</td>\n",
       "      <td>10</td>\n",
       "    </tr>\n",
       "    <tr>\n",
       "      <th>3</th>\n",
       "      <td>16</td>\n",
       "      <td>16</td>\n",
       "      <td>16</td>\n",
       "      <td>10</td>\n",
       "      <td>10</td>\n",
       "      <td>10</td>\n",
       "      <td>15</td>\n",
       "    </tr>\n",
       "    <tr>\n",
       "      <th>4</th>\n",
       "      <td>18</td>\n",
       "      <td>18</td>\n",
       "      <td>18</td>\n",
       "      <td>10</td>\n",
       "      <td>10</td>\n",
       "      <td>10</td>\n",
       "      <td>20</td>\n",
       "    </tr>\n",
       "    <tr>\n",
       "      <th>5</th>\n",
       "      <td>14</td>\n",
       "      <td>14</td>\n",
       "      <td>14</td>\n",
       "      <td>10</td>\n",
       "      <td>10</td>\n",
       "      <td>10</td>\n",
       "      <td>25</td>\n",
       "    </tr>\n",
       "    <tr>\n",
       "      <th>6</th>\n",
       "      <td>12</td>\n",
       "      <td>12</td>\n",
       "      <td>12</td>\n",
       "      <td>10</td>\n",
       "      <td>10</td>\n",
       "      <td>10</td>\n",
       "      <td>30</td>\n",
       "    </tr>\n",
       "    <tr>\n",
       "      <th>7</th>\n",
       "      <td>10</td>\n",
       "      <td>10</td>\n",
       "      <td>10</td>\n",
       "      <td>10</td>\n",
       "      <td>10</td>\n",
       "      <td>10</td>\n",
       "      <td>35</td>\n",
       "    </tr>\n",
       "    <tr>\n",
       "      <th>8</th>\n",
       "      <td>20</td>\n",
       "      <td>16</td>\n",
       "      <td>16</td>\n",
       "      <td>12</td>\n",
       "      <td>9</td>\n",
       "      <td>9</td>\n",
       "      <td>40</td>\n",
       "    </tr>\n",
       "  </tbody>\n",
       "</table>\n",
       "</div>"
      ],
      "text/plain": [
       "   Lower,?  Middle,?  Upper,?  Lower,-  Middle,-  Upper,-   x\n",
       "0        6         6        6        6         6        6   0\n",
       "1        8         8        8       10        10       10   5\n",
       "2        8         8        8       10        10       10  10\n",
       "3       16        16       16       10        10       10  15\n",
       "4       18        18       18       10        10       10  20\n",
       "5       14        14       14       10        10       10  25\n",
       "6       12        12       12       10        10       10  30\n",
       "7       10        10       10       10        10       10  35\n",
       "8       20        16       16       12         9        9  40"
      ]
     },
     "execution_count": 31,
     "metadata": {},
     "output_type": "execute_result"
    }
   ],
   "source": [
    "df"
   ]
  },
  {
   "cell_type": "code",
   "execution_count": 32,
   "metadata": {},
   "outputs": [
    {
     "data": {
      "text/html": [
       "<div>\n",
       "<style scoped>\n",
       "    .dataframe tbody tr th:only-of-type {\n",
       "        vertical-align: middle;\n",
       "    }\n",
       "\n",
       "    .dataframe tbody tr th {\n",
       "        vertical-align: top;\n",
       "    }\n",
       "\n",
       "    .dataframe thead th {\n",
       "        text-align: right;\n",
       "    }\n",
       "</style>\n",
       "<table border=\"1\" class=\"dataframe\">\n",
       "  <thead>\n",
       "    <tr style=\"text-align: right;\">\n",
       "      <th></th>\n",
       "      <th>Lower,?</th>\n",
       "      <th>Middle,?</th>\n",
       "      <th>Upper,?</th>\n",
       "      <th>Lower,-</th>\n",
       "      <th>Middle,-</th>\n",
       "      <th>Upper,-</th>\n",
       "      <th>x</th>\n",
       "    </tr>\n",
       "  </thead>\n",
       "  <tbody>\n",
       "    <tr>\n",
       "      <th>0</th>\n",
       "      <td>17</td>\n",
       "      <td>17</td>\n",
       "      <td>17</td>\n",
       "      <td>17</td>\n",
       "      <td>17</td>\n",
       "      <td>17</td>\n",
       "      <td>0</td>\n",
       "    </tr>\n",
       "    <tr>\n",
       "      <th>1</th>\n",
       "      <td>36</td>\n",
       "      <td>36</td>\n",
       "      <td>36</td>\n",
       "      <td>30</td>\n",
       "      <td>30</td>\n",
       "      <td>30</td>\n",
       "      <td>5</td>\n",
       "    </tr>\n",
       "    <tr>\n",
       "      <th>2</th>\n",
       "      <td>26</td>\n",
       "      <td>26</td>\n",
       "      <td>26</td>\n",
       "      <td>36</td>\n",
       "      <td>36</td>\n",
       "      <td>36</td>\n",
       "      <td>10</td>\n",
       "    </tr>\n",
       "    <tr>\n",
       "      <th>3</th>\n",
       "      <td>40</td>\n",
       "      <td>40</td>\n",
       "      <td>40</td>\n",
       "      <td>30</td>\n",
       "      <td>30</td>\n",
       "      <td>30</td>\n",
       "      <td>15</td>\n",
       "    </tr>\n",
       "    <tr>\n",
       "      <th>4</th>\n",
       "      <td>54</td>\n",
       "      <td>54</td>\n",
       "      <td>54</td>\n",
       "      <td>34</td>\n",
       "      <td>34</td>\n",
       "      <td>34</td>\n",
       "      <td>20</td>\n",
       "    </tr>\n",
       "    <tr>\n",
       "      <th>5</th>\n",
       "      <td>36</td>\n",
       "      <td>36</td>\n",
       "      <td>36</td>\n",
       "      <td>36</td>\n",
       "      <td>36</td>\n",
       "      <td>36</td>\n",
       "      <td>25</td>\n",
       "    </tr>\n",
       "    <tr>\n",
       "      <th>6</th>\n",
       "      <td>32</td>\n",
       "      <td>32</td>\n",
       "      <td>32</td>\n",
       "      <td>48</td>\n",
       "      <td>48</td>\n",
       "      <td>48</td>\n",
       "      <td>30</td>\n",
       "    </tr>\n",
       "    <tr>\n",
       "      <th>7</th>\n",
       "      <td>26</td>\n",
       "      <td>26</td>\n",
       "      <td>26</td>\n",
       "      <td>48</td>\n",
       "      <td>48</td>\n",
       "      <td>48</td>\n",
       "      <td>35</td>\n",
       "    </tr>\n",
       "    <tr>\n",
       "      <th>8</th>\n",
       "      <td>49</td>\n",
       "      <td>36</td>\n",
       "      <td>36</td>\n",
       "      <td>34</td>\n",
       "      <td>28</td>\n",
       "      <td>28</td>\n",
       "      <td>40</td>\n",
       "    </tr>\n",
       "  </tbody>\n",
       "</table>\n",
       "</div>"
      ],
      "text/plain": [
       "   Lower,?  Middle,?  Upper,?  Lower,-  Middle,-  Upper,-   x\n",
       "0       17        17       17       17        17       17   0\n",
       "1       36        36       36       30        30       30   5\n",
       "2       26        26       26       36        36       36  10\n",
       "3       40        40       40       30        30       30  15\n",
       "4       54        54       54       34        34       34  20\n",
       "5       36        36       36       36        36       36  25\n",
       "6       32        32       32       48        48       48  30\n",
       "7       26        26       26       48        48       48  35\n",
       "8       49        36       36       34        28       28  40"
      ]
     },
     "execution_count": 32,
     "metadata": {},
     "output_type": "execute_result"
    }
   ],
   "source": [
    "df2"
   ]
  },
  {
   "cell_type": "markdown",
   "metadata": {},
   "source": [
    "### Rule Count !!"
   ]
  },
  {
   "cell_type": "code",
   "execution_count": 33,
   "metadata": {},
   "outputs": [
    {
     "data": {
      "image/png": "[encoded data removed]",
      "text/plain": [
       "<Figure size 720x360 with 1 Axes>"
      ]
     },
     "metadata": {
      "needs_background": "light"
     },
     "output_type": "display_data"
    }
   ],
   "source": [
    "from scipy.interpolate import splrep, splev\n",
    "ax = plt.gca()\n",
    "ax.grid(True)\n",
    "plt.gcf().set_size_inches(10, 5)\n",
    "\n",
    "tck1 = splrep(df['x'], df['Lower,?'])\n",
    "xnew1 = np.linspace(0, 40)\n",
    "ynew1 = splev(xnew1, tck1)\n",
    "plt.plot(xnew1, ynew1)\n",
    "\n",
    "tck2 = splrep(df['x'], df['Middle,?'])\n",
    "xnew2 = np.linspace(0, 40)\n",
    "ynew2 = splev(xnew2, tck2)\n",
    "plt.plot(xnew2, ynew2)\n",
    "\n",
    "tck3 = splrep(df['x'], df['Upper,?'])\n",
    "xnew3 = np.linspace(0, 40)\n",
    "ynew3 = splev(xnew3, tck3)\n",
    "plt.plot(xnew3, ynew3)\n",
    "\n",
    "tck4 = splrep(df['x'], df['Lower,-'])\n",
    "xnew4 = np.linspace(0, 40)\n",
    "ynew4 = splev(xnew4, tck4)\n",
    "plt.plot(xnew4, ynew4)\n",
    "\n",
    "tck5 = splrep(df['x'], df['Middle,-'])\n",
    "xnew5 = np.linspace(0, 40)\n",
    "ynew5 = splev(xnew5, tck5)\n",
    "plt.plot(xnew5, ynew5)\n",
    "\n",
    "tck6 = splrep(df['x'], df['Upper,-'])\n",
    "xnew6 = np.linspace(0, 40)\n",
    "ynew6 = splev(xnew6, tck6)\n",
    "plt.plot(xnew6, ynew6)\n",
    "\n",
    "plt.title(\"Echocardiogram\", fontsize=15)\n",
    "plt.xlabel('Missing Attributes (%)', fontsize=15)\n",
    "plt.ylabel('Rule Count', fontsize=15)\n",
    "plt.plot(df['x'], df['Lower,?'], 'o', color='blue', markerfacecolor='blue')\n",
    "plt.plot(df['x'], df['Middle,?'], 's', color='red', markerfacecolor='red')\n",
    "plt.plot(df['x'], df['Upper,?'], '^', color='green', markerfacecolor='green')\n",
    "plt.plot(df['x'], df['Lower,-'], 'x', color='magenta', markerfacecolor='magenta')\n",
    "plt.plot(df['x'], df['Middle,-'], 'D', color='aqua', markerfacecolor='aqua')\n",
    "plt.plot(df['x'], df['Upper,-'], 'P', color='orange', markerfacecolor='orange')\n",
    "plt.legend()\n",
    "plt.savefig('../Results/Echo-RuleCount.png')"
   ]
  },
  {
   "cell_type": "markdown",
   "metadata": {},
   "source": [
    "### No. of Conditions !!"
   ]
  },
  {
   "cell_type": "code",
   "execution_count": 34,
   "metadata": {},
   "outputs": [
    {
     "data": {
      "image/png": "[encoded data removed]",
      "text/plain": [
       "<Figure size 720x360 with 1 Axes>"
      ]
     },
     "metadata": {
      "needs_background": "light"
     },
     "output_type": "display_data"
    }
   ],
   "source": [
    "from scipy.interpolate import splrep, splev\n",
    "ax = plt.gca()\n",
    "ax.grid(True)\n",
    "plt.gcf().set_size_inches(10, 5)\n",
    "\n",
    "tck1 = splrep(df2['x'], df2['Lower,?'])\n",
    "xnew1 = np.linspace(0, 40)\n",
    "ynew1 = splev(xnew1, tck1)\n",
    "plt.plot(xnew1, ynew1)\n",
    "\n",
    "tck2 = splrep(df2['x'], df2['Middle,?'])\n",
    "xnew2 = np.linspace(0, 40)\n",
    "ynew2 = splev(xnew2, tck2)\n",
    "plt.plot(xnew2, ynew2)\n",
    "\n",
    "tck3 = splrep(df2['x'], df2['Upper,?'])\n",
    "xnew3 = np.linspace(0, 40)\n",
    "ynew3 = splev(xnew3, tck3)\n",
    "plt.plot(xnew3, ynew3)\n",
    "\n",
    "tck4 = splrep(df2['x'], df2['Lower,-'])\n",
    "xnew4 = np.linspace(0, 40)\n",
    "ynew4 = splev(xnew4, tck4)\n",
    "plt.plot(xnew4, ynew4)\n",
    "\n",
    "tck5 = splrep(df2['x'], df2['Middle,-'])\n",
    "xnew5 = np.linspace(0, 40)\n",
    "ynew5 = splev(xnew5, tck5)\n",
    "plt.plot(xnew5, ynew5)\n",
    "\n",
    "tck6 = splrep(df2['x'], df2['Upper,-'])\n",
    "xnew6 = np.linspace(0, 40)\n",
    "ynew6 = splev(xnew6, tck6)\n",
    "plt.plot(xnew6, ynew6)\n",
    "\n",
    "plt.title(\"Echocardiogram\", fontsize=15)\n",
    "plt.xlabel('Missing Attributes (%)', fontsize=15)\n",
    "plt.ylabel('Condition Count', fontsize=15)\n",
    "plt.plot(df2['x'], df2['Lower,?'], 'o', color='blue', markerfacecolor='blue')\n",
    "plt.plot(df2['x'], df2['Middle,?'], 's', color='red', markerfacecolor='red')\n",
    "plt.plot(df2['x'], df2['Upper,?'], '^', color='green', markerfacecolor='green')\n",
    "plt.plot(df2['x'], df2['Lower,-'], 'x', color='magenta', markerfacecolor='magenta')\n",
    "plt.plot(df2['x'], df2['Middle,-'], 'D', color='aqua', markerfacecolor='aqua')\n",
    "plt.plot(df2['x'], df2['Upper,-'], 'P', color='orange', markerfacecolor='orange')\n",
    "plt.legend()\n",
    "plt.savefig('../Results/Echo-ConditionCount.png')"
   ]
  },
  {
   "cell_type": "code",
   "execution_count": null,
   "metadata": {},
   "outputs": [],
   "source": []
  }
 ],
 "metadata": {
  "kernelspec": {
   "display_name": "Python 3",
   "language": "python",
   "name": "python3"
  },
  "language_info": {
   "codemirror_mode": {
    "name": "ipython",
    "version": 3
   },
   "file_extension": ".py",
   "mimetype": "text/x-python",
   "name": "python",
   "nbconvert_exporter": "python",
   "pygments_lexer": "ipython3",
   "version": "3.6.6"
  }
 },
 "nbformat": 4,
 "nbformat_minor": 2
}
