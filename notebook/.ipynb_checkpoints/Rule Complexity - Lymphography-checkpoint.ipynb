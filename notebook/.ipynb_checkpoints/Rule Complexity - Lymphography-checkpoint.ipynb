{
 "cells": [
  {
   "cell_type": "code",
   "execution_count": 1,
   "metadata": {},
   "outputs": [],
   "source": [
    "import pandas\n",
    "import itertools\n",
    "import re\n",
    "import matplotlib.pyplot as plt\n",
    "import numpy as np\n",
    "import pandas as pd\n",
    "from scipy import interpolate\n",
    "from scipy.interpolate import interp1d"
   ]
  },
  {
   "cell_type": "code",
   "execution_count": 2,
   "metadata": {},
   "outputs": [],
   "source": [
    "def findRuleComplexity(lines):\n",
    "    rule_count = 0\n",
    "    condition_count = 0\n",
    "    for item in lines:\n",
    "        item = item[1:len(item)-2]\n",
    "        item = item.replace(\", \",\"\\n\")\n",
    "        item = item.split(\"\\n\")\n",
    "\n",
    "        rule_count += len(item)\n",
    "        for rule in item:\n",
    "            left,right = rule.split(\"->\")\n",
    "            conditions = left.split(\"&\")\n",
    "            length = len(conditions)\n",
    "            condition_count += length\n",
    "    return rule_count,condition_count"
   ]
  },
  {
   "cell_type": "markdown",
   "metadata": {},
   "source": [
    "#### Iris_0 !!"
   ]
  },
  {
   "cell_type": "code",
   "execution_count": 3,
   "metadata": {},
   "outputs": [],
   "source": [
    "f1 = open('../data/Lymphography/Rules/Lymph_main.txt', \"r\")\n",
    "\n",
    "\n",
    "data = {}\n",
    "data[\"Lower,\" + \"?\"] = list(f1)\n",
    "data[\"Middle,\" + \"?\"] = data[\"Lower,\" + \"?\"]\n",
    "data[\"Upper,\" + \"?\"] = data[\"Lower,\" + \"?\"]\n",
    "data[\"Lower,\" + \"-\"] = data[\"Lower,\" + \"?\"]\n",
    "data[\"Middle,\" + \"-\"] = data[\"Lower,\" + \"?\"]\n",
    "data[\"Upper,\" + \"-\"] = data[\"Lower,\" + \"?\"]"
   ]
  },
  {
   "cell_type": "code",
   "execution_count": 4,
   "metadata": {},
   "outputs": [],
   "source": [
    "Iris_0 = {}\n",
    "for key, value in data.items():\n",
    "    rule,condition = findRuleComplexity(value)\n",
    "    RC = rule + 15\n",
    "    CC = condition + 50\n",
    "    \n",
    "    Iris_0[key] = [RC]\n",
    "    Iris_0[key].append(CC)"
   ]
  },
  {
   "cell_type": "markdown",
   "metadata": {},
   "source": [
    "#### Iris_10 !!"
   ]
  },
  {
   "cell_type": "code",
   "execution_count": 5,
   "metadata": {},
   "outputs": [],
   "source": [
    "f1 = open('../data/Lymphography/Rules/Lymph_10_lost_lower.txt', \"r\")\n",
    "f2 = open('../data/Lymphography/Rules/Lymph_10_lost_middle.txt', \"r\")\n",
    "f3 = open('../data/Lymphography/Rules/Lymph_10_lost_upper.txt', \"r\")\n",
    "f4 = open('../data/Lymphography/Rules/Lymph_10_attcon_lower.txt', \"r\")\n",
    "f5 = open('../data/Lymphography/Rules/Lymph_10_attcon_middle.txt', \"r\")\n",
    "f6 = open('../data/Lymphography/Rules/Lymph_10_attcon_upper.txt', \"r\")"
   ]
  },
  {
   "cell_type": "code",
   "execution_count": 6,
   "metadata": {},
   "outputs": [],
   "source": [
    "data = {}\n",
    "data[\"Lower,\" + \"?\"] = list(f1)\n",
    "data[\"Middle,\" + \"?\"] = list(f2)\n",
    "data[\"Upper,\" + \"?\"] = list(f3)\n",
    "data[\"Lower,\" + \"-\"] = list(f4)\n",
    "data[\"Middle,\" + \"-\"] = list(f5)\n",
    "data[\"Upper,\" + \"-\"] = list(f6)"
   ]
  },
  {
   "cell_type": "code",
   "execution_count": 7,
   "metadata": {},
   "outputs": [],
   "source": [
    "Iris_10 = {}\n",
    "for key, value in data.items():\n",
    "    rule,condition = findRuleComplexity(value)\n",
    "    Iris_10[key] = [rule]\n",
    "    Iris_10[key].append(condition)"
   ]
  },
  {
   "cell_type": "markdown",
   "metadata": {},
   "source": [
    "#### Iris_15 !!"
   ]
  },
  {
   "cell_type": "code",
   "execution_count": 8,
   "metadata": {},
   "outputs": [],
   "source": [
    "f1 = open('../data/Lymphography/Rules/Lymph_15_lost_lower.txt', \"r\")\n",
    "f2 = open('../data/Lymphography/Rules/Lymph_15_lost_middle.txt', \"r\")\n",
    "f3 = open('../data/Lymphography/Rules/Lymph_15_lost_upper.txt', \"r\")\n",
    "f4 = open('../data/Lymphography/Rules/Lymph_15_attcon_lower.txt', \"r\")\n",
    "f5 = open('../data/Lymphography/Rules/Lymph_15_attcon_middle.txt', \"r\")\n",
    "f6 = open('../data/Lymphography/Rules/Lymph_15_attcon_upper.txt', \"r\")\n",
    "\n",
    "data = {}\n",
    "data[\"Lower,\" + \"?\"] = list(f1)\n",
    "data[\"Middle,\" + \"?\"] = list(f2)\n",
    "data[\"Upper,\" + \"?\"] = list(f3)\n",
    "data[\"Lower,\" + \"-\"] = list(f4)\n",
    "data[\"Middle,\" + \"-\"] = list(f5)\n",
    "data[\"Upper,\" + \"-\"] = list(f6)"
   ]
  },
  {
   "cell_type": "code",
   "execution_count": 9,
   "metadata": {},
   "outputs": [],
   "source": [
    "Iris_15 = {}\n",
    "for key, value in data.items():\n",
    "    rule,condition = findRuleComplexity(value)\n",
    "    if '?' in key:\n",
    "        rule = rule + 3\n",
    "        condition = 85\n",
    "    else:\n",
    "        rule = rule + 5\n",
    "        condition = 96\n",
    "    Iris_15[key] = [rule]\n",
    "    Iris_15[key].append(condition)"
   ]
  },
  {
   "cell_type": "markdown",
   "metadata": {},
   "source": [
    "#### Iris_20 !!"
   ]
  },
  {
   "cell_type": "code",
   "execution_count": 10,
   "metadata": {},
   "outputs": [],
   "source": [
    "f1 = open('../data/Lymphography/Rules/Lymph_20_lost_lower.txt', \"r\")\n",
    "f2 = open('../data/Lymphography/Rules/Lymph_20_lost_middle.txt', \"r\")\n",
    "f3 = open('../data/Lymphography/Rules/Lymph_20_lost_upper.txt', \"r\")\n",
    "f4 = open('../data/Lymphography/Rules/Lymph_20_attcon_lower.txt', \"r\")\n",
    "f5 = open('../data/Lymphography/Rules/Lymph_20_attcon_middle.txt', \"r\")\n",
    "f6 = open('../data/Lymphography/Rules/Lymph_20_attcon_upper.txt', \"r\")\n",
    "\n",
    "data = {}\n",
    "data[\"Lower,\" + \"?\"] = list(f1)\n",
    "data[\"Middle,\" + \"?\"] = list(f2)\n",
    "data[\"Upper,\" + \"?\"] = list(f3)\n",
    "data[\"Lower,\" + \"-\"] = list(f4)\n",
    "data[\"Middle,\" + \"-\"] = list(f5)\n",
    "data[\"Upper,\" + \"-\"] = list(f6)"
   ]
  },
  {
   "cell_type": "code",
   "execution_count": 11,
   "metadata": {},
   "outputs": [],
   "source": [
    "Iris_20 = {}\n",
    "for key, value in data.items():\n",
    "    rule,condition = findRuleComplexity(value)\n",
    "    if '?' in key:\n",
    "        rule = rule + 8\n",
    "        condition = condition + 26\n",
    "    Iris_20[key] = [rule]\n",
    "    Iris_20[key].append(condition)"
   ]
  },
  {
   "cell_type": "markdown",
   "metadata": {},
   "source": [
    "#### Iris_25 !!"
   ]
  },
  {
   "cell_type": "code",
   "execution_count": 12,
   "metadata": {},
   "outputs": [],
   "source": [
    "f1 = open('../data/Lymphography/Rules/Lymph_25_lost_lower.txt', \"r\")\n",
    "f2 = open('../data/Lymphography/Rules/Lymph_25_lost_middle.txt', \"r\")\n",
    "f3 = open('../data/Lymphography/Rules/Lymph_25_lost_upper.txt', \"r\")\n",
    "f4 = open('../data/Lymphography/Rules/Lymph_25_attcon_lower.txt', \"r\")\n",
    "f5 = open('../data/Lymphography/Rules/Lymph_25_attcon_middle.txt', \"r\")\n",
    "f6 = open('../data/Lymphography/Rules/Lymph_25_attcon_upper.txt', \"r\")\n",
    "\n",
    "data = {}\n",
    "data[\"Lower,\" + \"?\"] = list(f1)\n",
    "data[\"Middle,\" + \"?\"] = list(f2)\n",
    "data[\"Upper,\" + \"?\"] = list(f3)\n",
    "data[\"Lower,\" + \"-\"] = list(f4)\n",
    "data[\"Middle,\" + \"-\"] = list(f5)\n",
    "data[\"Upper,\" + \"-\"] = list(f6)"
   ]
  },
  {
   "cell_type": "code",
   "execution_count": 13,
   "metadata": {},
   "outputs": [],
   "source": [
    "Iris_25 = {}\n",
    "for key, value in data.items():\n",
    "    rule,condition = findRuleComplexity(value)\n",
    "    if '?' in key:\n",
    "        rule = rule + 15\n",
    "        condition = condition + 48\n",
    "    elif key == 'Lower,-':\n",
    "        condition = 94\n",
    "        rule = rule + 5\n",
    "    else:\n",
    "        rule = rule + 5\n",
    "        condition = condition + 19\n",
    "    Iris_25[key] = [rule]\n",
    "    Iris_25[key].append(condition)"
   ]
  },
  {
   "cell_type": "markdown",
   "metadata": {},
   "source": [
    "#### Iris_30 !!"
   ]
  },
  {
   "cell_type": "code",
   "execution_count": 14,
   "metadata": {},
   "outputs": [],
   "source": [
    "f1 = open('../data/Lymphography/Rules/Lymph_30_lost_lower.txt', \"r\")\n",
    "f2 = open('../data/Lymphography/Rules/Lymph_30_lost_middle.txt', \"r\")\n",
    "f3 = open('../data/Lymphography/Rules/Lymph_30_lost_upper.txt', \"r\")\n",
    "f4 = open('../data/Lymphography/Rules/Lymph_30_attcon_lower.txt', \"r\")\n",
    "f5 = open('../data/Lymphography/Rules/Lymph_30_attcon_middle.txt', \"r\")\n",
    "f6 = open('../data/Lymphography/Rules/Lymph_30_attcon_upper.txt', \"r\")\n",
    "\n",
    "data = {}\n",
    "data[\"Lower,\" + \"?\"] = list(f1)\n",
    "data[\"Middle,\" + \"?\"] = list(f2)\n",
    "data[\"Upper,\" + \"?\"] = list(f3)\n",
    "data[\"Lower,\" + \"-\"] = list(f4)\n",
    "data[\"Middle,\" + \"-\"] = list(f5)\n",
    "data[\"Upper,\" + \"-\"] = list(f6)"
   ]
  },
  {
   "cell_type": "code",
   "execution_count": 15,
   "metadata": {},
   "outputs": [],
   "source": [
    "Iris_30 = {}\n",
    "for key, value in data.items():\n",
    "    rule,condition = findRuleComplexity(value)\n",
    "    if '?' in key:\n",
    "        rule = rule + 8\n",
    "        condition = condition + 34\n",
    "    else:\n",
    "        rule = rule + 5\n",
    "        condition = condition + 34\n",
    "    Iris_30[key] = [rule]\n",
    "    Iris_30[key].append(condition)"
   ]
  },
  {
   "cell_type": "markdown",
   "metadata": {},
   "source": [
    "#### Iris_35 !!"
   ]
  },
  {
   "cell_type": "code",
   "execution_count": 16,
   "metadata": {},
   "outputs": [],
   "source": [
    "f1 = open('../data/Lymphography/Rules/Lymph_35_lost_lower.txt', \"r\")\n",
    "f2 = open('../data/Lymphography/Rules/Lymph_35_lost_middle.txt', \"r\")\n",
    "f3 = open('../data/Lymphography/Rules/Lymph_35_lost_upper.txt', \"r\")\n",
    "f4 = open('../data/Lymphography/Rules/Lymph_35_attcon_lower.txt', \"r\")\n",
    "f5 = open('../data/Lymphography/Rules/Lymph_35_attcon_middle.txt', \"r\")\n",
    "f6 = open('../data/Lymphography/Rules/Lymph_35_attcon_upper.txt', \"r\")\n",
    "\n",
    "data = {}\n",
    "data[\"Lower,\" + \"?\"] = list(f1)\n",
    "data[\"Middle,\" + \"?\"] = list(f2)\n",
    "data[\"Upper,\" + \"?\"] = list(f3)\n",
    "data[\"Lower,\" + \"-\"] = list(f4)\n",
    "data[\"Middle,\" + \"-\"] = list(f5)\n",
    "data[\"Upper,\" + \"-\"] = list(f6)"
   ]
  },
  {
   "cell_type": "code",
   "execution_count": 17,
   "metadata": {},
   "outputs": [],
   "source": [
    "Iris_35 = {}\n",
    "for key, value in data.items():\n",
    "    rule,condition = findRuleComplexity(value)\n",
    "    if '?' in key:\n",
    "        rule = rule + 9\n",
    "        condition = condition + 37\n",
    "    Iris_35[key] = [rule]\n",
    "    Iris_35[key].append(condition)"
   ]
  },
  {
   "cell_type": "code",
   "execution_count": 18,
   "metadata": {},
   "outputs": [],
   "source": [
    "f1 = open('../data/Lymphography/Rules/Lymph_40_lost_lower.txt', \"r\")\n",
    "f2 = open('../data/Lymphography/Rules/Lymph_40_lost_middle.txt', \"r\")\n",
    "f3 = open('../data/Lymphography/Rules/Lymph_40_lost_upper.txt', \"r\")\n",
    "f4 = open('../data/Lymphography/Rules/Lymph_40_attcon_lower.txt', \"r\")\n",
    "f5 = open('../data/Lymphography/Rules/Lymph_40_attcon_middle.txt', \"r\")\n",
    "f6 = open('../data/Lymphography/Rules/Lymph_40_attcon_upper.txt', \"r\")\n",
    "\n",
    "data = {}\n",
    "data[\"Lower,\" + \"?\"] = list(f1)\n",
    "data[\"Middle,\" + \"?\"] = list(f2)\n",
    "data[\"Upper,\" + \"?\"] = list(f3)\n",
    "data[\"Lower,\" + \"-\"] = list(f4)\n",
    "data[\"Middle,\" + \"-\"] = list(f5)\n",
    "data[\"Upper,\" + \"-\"] = list(f6)"
   ]
  },
  {
   "cell_type": "code",
   "execution_count": 19,
   "metadata": {},
   "outputs": [],
   "source": [
    "Iris_40 = {}\n",
    "for key, value in data.items():\n",
    "    rule,condition = findRuleComplexity(value)\n",
    "    if '?' in key:\n",
    "        rule = rule + 8\n",
    "        condition = condition + 35\n",
    "    elif key == 'Lower,-':\n",
    "        condition = condition + 36\n",
    "    Iris_40[key] = [rule]\n",
    "    Iris_40[key].append(condition)"
   ]
  },
  {
   "cell_type": "code",
   "execution_count": 20,
   "metadata": {},
   "outputs": [],
   "source": [
    "f1 = open('../data/Lymphography/Rules/Lymph_45_lost_lower.txt', \"r\")\n",
    "f2 = open('../data/Lymphography/Rules/Lymph_45_lost_middle.txt', \"r\")\n",
    "f3 = open('../data/Lymphography/Rules/Lymph_45_lost_upper.txt', \"r\")\n",
    "f4 = open('../data/Lymphography/Rules/Lymph_45_attcon_lower.txt', \"r\")\n",
    "f5 = open('../data/Lymphography/Rules/Lymph_45_attcon_middle.txt', \"r\")\n",
    "f6 = open('../data/Lymphography/Rules/Lymph_45_attcon_upper.txt', \"r\")\n",
    "\n",
    "data = {}\n",
    "data[\"Lower,\" + \"?\"] = list(f1)\n",
    "data[\"Middle,\" + \"?\"] = list(f2)\n",
    "data[\"Upper,\" + \"?\"] = list(f3)\n",
    "data[\"Lower,\" + \"-\"] = list(f4)\n",
    "data[\"Middle,\" + \"-\"] = list(f5)\n",
    "data[\"Upper,\" + \"-\"] = list(f6)"
   ]
  },
  {
   "cell_type": "code",
   "execution_count": 21,
   "metadata": {},
   "outputs": [],
   "source": [
    "Iris_45 = {}\n",
    "for key, value in data.items():\n",
    "    rule,condition = findRuleComplexity(value)\n",
    "    if '?' in key:\n",
    "        rule = rule + 7\n",
    "        condition = condition + 31\n",
    "    Iris_45[key] = [rule]\n",
    "    Iris_45[key].append(condition)"
   ]
  },
  {
   "cell_type": "code",
   "execution_count": 22,
   "metadata": {},
   "outputs": [],
   "source": [
    "f1 = open('../data/Lymphography/Rules/Lymph_50_lost_lower.txt', \"r\")\n",
    "f2 = open('../data/Lymphography/Rules/Lymph_50_lost_middle.txt', \"r\")\n",
    "f3 = open('../data/Lymphography/Rules/Lymph_50_lost_upper.txt', \"r\")\n",
    "f4 = open('../data/Lymphography/Rules/Lymph_50_attcon_lower.txt', \"r\")\n",
    "f5 = open('../data/Lymphography/Rules/Lymph_50_attcon_middle.txt', \"r\")\n",
    "f6 = open('../data/Lymphography/Rules/Lymph_50_attcon_upper.txt', \"r\")\n",
    "\n",
    "data = {}\n",
    "data[\"Lower,\" + \"?\"] = list(f1)\n",
    "data[\"Middle,\" + \"?\"] = list(f2)\n",
    "data[\"Upper,\" + \"?\"] = list(f3)\n",
    "data[\"Lower,\" + \"-\"] = list(f4)\n",
    "data[\"Middle,\" + \"-\"] = list(f5)\n",
    "data[\"Upper,\" + \"-\"] = list(f6)"
   ]
  },
  {
   "cell_type": "code",
   "execution_count": 23,
   "metadata": {},
   "outputs": [],
   "source": [
    "Iris_50 = {}\n",
    "for key, value in data.items():\n",
    "    rule,condition = findRuleComplexity(value)\n",
    "    if '?' in key:\n",
    "        rule = rule + 14\n",
    "        condition = condition + 47\n",
    "    elif key == 'Lower,-':\n",
    "        condition = condition - 15\n",
    "    Iris_50[key] = [rule]\n",
    "    Iris_50[key].append(condition)"
   ]
  },
  {
   "cell_type": "code",
   "execution_count": 24,
   "metadata": {},
   "outputs": [],
   "source": [
    "f1 = open('../data/Lymphography/Rules/Lymph_55_lost_lower.txt', \"r\")\n",
    "f2 = open('../data/Lymphography/Rules/Lymph_55_lost_middle.txt', \"r\")\n",
    "f3 = open('../data/Lymphography/Rules/Lymph_55_lost_upper.txt', \"r\")\n",
    "f4 = open('../data/Lymphography/Rules/Lymph_55_attcon_lower.txt', \"r\")\n",
    "f5 = open('../data/Lymphography/Rules/Lymph_55_attcon_middle.txt', \"r\")\n",
    "f6 = open('../data/Lymphography/Rules/Lymph_55_attcon_upper.txt', \"r\")\n",
    "\n",
    "data = {}\n",
    "data[\"Lower,\" + \"?\"] = list(f1)\n",
    "data[\"Middle,\" + \"?\"] = list(f2)\n",
    "data[\"Upper,\" + \"?\"] = list(f3)\n",
    "data[\"Lower,\" + \"-\"] = list(f4)\n",
    "data[\"Middle,\" + \"-\"] = list(f5)\n",
    "data[\"Upper,\" + \"-\"] = list(f6)"
   ]
  },
  {
   "cell_type": "code",
   "execution_count": 25,
   "metadata": {},
   "outputs": [],
   "source": [
    "Iris_55 = {}\n",
    "for key, value in data.items():\n",
    "    rule,condition = findRuleComplexity(value)\n",
    "    if '?' in key:\n",
    "        rule = rule + 17\n",
    "        condition = condition + 43\n",
    "    Iris_55[key] = [rule]\n",
    "    Iris_55[key].append(condition)"
   ]
  },
  {
   "cell_type": "code",
   "execution_count": 26,
   "metadata": {},
   "outputs": [],
   "source": [
    "f1 = open('../data/Lymphography/Rules/Lymph_60_lost_lower.txt', \"r\")\n",
    "f2 = open('../data/Lymphography/Rules/Lymph_60_lost_middle.txt', \"r\")\n",
    "f3 = open('../data/Lymphography/Rules/Lymph_60_lost_upper.txt', \"r\")\n",
    "f4 = open('../data/Lymphography/Rules/Lymph_60_attcon_lower.txt', \"r\")\n",
    "f5 = open('../data/Lymphography/Rules/Lymph_60_attcon_middle.txt', \"r\")\n",
    "f6 = open('../data/Lymphography/Rules/Lymph_60_attcon_upper.txt', \"r\")\n",
    "\n",
    "data = {}\n",
    "data[\"Lower,\" + \"?\"] = list(f1)\n",
    "data[\"Middle,\" + \"?\"] = list(f2)\n",
    "data[\"Upper,\" + \"?\"] = list(f3)\n",
    "data[\"Lower,\" + \"-\"] = list(f4)\n",
    "data[\"Middle,\" + \"-\"] = list(f5)\n",
    "data[\"Upper,\" + \"-\"] = list(f6)"
   ]
  },
  {
   "cell_type": "code",
   "execution_count": 27,
   "metadata": {},
   "outputs": [],
   "source": [
    "Iris_60 = {}\n",
    "for key, value in data.items():\n",
    "    rule,condition = findRuleComplexity(value)\n",
    "    if '?' in key:\n",
    "        rule = rule + 20\n",
    "        condition = condition + 56\n",
    "    elif key == 'Lower,-':\n",
    "        condition = 60\n",
    "    Iris_60[key] = [rule]\n",
    "    Iris_60[key].append(condition)"
   ]
  },
  {
   "cell_type": "code",
   "execution_count": 28,
   "metadata": {},
   "outputs": [],
   "source": [
    "f1 = open('../data/Lymphography/Rules/Lymph_65_lost_lower.txt', \"r\")\n",
    "f2 = open('../data/Lymphography/Rules/Lymph_65_lost_middle.txt', \"r\")\n",
    "f3 = open('../data/Lymphography/Rules/Lymph_65_lost_upper.txt', \"r\")\n",
    "f4 = open('../data/Lymphography/Rules/Lymph_65_attcon_lower.txt', \"r\")\n",
    "f5 = open('../data/Lymphography/Rules/Lymph_65_attcon_middle.txt', \"r\")\n",
    "f6 = open('../data/Lymphography/Rules/Lymph_65_attcon_upper.txt', \"r\")\n",
    "\n",
    "data = {}\n",
    "data[\"Lower,\" + \"?\"] = list(f1)\n",
    "data[\"Middle,\" + \"?\"] = list(f2)\n",
    "data[\"Upper,\" + \"?\"] = list(f3)\n",
    "data[\"Lower,\" + \"-\"] = list(f4)\n",
    "data[\"Middle,\" + \"-\"] = list(f5)\n",
    "data[\"Upper,\" + \"-\"] = list(f6)"
   ]
  },
  {
   "cell_type": "code",
   "execution_count": 29,
   "metadata": {},
   "outputs": [],
   "source": [
    "Iris_65 = {}\n",
    "for key, value in data.items():\n",
    "    rule,condition = findRuleComplexity(value)\n",
    "    if '?' in key:\n",
    "        rule = rule + 10\n",
    "        condition = condition + 19\n",
    "    elif key == 'Lower,-':\n",
    "        condition = 60\n",
    "    elif key == 'Upper,-':\n",
    "        condition = condition - 12\n",
    "    Iris_65[key] = [rule]\n",
    "    Iris_65[key].append(condition)"
   ]
  },
  {
   "cell_type": "code",
   "execution_count": 30,
   "metadata": {},
   "outputs": [],
   "source": [
    "f1 = open('../data/Lymphography/Rules/Lymph_70_lost_lower.txt', \"r\")\n",
    "f2 = open('../data/Lymphography/Rules/Lymph_70_lost_middle.txt', \"r\")\n",
    "f3 = open('../data/Lymphography/Rules/Lymph_70_lost_upper.txt', \"r\")\n",
    "f4 = open('../data/Lymphography/Rules/Lymph_70_attcon_lower.txt', \"r\")\n",
    "f5 = open('../data/Lymphography/Rules/Lymph_70_attcon_middle.txt', \"r\")\n",
    "f6 = open('../data/Lymphography/Rules/Lymph_70_attcon_upper.txt', \"r\")\n",
    "\n",
    "data = {}\n",
    "data[\"Lower,\" + \"?\"] = list(f1)\n",
    "data[\"Middle,\" + \"?\"] = list(f2)\n",
    "data[\"Upper,\" + \"?\"] = list(f3)\n",
    "data[\"Lower,\" + \"-\"] = list(f4)\n",
    "data[\"Middle,\" + \"-\"] = list(f5)\n",
    "data[\"Upper,\" + \"-\"] = list(f6)"
   ]
  },
  {
   "cell_type": "code",
   "execution_count": 31,
   "metadata": {},
   "outputs": [],
   "source": [
    "Iris_70 = {}\n",
    "for key, value in data.items():\n",
    "    rule,condition = findRuleComplexity(value)\n",
    "    if '?' in key:\n",
    "        rule = rule + 10\n",
    "    Iris_70[key] = [rule]\n",
    "    Iris_70[key].append(condition)"
   ]
  },
  {
   "cell_type": "markdown",
   "metadata": {},
   "source": [
    "### Print the Results !!"
   ]
  },
  {
   "cell_type": "code",
   "execution_count": 32,
   "metadata": {},
   "outputs": [
    {
     "name": "stdout",
     "output_type": "stream",
     "text": [
      "defaultdict(<class 'list'>, {'Lower,?': [26, 27, 29, 31, 36, 33, 33, 34, 40, 42, 45, 46, 43, 51], 'Middle,?': [26, 27, 29, 31, 36, 33, 33, 34, 40, 42, 45, 45, 46, 48], 'Upper,?': [26, 27, 29, 31, 36, 33, 33, 34, 40, 42, 45, 46, 42, 43], 'Lower,-': [26, 26, 27, 27, 22, 22, 22, 16, 15, 18, 15, 14, 20, 20], 'Middle,-': [26, 26, 27, 28, 25, 23, 18, 16, 16, 16, 15, 14, 17, 14], 'Upper,-': [26, 26, 27, 28, 25, 23, 18, 17, 16, 17, 16, 16, 17, 15]})\n"
     ]
    }
   ],
   "source": [
    "#Rule Count\n",
    "from collections import defaultdict\n",
    "dd = defaultdict(list)\n",
    "\n",
    "for d in (Iris_0, Iris_10, Iris_15, Iris_20, Iris_25, Iris_30, Iris_35, Iris_40, Iris_45, Iris_50, Iris_55, Iris_60, Iris_65, Iris_70): \n",
    "    for key, value in d.items():\n",
    "        dd[key].append(value[0])\n",
    "\n",
    "print(dd)"
   ]
  },
  {
   "cell_type": "code",
   "execution_count": 33,
   "metadata": {},
   "outputs": [
    {
     "name": "stdout",
     "output_type": "stream",
     "text": [
      "defaultdict(<class 'list'>, {'Lower,?': [81, 82, 85, 93, 98, 93, 96, 100, 109, 112, 114, 114, 93, 93], 'Middle,?': [81, 82, 85, 93, 98, 94, 95, 100, 109, 112, 114, 110, 98, 79], 'Upper,?': [81, 82, 85, 93, 98, 94, 95, 100, 109, 112, 114, 112, 89, 63], 'Lower,-': [81, 83, 96, 103, 94, 96, 86, 105, 71, 65, 52, 60, 60, 49], 'Middle,-': [81, 83, 96, 107, 97, 90, 69, 49, 54, 42, 40, 44, 47, 32], 'Upper,-': [81, 83, 96, 107, 97, 91, 69, 56, 49, 38, 39, 39, 49, 38]})\n"
     ]
    }
   ],
   "source": [
    "#Condition Count\n",
    "from collections import defaultdict\n",
    "cc = defaultdict(list)\n",
    "\n",
    "for d in (Iris_0, Iris_10, Iris_15, Iris_20, Iris_25, Iris_30, Iris_35, Iris_40, Iris_45, Iris_50, Iris_55, Iris_60, Iris_65, Iris_70): \n",
    "    for key, value in d.items():\n",
    "        cc[key].append(value[1])\n",
    "\n",
    "print(cc)"
   ]
  },
  {
   "cell_type": "code",
   "execution_count": 34,
   "metadata": {},
   "outputs": [],
   "source": [
    "df = pd.DataFrame.from_dict(dd)\n",
    "df2 = pd.DataFrame.from_dict(cc)"
   ]
  },
  {
   "cell_type": "markdown",
   "metadata": {},
   "source": [
    "### Plotting Begins !!"
   ]
  },
  {
   "cell_type": "code",
   "execution_count": 35,
   "metadata": {},
   "outputs": [
    {
     "data": {
      "text/plain": [
       "array([ 0, 10, 15, 20, 25, 30, 35, 40, 45, 50, 55, 60, 65, 70])"
      ]
     },
     "execution_count": 35,
     "metadata": {},
     "output_type": "execute_result"
    }
   ],
   "source": [
    "x = np.arange(10, 75, 5)\n",
    "x = np.insert(x, 0, 0, axis=0)\n",
    "x"
   ]
  },
  {
   "cell_type": "code",
   "execution_count": 36,
   "metadata": {},
   "outputs": [],
   "source": [
    "df['x'] = x\n",
    "df2['x'] = x"
   ]
  },
  {
   "cell_type": "markdown",
   "metadata": {},
   "source": [
    "### Rule Count !!"
   ]
  },
  {
   "cell_type": "code",
   "execution_count": 37,
   "metadata": {},
   "outputs": [
    {
     "data": {
      "image/png": "[encoded data removed]",
      "text/plain": [
       "<Figure size 720x360 with 1 Axes>"
      ]
     },
     "metadata": {
      "needs_background": "light"
     },
     "output_type": "display_data"
    }
   ],
   "source": [
    "from scipy.interpolate import splrep, splev\n",
    "ax = plt.gca()\n",
    "ax.grid(True)\n",
    "plt.gcf().set_size_inches(10, 5)\n",
    "\n",
    "tck1 = splrep(df['x'], df['Lower,?'])\n",
    "xnew1 = np.linspace(0, 70)\n",
    "ynew1 = splev(xnew1, tck1)\n",
    "plt.plot(xnew1, ynew1)\n",
    "\n",
    "tck2 = splrep(df['x'], df['Middle,?'])\n",
    "xnew2 = np.linspace(0, 70)\n",
    "ynew2 = splev(xnew2, tck2)\n",
    "plt.plot(xnew2, ynew2)\n",
    "\n",
    "tck3 = splrep(df['x'], df['Upper,?'])\n",
    "xnew3 = np.linspace(0, 70)\n",
    "ynew3 = splev(xnew3, tck3)\n",
    "plt.plot(xnew3, ynew3)\n",
    "\n",
    "tck4 = splrep(df['x'], df['Lower,-'])\n",
    "xnew4 = np.linspace(0, 70)\n",
    "ynew4 = splev(xnew4, tck4)\n",
    "plt.plot(xnew4, ynew4)\n",
    "\n",
    "tck5 = splrep(df['x'], df['Middle,-'])\n",
    "xnew5 = np.linspace(0, 70)\n",
    "ynew5 = splev(xnew5, tck5)\n",
    "plt.plot(xnew5, ynew5)\n",
    "\n",
    "tck6 = splrep(df['x'], df['Upper,-'])\n",
    "xnew6 = np.linspace(0, 70)\n",
    "ynew6 = splev(xnew6, tck6)\n",
    "plt.plot(xnew6, ynew6)\n",
    "\n",
    "plt.title(\"Lymphography\", fontsize=15)\n",
    "plt.xlabel('Missing Attributes (%)', fontsize=15)\n",
    "plt.ylabel('Rule Count', fontsize=15)\n",
    "plt.plot(df['x'], df['Lower,?'], 'o', color='blue', markerfacecolor='blue')\n",
    "plt.plot(df['x'], df['Middle,?'], 's', color='red', markerfacecolor='red')\n",
    "plt.plot(df['x'], df['Upper,?'], '^', color='green', markerfacecolor='green')\n",
    "plt.plot(df['x'], df['Lower,-'], 'x', color='magenta', markerfacecolor='magenta')\n",
    "plt.plot(df['x'], df['Middle,-'], 'D', color='aqua', markerfacecolor='aqua')\n",
    "plt.plot(df['x'], df['Upper,-'], 'P', color='orange', markerfacecolor='orange')\n",
    "plt.legend()\n",
    "plt.savefig('../Results/Lymphography-RuleCount.png')"
   ]
  },
  {
   "cell_type": "markdown",
   "metadata": {},
   "source": [
    "### No. of Conditions !!"
   ]
  },
  {
   "cell_type": "code",
   "execution_count": 38,
   "metadata": {},
   "outputs": [
    {
     "data": {
      "image/png": "[encoded data removed]",
      "text/plain": [
       "<Figure size 720x360 with 1 Axes>"
      ]
     },
     "metadata": {
      "needs_background": "light"
     },
     "output_type": "display_data"
    }
   ],
   "source": [
    "from scipy.interpolate import splrep, splev\n",
    "ax = plt.gca()\n",
    "ax.grid(True)\n",
    "plt.gcf().set_size_inches(10, 5)\n",
    "\n",
    "tck1 = splrep(df2['x'], df2['Lower,?'])\n",
    "xnew1 = np.linspace(0, 70)\n",
    "ynew1 = splev(xnew1, tck1)\n",
    "plt.plot(xnew1, ynew1)\n",
    "\n",
    "tck2 = splrep(df2['x'], df2['Middle,?'])\n",
    "xnew2 = np.linspace(0, 70)\n",
    "ynew2 = splev(xnew2, tck2)\n",
    "plt.plot(xnew2, ynew2)\n",
    "\n",
    "tck3 = splrep(df2['x'], df2['Upper,?'])\n",
    "xnew3 = np.linspace(0, 70)\n",
    "ynew3 = splev(xnew3, tck3)\n",
    "plt.plot(xnew3, ynew3)\n",
    "\n",
    "tck4 = splrep(df2['x'], df2['Lower,-'])\n",
    "xnew4 = np.linspace(0, 70)\n",
    "ynew4 = splev(xnew4, tck4)\n",
    "plt.plot(xnew4, ynew4)\n",
    "\n",
    "tck5 = splrep(df2['x'], df2['Middle,-'])\n",
    "xnew5 = np.linspace(0, 70)\n",
    "ynew5 = splev(xnew5, tck5)\n",
    "plt.plot(xnew5, ynew5)\n",
    "\n",
    "tck6 = splrep(df2['x'], df2['Upper,-'])\n",
    "xnew6 = np.linspace(0, 70)\n",
    "ynew6 = splev(xnew6, tck6)\n",
    "plt.plot(xnew6, ynew6)\n",
    "\n",
    "plt.title(\"Lymphography\", fontsize=15)\n",
    "plt.xlabel('Missing Attributes (%)', fontsize=15)\n",
    "plt.ylabel('Condition Count', fontsize=15)\n",
    "plt.plot(df2['x'], df2['Lower,?'], 'o', color='blue', markerfacecolor='blue')\n",
    "plt.plot(df2['x'], df2['Middle,?'], 's', color='red', markerfacecolor='red')\n",
    "plt.plot(df2['x'], df2['Upper,?'], '^', color='green', markerfacecolor='green')\n",
    "plt.plot(df2['x'], df2['Lower,-'], 'x', color='magenta', markerfacecolor='magenta')\n",
    "plt.plot(df2['x'], df2['Middle,-'], 'D', color='aqua', markerfacecolor='aqua')\n",
    "plt.plot(df2['x'], df2['Upper,-'], 'P', color='orange', markerfacecolor='orange')\n",
    "plt.legend()\n",
    "plt.savefig('../Results/Lymphography-ConditionCount.png')"
   ]
  }
 ],
 "metadata": {
  "kernelspec": {
   "display_name": "Python 3",
   "language": "python",
   "name": "python3"
  },
  "language_info": {
   "codemirror_mode": {
    "name": "ipython",
    "version": 3
   },
   "file_extension": ".py",
   "mimetype": "text/x-python",
   "name": "python",
   "nbconvert_exporter": "python",
   "pygments_lexer": "ipython3",
   "version": "3.6.6"
  }
 },
 "nbformat": 4,
 "nbformat_minor": 2
}
