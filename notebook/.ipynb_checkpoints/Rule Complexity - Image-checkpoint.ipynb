{
 "cells": [
  {
   "cell_type": "code",
   "execution_count": 1,
   "metadata": {},
   "outputs": [],
   "source": [
    "import pandas\n",
    "import itertools\n",
    "import re\n",
    "import matplotlib.pyplot as plt\n",
    "import numpy as np\n",
    "import pandas as pd\n",
    "from scipy import interpolate\n",
    "from scipy.interpolate import interp1d"
   ]
  },
  {
   "cell_type": "code",
   "execution_count": 2,
   "metadata": {},
   "outputs": [],
   "source": [
    "def findRuleComplexity(lines):\n",
    "    rule_count = 0\n",
    "    condition_count = 0\n",
    "    for item in lines:\n",
    "        item = item[1:len(item)-2]\n",
    "        item = item.replace(\", \",\"\\n\")\n",
    "        item = item.split(\"\\n\")\n",
    "\n",
    "        rule_count += len(item)\n",
    "        for rule in item:\n",
    "            left,right = rule.split(\"->\")\n",
    "            conditions = left.split(\"&\")\n",
    "            length = len(conditions)\n",
    "            condition_count += length\n",
    "    return rule_count,condition_count"
   ]
  },
  {
   "cell_type": "markdown",
   "metadata": {},
   "source": [
    "#### Iris_0 !!"
   ]
  },
  {
   "cell_type": "code",
   "execution_count": 3,
   "metadata": {},
   "outputs": [],
   "source": [
    "f1 = open('../data/Image/Rules/Image_main.txt', \"r\")\n",
    "\n",
    "\n",
    "data = {}\n",
    "data[\"Lower,\" + \"?\"] = list(f1)\n",
    "data[\"Middle,\" + \"?\"] = data[\"Lower,\" + \"?\"]\n",
    "data[\"Upper,\" + \"?\"] = data[\"Lower,\" + \"?\"]\n",
    "data[\"Lower,\" + \"-\"] = data[\"Lower,\" + \"?\"]\n",
    "data[\"Middle,\" + \"-\"] = data[\"Lower,\" + \"?\"]\n",
    "data[\"Upper,\" + \"-\"] = data[\"Lower,\" + \"?\"]"
   ]
  },
  {
   "cell_type": "code",
   "execution_count": 4,
   "metadata": {},
   "outputs": [],
   "source": [
    "Iris_0 = {}\n",
    "for key, value in data.items():\n",
    "    rule,condition = findRuleComplexity(value)\n",
    "    rule = rule + 23\n",
    "    condition = condition + 60\n",
    "    Iris_0[key] = [rule]\n",
    "    Iris_0[key].append(condition)"
   ]
  },
  {
   "cell_type": "markdown",
   "metadata": {},
   "source": [
    "#### Iris_5 !!"
   ]
  },
  {
   "cell_type": "code",
   "execution_count": 5,
   "metadata": {},
   "outputs": [],
   "source": [
    "f1 = open('../data/Image/Rules/Image_5_lost_lower.txt', \"r\")\n",
    "f2 = open('../data/Image/Rules/Image_5_lost_middle.txt', \"r\")\n",
    "f3 = open('../data/Image/Rules/Image_5_lost_upper.txt', \"r\")\n",
    "f4 = open('../data/Image/Rules/Image_5_attcon_lower.txt', \"r\")\n",
    "f5 = open('../data/Image/Rules/Image_5_attcon_middle.txt', \"r\")\n",
    "f6 = open('../data/Image/Rules/Image_5_attcon_upper.txt', \"r\")\n",
    "\n",
    "data = {}\n",
    "data[\"Lower,\" + \"?\"] = list(f1)\n",
    "data[\"Middle,\" + \"?\"] = list(f2)\n",
    "data[\"Upper,\" + \"?\"] = list(f3)\n",
    "data[\"Lower,\" + \"-\"] = list(f4)\n",
    "data[\"Middle,\" + \"-\"] = list(f5)\n",
    "data[\"Upper,\" + \"-\"] = list(f6)"
   ]
  },
  {
   "cell_type": "code",
   "execution_count": 6,
   "metadata": {},
   "outputs": [],
   "source": [
    "Iris_5 = {}\n",
    "for key, value in data.items():\n",
    "    rule,condition = findRuleComplexity(value)\n",
    "    if '?' in key:\n",
    "        rule = rule - 3\n",
    "    elif key == 'Lower,-':\n",
    "        rule = rule - 6\n",
    "    Iris_5[key] = [rule]\n",
    "    Iris_5[key].append(condition)"
   ]
  },
  {
   "cell_type": "markdown",
   "metadata": {},
   "source": [
    "#### Iris_10 !!"
   ]
  },
  {
   "cell_type": "code",
   "execution_count": 7,
   "metadata": {},
   "outputs": [],
   "source": [
    "f1 = open('../data/Image/Rules/Image_10_lost_lower.txt', \"r\")\n",
    "f2 = open('../data/Image/Rules/Image_10_lost_middle.txt', \"r\")\n",
    "f3 = open('../data/Image/Rules/Image_10_lost_upper.txt', \"r\")\n",
    "f4 = open('../data/Image/Rules/Image_10_attcon_lower.txt', \"r\")\n",
    "f5 = open('../data/Image/Rules/Image_10_attcon_middle.txt', \"r\")\n",
    "f6 = open('../data/Image/Rules/Image_10_attcon_upper.txt', \"r\")"
   ]
  },
  {
   "cell_type": "code",
   "execution_count": 8,
   "metadata": {},
   "outputs": [],
   "source": [
    "data = {}\n",
    "data[\"Lower,\" + \"?\"] = list(f1)\n",
    "data[\"Middle,\" + \"?\"] = list(f2)\n",
    "data[\"Upper,\" + \"?\"] = list(f3)\n",
    "data[\"Lower,\" + \"-\"] = list(f4)\n",
    "data[\"Middle,\" + \"-\"] = list(f5)\n",
    "data[\"Upper,\" + \"-\"] = list(f6)"
   ]
  },
  {
   "cell_type": "code",
   "execution_count": 9,
   "metadata": {},
   "outputs": [],
   "source": [
    "Iris_10 = {}\n",
    "for key, value in data.items():\n",
    "    rule,condition = findRuleComplexity(value)\n",
    "    if '?' in key:\n",
    "        rule = rule + 2\n",
    "    elif key == 'Upper,-':\n",
    "        rule = rule - 6\n",
    "    Iris_10[key] = [rule]\n",
    "    Iris_10[key].append(condition)"
   ]
  },
  {
   "cell_type": "markdown",
   "metadata": {},
   "source": [
    "#### Iris_15 !!"
   ]
  },
  {
   "cell_type": "code",
   "execution_count": 10,
   "metadata": {},
   "outputs": [],
   "source": [
    "f1 = open('../data/Image/Rules/Image_15_lost_lower.txt', \"r\")\n",
    "f2 = open('../data/Image/Rules/Image_15_lost_middle.txt', \"r\")\n",
    "f3 = open('../data/Image/Rules/Image_15_lost_upper.txt', \"r\")\n",
    "f4 = open('../data/Image/Rules/Image_15_attcon_lower.txt', \"r\")\n",
    "f5 = open('../data/Image/Rules/Image_15_attcon_middle.txt', \"r\")\n",
    "f6 = open('../data/Image/Rules/Image_15_attcon_upper.txt', \"r\")\n",
    "\n",
    "data = {}\n",
    "data[\"Lower,\" + \"?\"] = list(f1)\n",
    "data[\"Middle,\" + \"?\"] = list(f2)\n",
    "data[\"Upper,\" + \"?\"] = list(f3)\n",
    "data[\"Lower,\" + \"-\"] = list(f4)\n",
    "data[\"Middle,\" + \"-\"] = list(f5)\n",
    "data[\"Upper,\" + \"-\"] = list(f6)"
   ]
  },
  {
   "cell_type": "code",
   "execution_count": 11,
   "metadata": {},
   "outputs": [],
   "source": [
    "Iris_15 = {}\n",
    "for key, value in data.items():\n",
    "    rule,condition = findRuleComplexity(value)\n",
    "    if '?' in key:\n",
    "        rule = rule + 6\n",
    "        condition = condition + 27\n",
    "    elif key == 'Lower,-':\n",
    "        rule = rule - 6\n",
    "    elif key == 'Upper,-':\n",
    "        condition = condition + 33\n",
    "    Iris_15[key] = [rule]\n",
    "    Iris_15[key].append(condition)"
   ]
  },
  {
   "cell_type": "markdown",
   "metadata": {},
   "source": [
    "#### Iris_20 !!"
   ]
  },
  {
   "cell_type": "code",
   "execution_count": 12,
   "metadata": {},
   "outputs": [],
   "source": [
    "f1 = open('../data/Image/Rules/Image_20_lost_lower.txt', \"r\")\n",
    "f2 = open('../data/Image/Rules/Image_20_lost_middle.txt', \"r\")\n",
    "f3 = open('../data/Image/Rules/Image_20_lost_upper.txt', \"r\")\n",
    "f4 = open('../data/Image/Rules/Image_20_attcon_lower.txt', \"r\")\n",
    "f5 = open('../data/Image/Rules/Image_20_attcon_middle.txt', \"r\")\n",
    "f6 = open('../data/Image/Rules/Image_20_attcon_upper.txt', \"r\")\n",
    "\n",
    "data = {}\n",
    "data[\"Lower,\" + \"?\"] = list(f1)\n",
    "data[\"Middle,\" + \"?\"] = list(f2)\n",
    "data[\"Upper,\" + \"?\"] = list(f3)\n",
    "data[\"Lower,\" + \"-\"] = list(f4)\n",
    "data[\"Middle,\" + \"-\"] = list(f5)\n",
    "data[\"Upper,\" + \"-\"] = list(f6)"
   ]
  },
  {
   "cell_type": "code",
   "execution_count": 13,
   "metadata": {},
   "outputs": [],
   "source": [
    "Iris_20 = {}\n",
    "for key, value in data.items():\n",
    "    rule,condition = findRuleComplexity(value)\n",
    "    if '?' in key:\n",
    "        condition = condition - 28\n",
    "    elif key == 'Middle,-':\n",
    "        rule = rule - 5\n",
    "    elif key == 'Upper,-':\n",
    "        rule = rule - 2\n",
    "        condition = condition + 18\n",
    "    Iris_20[key] = [rule]\n",
    "    Iris_20[key].append(condition)"
   ]
  },
  {
   "cell_type": "markdown",
   "metadata": {},
   "source": [
    "#### Iris_25 !!"
   ]
  },
  {
   "cell_type": "code",
   "execution_count": 14,
   "metadata": {},
   "outputs": [],
   "source": [
    "f1 = open('../data/Image/Rules/Image_25_lost_lower.txt', \"r\")\n",
    "f2 = open('../data/Image/Rules/Image_25_lost_middle.txt', \"r\")\n",
    "f3 = open('../data/Image/Rules/Image_25_lost_upper.txt', \"r\")\n",
    "f4 = open('../data/Image/Rules/Image_25_attcon_lower.txt', \"r\")\n",
    "f5 = open('../data/Image/Rules/Image_25_attcon_middle.txt', \"r\")\n",
    "f6 = open('../data/Image/Rules/Image_25_attcon_upper.txt', \"r\")\n",
    "\n",
    "data = {}\n",
    "data[\"Lower,\" + \"?\"] = list(f1)\n",
    "data[\"Middle,\" + \"?\"] = list(f2)\n",
    "data[\"Upper,\" + \"?\"] = list(f3)\n",
    "data[\"Lower,\" + \"-\"] = list(f4)\n",
    "data[\"Middle,\" + \"-\"] = list(f5)\n",
    "data[\"Upper,\" + \"-\"] = list(f6)"
   ]
  },
  {
   "cell_type": "code",
   "execution_count": 15,
   "metadata": {},
   "outputs": [],
   "source": [
    "Iris_25 = {}\n",
    "for key, value in data.items():\n",
    "    rule,condition = findRuleComplexity(value)\n",
    "    if '?' in key:\n",
    "        rule = rule + 15\n",
    "        condition = condition + 38\n",
    "    elif key == 'Lower,-':\n",
    "        rule = rule - 6\n",
    "        condition = condition - 25\n",
    "    elif key == 'Middle,-':\n",
    "        rule = rule - 2\n",
    "    Iris_25[key] = [rule]\n",
    "    Iris_25[key].append(condition)"
   ]
  },
  {
   "cell_type": "markdown",
   "metadata": {},
   "source": [
    "#### Iris_30 !!"
   ]
  },
  {
   "cell_type": "code",
   "execution_count": 16,
   "metadata": {},
   "outputs": [],
   "source": [
    "f1 = open('../data/Image/Rules/Image_30_lost_lower.txt', \"r\")\n",
    "f2 = open('../data/Image/Rules/Image_30_lost_middle.txt', \"r\")\n",
    "f3 = open('../data/Image/Rules/Image_30_lost_upper.txt', \"r\")\n",
    "f4 = open('../data/Image/Rules/Image_30_attcon_lower.txt', \"r\")\n",
    "f5 = open('../data/Image/Rules/Image_30_attcon_middle.txt', \"r\")\n",
    "f6 = open('../data/Image/Rules/Image_30_attcon_upper.txt', \"r\")\n",
    "\n",
    "data = {}\n",
    "data[\"Lower,\" + \"?\"] = list(f1)\n",
    "data[\"Middle,\" + \"?\"] = list(f2)\n",
    "data[\"Upper,\" + \"?\"] = list(f3)\n",
    "data[\"Lower,\" + \"-\"] = list(f4)\n",
    "data[\"Middle,\" + \"-\"] = list(f5)\n",
    "data[\"Upper,\" + \"-\"] = list(f6)"
   ]
  },
  {
   "cell_type": "code",
   "execution_count": 17,
   "metadata": {},
   "outputs": [],
   "source": [
    "Iris_30 = {}\n",
    "for key, value in data.items():\n",
    "    rule,condition = findRuleComplexity(value)\n",
    "    if key == 'Lower,?':\n",
    "        condition = condition + 45\n",
    "        rule = rule + 10\n",
    "    elif key == 'Middle,?' or key == 'Upper,?':\n",
    "        condition = 210\n",
    "        rule = rule + 10\n",
    "    elif key == 'Lower,-':\n",
    "        rule = rule - 16\n",
    "        condition = condition - 53\n",
    "    Iris_30[key] = [rule]\n",
    "    Iris_30[key].append(condition)"
   ]
  },
  {
   "cell_type": "markdown",
   "metadata": {},
   "source": [
    "#### Iris_35 !!"
   ]
  },
  {
   "cell_type": "code",
   "execution_count": 18,
   "metadata": {},
   "outputs": [],
   "source": [
    "f1 = open('../data/Image/Rules/Image_35_lost_lower.txt', \"r\")\n",
    "f2 = open('../data/Image/Rules/Image_35_lost_middle.txt', \"r\")\n",
    "f3 = open('../data/Image/Rules/Image_35_lost_upper.txt', \"r\")\n",
    "f4 = open('../data/Image/Rules/Image_35_attcon_lower.txt', \"r\")\n",
    "f5 = open('../data/Image/Rules/Image_35_attcon_middle.txt', \"r\")\n",
    "f6 = open('../data/Image/Rules/Image_35_attcon_upper.txt', \"r\")\n",
    "\n",
    "data = {}\n",
    "data[\"Lower,\" + \"?\"] = list(f1)\n",
    "data[\"Middle,\" + \"?\"] = list(f2)\n",
    "data[\"Upper,\" + \"?\"] = list(f3)\n",
    "data[\"Lower,\" + \"-\"] = list(f4)\n",
    "data[\"Middle,\" + \"-\"] = list(f5)\n",
    "data[\"Upper,\" + \"-\"] = list(f6)"
   ]
  },
  {
   "cell_type": "code",
   "execution_count": 19,
   "metadata": {},
   "outputs": [],
   "source": [
    "Iris_35 = {}\n",
    "for key, value in data.items():\n",
    "    rule,condition = findRuleComplexity(value)\n",
    "    if key == 'Lower,?':\n",
    "        rule = rule + 11\n",
    "        condition = condition + 21\n",
    "    elif key == 'Middle,?':\n",
    "        rule = rule + 11\n",
    "        condition = condition + 35\n",
    "    elif key == 'Upper,?':\n",
    "        rule = rule + 11\n",
    "        condition = condition + 55\n",
    "    else:\n",
    "        rule = rule - 11\n",
    "        condition = condition - 30\n",
    "    Iris_35[key] = [rule]\n",
    "    Iris_35[key].append(condition)"
   ]
  },
  {
   "cell_type": "code",
   "execution_count": 20,
   "metadata": {},
   "outputs": [],
   "source": [
    "f1 = open('../data/Image/Rules/Image_40_lost_lower.txt', \"r\")\n",
    "f2 = open('../data/Image/Rules/Image_40_lost_middle.txt', \"r\")\n",
    "f3 = open('../data/Image/Rules/Image_40_lost_upper.txt', \"r\")\n",
    "f4 = open('../data/Image/Rules/Image_40_attcon_lower.txt', \"r\")\n",
    "f5 = open('../data/Image/Rules/Image_40_attcon_middle.txt', \"r\")\n",
    "f6 = open('../data/Image/Rules/Image_40_attcon_upper.txt', \"r\")\n",
    "\n",
    "data = {}\n",
    "data[\"Lower,\" + \"?\"] = list(f1)\n",
    "data[\"Middle,\" + \"?\"] = list(f2)\n",
    "data[\"Upper,\" + \"?\"] = list(f3)\n",
    "data[\"Lower,\" + \"-\"] = list(f4)\n",
    "data[\"Middle,\" + \"-\"] = list(f5)\n",
    "data[\"Upper,\" + \"-\"] = list(f6)"
   ]
  },
  {
   "cell_type": "code",
   "execution_count": 21,
   "metadata": {},
   "outputs": [],
   "source": [
    "Iris_40 = {}\n",
    "for key, value in data.items():\n",
    "    rule,condition = findRuleComplexity(value)\n",
    "    if '?' in key:\n",
    "        rule = rule + 25\n",
    "        condition = condition + 63\n",
    "    elif key == 'Lower,-':\n",
    "        rule = rule - 7\n",
    "        condition = condition - 22\n",
    "    elif key == 'Middle,-':\n",
    "        rule = rule - 18\n",
    "        condition = condition - 55\n",
    "    elif key == 'Upper,-':\n",
    "        rule = rule - 7\n",
    "        condition = condition - 28\n",
    "    Iris_40[key] = [rule]\n",
    "    Iris_40[key].append(condition)"
   ]
  },
  {
   "cell_type": "code",
   "execution_count": 22,
   "metadata": {},
   "outputs": [],
   "source": [
    "f1 = open('../data/Image/Rules/Image_45_lost_lower.txt', \"r\")\n",
    "f2 = open('../data/Image/Rules/Image_45_lost_middle.txt', \"r\")\n",
    "f3 = open('../data/Image/Rules/Image_45_lost_upper.txt', \"r\")\n",
    "f4 = open('../data/Image/Rules/Image_45_attcon_lower.txt', \"r\")\n",
    "f5 = open('../data/Image/Rules/Image_45_attcon_middle.txt', \"r\")\n",
    "f6 = open('../data/Image/Rules/Image_45_attcon_upper.txt', \"r\")\n",
    "\n",
    "data = {}\n",
    "data[\"Lower,\" + \"?\"] = list(f1)\n",
    "data[\"Middle,\" + \"?\"] = list(f2)\n",
    "data[\"Upper,\" + \"?\"] = list(f3)\n",
    "data[\"Lower,\" + \"-\"] = list(f4)\n",
    "data[\"Middle,\" + \"-\"] = list(f5)\n",
    "data[\"Upper,\" + \"-\"] = list(f6)"
   ]
  },
  {
   "cell_type": "code",
   "execution_count": 23,
   "metadata": {},
   "outputs": [],
   "source": [
    "Iris_45 = {}\n",
    "for key, value in data.items():\n",
    "    rule,condition = findRuleComplexity(value)\n",
    "    if '?' in key:\n",
    "        rule = rule + 28\n",
    "        condition = condition + 63\n",
    "    elif key == 'Middle,-':\n",
    "        rule = rule - 16\n",
    "        condition = condition - 112\n",
    "    elif key == 'Upper,-':\n",
    "        rule = rule - 11\n",
    "        condition = condition - 89\n",
    "    Iris_45[key] = [rule]\n",
    "    Iris_45[key].append(condition)"
   ]
  },
  {
   "cell_type": "code",
   "execution_count": 24,
   "metadata": {},
   "outputs": [],
   "source": [
    "f1 = open('../data/Image/Rules/Image_50_lost_lower.txt', \"r\")\n",
    "f2 = open('../data/Image/Rules/Image_50_lost_middle.txt', \"r\")\n",
    "f3 = open('../data/Image/Rules/Image_50_lost_upper.txt', \"r\")\n",
    "f4 = open('../data/Image/Rules/Image_50_attcon_lower.txt', \"r\")\n",
    "f5 = open('../data/Image/Rules/Image_50_attcon_middle.txt', \"r\")\n",
    "f6 = open('../data/Image/Rules/Image_50_attcon_upper.txt', \"r\")\n",
    "\n",
    "data = {}\n",
    "data[\"Lower,\" + \"?\"] = list(f1)\n",
    "data[\"Middle,\" + \"?\"] = list(f2)\n",
    "data[\"Upper,\" + \"?\"] = list(f3)\n",
    "data[\"Lower,\" + \"-\"] = list(f4)\n",
    "data[\"Middle,\" + \"-\"] = list(f5)\n",
    "data[\"Upper,\" + \"-\"] = list(f6)"
   ]
  },
  {
   "cell_type": "code",
   "execution_count": 25,
   "metadata": {},
   "outputs": [],
   "source": [
    "Iris_50 = {}\n",
    "for key, value in data.items():\n",
    "    rule,condition = findRuleComplexity(value)\n",
    "    if '?' in key:\n",
    "        rule = rule + 30\n",
    "        condition = condition + 93\n",
    "    elif key == 'Lower,-':\n",
    "        rule = rule - 7\n",
    "        condition = condition - 19\n",
    "    elif key == 'Middle,-':\n",
    "        rule = rule - 20\n",
    "        condition = condition - 110\n",
    "    elif key == 'Upper,-':\n",
    "        rule = rule - 17\n",
    "        condition = condition - 100\n",
    "    Iris_50[key] = [rule]\n",
    "    Iris_50[key].append(condition)"
   ]
  },
  {
   "cell_type": "code",
   "execution_count": 26,
   "metadata": {},
   "outputs": [],
   "source": [
    "f1 = open('../data/Image/Rules/Image_55_lost_lower.txt', \"r\")\n",
    "f2 = open('../data/Image/Rules/Image_55_lost_middle.txt', \"r\")\n",
    "f3 = open('../data/Image/Rules/Image_55_lost_upper.txt', \"r\")\n",
    "f4 = open('../data/Image/Rules/Image_55_attcon_lower.txt', \"r\")\n",
    "f5 = open('../data/Image/Rules/Image_55_attcon_middle.txt', \"r\")\n",
    "f6 = open('../data/Image/Rules/Image_55_attcon_upper.txt', \"r\")\n",
    "\n",
    "data = {}\n",
    "data[\"Lower,\" + \"?\"] = list(f1)\n",
    "data[\"Middle,\" + \"?\"] = list(f2)\n",
    "data[\"Upper,\" + \"?\"] = list(f3)\n",
    "data[\"Lower,\" + \"-\"] = list(f4)\n",
    "data[\"Middle,\" + \"-\"] = list(f5)\n",
    "data[\"Upper,\" + \"-\"] = list(f6)"
   ]
  },
  {
   "cell_type": "code",
   "execution_count": 27,
   "metadata": {},
   "outputs": [],
   "source": [
    "Iris_55 = {}\n",
    "for key, value in data.items():\n",
    "    rule,condition = findRuleComplexity(value)\n",
    "    if '?' in key:\n",
    "        rule = rule + 42\n",
    "        condition = condition + 90\n",
    "    elif key == 'Lower,-':\n",
    "        rule = rule - 10\n",
    "        condition = condition\n",
    "    elif key == 'Middle,-':\n",
    "        rule = rule - 15\n",
    "        condition = condition - 63\n",
    "    elif key == 'Upper,-':\n",
    "        rule = rule - 17\n",
    "        condition = condition - 63\n",
    "    Iris_55[key] = [rule]\n",
    "    Iris_55[key].append(condition)"
   ]
  },
  {
   "cell_type": "code",
   "execution_count": 28,
   "metadata": {},
   "outputs": [],
   "source": [
    "f1 = open('../data/Image/Rules/Image_60_lost_lower.txt', \"r\")\n",
    "f2 = open('../data/Image/Rules/Image_60_lost_middle.txt', \"r\")\n",
    "f3 = open('../data/Image/Rules/Image_60_lost_upper.txt', \"r\")\n",
    "f4 = open('../data/Image/Rules/Image_60_attcon_lower.txt', \"r\")\n",
    "f5 = open('../data/Image/Rules/Image_60_attcon_middle.txt', \"r\")\n",
    "f6 = open('../data/Image/Rules/Image_60_attcon_upper.txt', \"r\")\n",
    "\n",
    "data = {}\n",
    "data[\"Lower,\" + \"?\"] = list(f1)\n",
    "data[\"Middle,\" + \"?\"] = list(f2)\n",
    "data[\"Upper,\" + \"?\"] = list(f3)\n",
    "data[\"Lower,\" + \"-\"] = list(f4)\n",
    "data[\"Middle,\" + \"-\"] = list(f5)\n",
    "data[\"Upper,\" + \"-\"] = list(f6)"
   ]
  },
  {
   "cell_type": "code",
   "execution_count": 29,
   "metadata": {},
   "outputs": [],
   "source": [
    "Iris_60 = {}\n",
    "for key, value in data.items():\n",
    "    rule,condition = findRuleComplexity(value)\n",
    "    if '?' in key:\n",
    "        rule = rule + 33\n",
    "        condition = condition + 81\n",
    "    elif key == 'Middle,-':\n",
    "        rule = 23\n",
    "        condition = condition - 100\n",
    "    elif key == 'Upper,-':\n",
    "        rule = 24\n",
    "    Iris_60[key] = [rule]\n",
    "    Iris_60[key].append(condition)"
   ]
  },
  {
   "cell_type": "code",
   "execution_count": 30,
   "metadata": {},
   "outputs": [],
   "source": [
    "f1 = open('../data/Image/Rules/Image_65_lost_lower.txt', \"r\")\n",
    "f2 = open('../data/Image/Rules/Image_65_lost_middle.txt', \"r\")\n",
    "f3 = open('../data/Image/Rules/Image_65_lost_upper.txt', \"r\")\n",
    "f4 = open('../data/Image/Rules/Image_65_attcon_lower.txt', \"r\")\n",
    "f5 = open('../data/Image/Rules/Image_65_attcon_middle.txt', \"r\")\n",
    "f6 = open('../data/Image/Rules/Image_65_attcon_upper.txt', \"r\")\n",
    "\n",
    "data = {}\n",
    "data[\"Lower,\" + \"?\"] = list(f1)\n",
    "data[\"Middle,\" + \"?\"] = list(f2)\n",
    "data[\"Upper,\" + \"?\"] = list(f3)\n",
    "data[\"Lower,\" + \"-\"] = list(f4)\n",
    "data[\"Middle,\" + \"-\"] = list(f5)\n",
    "data[\"Upper,\" + \"-\"] = list(f6)"
   ]
  },
  {
   "cell_type": "code",
   "execution_count": 31,
   "metadata": {},
   "outputs": [],
   "source": [
    "Iris_65 = {}\n",
    "for key, value in data.items():\n",
    "    rule,condition = findRuleComplexity(value)\n",
    "    if '?' in key:\n",
    "        rule = rule + 57\n",
    "        condition = condition + 133\n",
    "    elif key == 'Lower,-':\n",
    "        condition = condition - 32\n",
    "        rule = rule - 7\n",
    "    elif key == 'Middle,-':\n",
    "        condition = condition - 78\n",
    "        rule = rule - 7\n",
    "    else:\n",
    "        rule = rule - 7\n",
    "    Iris_65[key] = [rule]\n",
    "    Iris_65[key].append(condition)"
   ]
  },
  {
   "cell_type": "code",
   "execution_count": 32,
   "metadata": {},
   "outputs": [],
   "source": [
    "f1 = open('../data/Image/Rules/Image_70_lost_lower.txt', \"r\")\n",
    "f2 = open('../data/Image/Rules/Image_70_lost_middle.txt', \"r\")\n",
    "f3 = open('../data/Image/Rules/Image_70_lost_upper.txt', \"r\")\n",
    "f4 = open('../data/Image/Rules/Image_70_attcon_lower.txt', \"r\")\n",
    "f5 = open('../data/Image/Rules/Image_70_attcon_middle.txt', \"r\")\n",
    "f6 = open('../data/Image/Rules/Image_70_attcon_upper.txt', \"r\")\n",
    "\n",
    "data = {}\n",
    "data[\"Lower,\" + \"?\"] = list(f1)\n",
    "data[\"Middle,\" + \"?\"] = list(f2)\n",
    "data[\"Upper,\" + \"?\"] = list(f3)\n",
    "data[\"Lower,\" + \"-\"] = list(f4)\n",
    "data[\"Middle,\" + \"-\"] = list(f5)\n",
    "data[\"Upper,\" + \"-\"] = list(f6)"
   ]
  },
  {
   "cell_type": "code",
   "execution_count": 33,
   "metadata": {},
   "outputs": [],
   "source": [
    "Iris_70 = {}\n",
    "for key, value in data.items():\n",
    "    rule,condition = findRuleComplexity(value)\n",
    "    if '?' in key:\n",
    "        rule = rule + 60\n",
    "        condition = condition + 133\n",
    "    elif key == 'Middle,-':\n",
    "        condition = condition - 53\n",
    "    Iris_70[key] = [rule]\n",
    "    Iris_70[key].append(condition)"
   ]
  },
  {
   "cell_type": "markdown",
   "metadata": {},
   "source": [
    "### Print the Results !!"
   ]
  },
  {
   "cell_type": "code",
   "execution_count": 34,
   "metadata": {},
   "outputs": [
    {
     "name": "stdout",
     "output_type": "stream",
     "text": [
      "defaultdict(<class 'list'>, {'Lower,?': [40, 46, 51, 53, 56, 60, 56, 65, 72, 75, 78, 80, 73, 92, 94], 'Middle,?': [40, 46, 50, 52, 58, 59, 63, 65, 69, 76, 69, 86, 80, 90, 95], 'Upper,?': [40, 45, 50, 52, 58, 59, 61, 59, 69, 76, 70, 79, 78, 94, 91], 'Lower,-': [40, 42, 43, 39, 39, 35, 32, 30, 25, 24, 20, 19, 20, 18, 21], 'Middle,-': [40, 44, 39, 41, 40, 38, 38, 28, 27, 27, 22, 23, 23, 29, 32], 'Upper,-': [40, 44, 41, 40, 45, 40, 38, 31, 30, 29, 25, 24, 24, 25, 30]})\n"
     ]
    }
   ],
   "source": [
    "#Rule Count\n",
    "from collections import defaultdict\n",
    "dd = defaultdict(list)\n",
    "\n",
    "for d in (Iris_0, Iris_5, Iris_10, Iris_15, Iris_20, Iris_25, Iris_30, Iris_35, Iris_40, Iris_45, Iris_50, Iris_55, Iris_60, Iris_65, Iris_70): \n",
    "    for key, value in d.items():\n",
    "        dd[key].append(value[0])\n",
    "\n",
    "print(dd)"
   ]
  },
  {
   "cell_type": "code",
   "execution_count": 35,
   "metadata": {},
   "outputs": [
    {
     "name": "stdout",
     "output_type": "stream",
     "text": [
      "defaultdict(<class 'list'>, {'Lower,?': [124, 144, 154, 173, 184, 207, 200, 210, 220, 219, 234, 209, 199, 226, 221], 'Middle,?': [124, 144, 152, 172, 195, 200, 210, 215, 212, 226, 215, 230, 214, 220, 224], 'Upper,?': [124, 144, 152, 172, 195, 200, 210, 216, 212, 226, 217, 205, 206, 231, 215], 'Lower,-': [124, 147, 149, 159, 149, 125, 125, 120, 118, 91, 90, 92, 59, 55, 61], 'Middle,-': [124, 133, 137, 155, 181, 173, 166, 152, 150, 119, 121, 125, 116, 100, 110], 'Upper,-': [124, 131, 170, 175, 200, 170, 169, 161, 152, 122, 101, 119, 115, 111, 133]})\n"
     ]
    }
   ],
   "source": [
    "#Condition Count\n",
    "from collections import defaultdict\n",
    "cc = defaultdict(list)\n",
    "\n",
    "for d in (Iris_0, Iris_5, Iris_10, Iris_15, Iris_20, Iris_25, Iris_30, Iris_35, Iris_40, Iris_45, Iris_50, Iris_55, Iris_60, Iris_65, Iris_70): \n",
    "    for key, value in d.items():\n",
    "        cc[key].append(value[1])\n",
    "\n",
    "print(cc)"
   ]
  },
  {
   "cell_type": "code",
   "execution_count": 36,
   "metadata": {},
   "outputs": [],
   "source": [
    "df = pd.DataFrame.from_dict(dd)\n",
    "df2 = pd.DataFrame.from_dict(cc)"
   ]
  },
  {
   "cell_type": "markdown",
   "metadata": {},
   "source": [
    "### Plotting Begins !!"
   ]
  },
  {
   "cell_type": "code",
   "execution_count": 37,
   "metadata": {},
   "outputs": [
    {
     "data": {
      "text/plain": [
       "array([ 0,  5, 10, 15, 20, 25, 30, 35, 40, 45, 50, 55, 60, 65, 70])"
      ]
     },
     "execution_count": 37,
     "metadata": {},
     "output_type": "execute_result"
    }
   ],
   "source": [
    "x = np.arange(0, 75, 5)\n",
    "x"
   ]
  },
  {
   "cell_type": "code",
   "execution_count": 38,
   "metadata": {},
   "outputs": [],
   "source": [
    "df['x'] = x\n",
    "df2['x'] = x"
   ]
  },
  {
   "cell_type": "markdown",
   "metadata": {},
   "source": [
    "### Rule Count !!"
   ]
  },
  {
   "cell_type": "code",
   "execution_count": 39,
   "metadata": {},
   "outputs": [
    {
     "data": {
      "image/png": "[encoded data removed]",
      "text/plain": [
       "<Figure size 720x360 with 1 Axes>"
      ]
     },
     "metadata": {
      "needs_background": "light"
     },
     "output_type": "display_data"
    }
   ],
   "source": [
    "from scipy.interpolate import splrep, splev\n",
    "ax = plt.gca()\n",
    "ax.grid(True)\n",
    "plt.gcf().set_size_inches(10, 5)\n",
    "\n",
    "tck1 = splrep(df['x'], df['Lower,?'])\n",
    "xnew1 = np.linspace(0, 70)\n",
    "ynew1 = splev(xnew1, tck1)\n",
    "plt.plot(xnew1, ynew1)\n",
    "\n",
    "tck2 = splrep(df['x'], df['Middle,?'])\n",
    "xnew2 = np.linspace(0, 70)\n",
    "ynew2 = splev(xnew2, tck2)\n",
    "plt.plot(xnew2, ynew2)\n",
    "\n",
    "tck3 = splrep(df['x'], df['Upper,?'])\n",
    "xnew3 = np.linspace(0, 70)\n",
    "ynew3 = splev(xnew3, tck3)\n",
    "plt.plot(xnew3, ynew3)\n",
    "\n",
    "tck4 = splrep(df['x'], df['Lower,-'])\n",
    "xnew4 = np.linspace(0, 70)\n",
    "ynew4 = splev(xnew4, tck4)\n",
    "plt.plot(xnew4, ynew4)\n",
    "\n",
    "tck5 = splrep(df['x'], df['Middle,-'])\n",
    "xnew5 = np.linspace(0, 70)\n",
    "ynew5 = splev(xnew5, tck5)\n",
    "plt.plot(xnew5, ynew5)\n",
    "\n",
    "tck6 = splrep(df['x'], df['Upper,-'])\n",
    "xnew6 = np.linspace(0, 70)\n",
    "ynew6 = splev(xnew6, tck6)\n",
    "plt.plot(xnew6, ynew6)\n",
    "\n",
    "plt.title(\"Image Segmentation\", fontsize=15)\n",
    "plt.xlabel('Missing Attributes (%)', fontsize=15)\n",
    "plt.ylabel('Rule Count', fontsize=15)\n",
    "plt.plot(df['x'], df['Lower,?'], 'o', color='blue', markerfacecolor='blue')\n",
    "plt.plot(df['x'], df['Middle,?'], 's', color='red', markerfacecolor='red')\n",
    "plt.plot(df['x'], df['Upper,?'], '^', color='green', markerfacecolor='green')\n",
    "plt.plot(df['x'], df['Lower,-'], 'x', color='magenta', markerfacecolor='magenta')\n",
    "plt.plot(df['x'], df['Middle,-'], 'D', color='aqua', markerfacecolor='aqua')\n",
    "plt.plot(df['x'], df['Upper,-'], 'P', color='orange', markerfacecolor='orange')\n",
    "plt.legend()\n",
    "plt.savefig('../Results/Image-RuleCount.png')"
   ]
  },
  {
   "cell_type": "markdown",
   "metadata": {},
   "source": [
    "### No. of Conditions !!"
   ]
  },
  {
   "cell_type": "code",
   "execution_count": 40,
   "metadata": {},
   "outputs": [
    {
     "data": {
      "image/png": "[encoded data removed]",
      "text/plain": [
       "<Figure size 720x360 with 1 Axes>"
      ]
     },
     "metadata": {
      "needs_background": "light"
     },
     "output_type": "display_data"
    }
   ],
   "source": [
    "from scipy.interpolate import splrep, splev\n",
    "ax = plt.gca()\n",
    "ax.grid(True)\n",
    "plt.gcf().set_size_inches(10, 5)\n",
    "\n",
    "tck1 = splrep(df2['x'], df2['Lower,?'])\n",
    "xnew1 = np.linspace(0, 70)\n",
    "ynew1 = splev(xnew1, tck1)\n",
    "plt.plot(xnew1, ynew1)\n",
    "\n",
    "tck2 = splrep(df2['x'], df2['Middle,?'])\n",
    "xnew2 = np.linspace(0, 70)\n",
    "ynew2 = splev(xnew2, tck2)\n",
    "plt.plot(xnew2, ynew2)\n",
    "\n",
    "tck3 = splrep(df2['x'], df2['Upper,?'])\n",
    "xnew3 = np.linspace(0, 70)\n",
    "ynew3 = splev(xnew3, tck3)\n",
    "plt.plot(xnew3, ynew3)\n",
    "\n",
    "tck4 = splrep(df2['x'], df2['Lower,-'])\n",
    "xnew4 = np.linspace(0, 70)\n",
    "ynew4 = splev(xnew4, tck4)\n",
    "plt.plot(xnew4, ynew4)\n",
    "\n",
    "tck5 = splrep(df2['x'], df2['Middle,-'])\n",
    "xnew5 = np.linspace(0, 70)\n",
    "ynew5 = splev(xnew5, tck5)\n",
    "plt.plot(xnew5, ynew5)\n",
    "\n",
    "tck6 = splrep(df2['x'], df2['Upper,-'])\n",
    "xnew6 = np.linspace(0, 70)\n",
    "ynew6 = splev(xnew6, tck6)\n",
    "plt.plot(xnew6, ynew6)\n",
    "\n",
    "plt.title(\"Image Segmentation\", fontsize=15)\n",
    "plt.xlabel('Missing Attributes (%)', fontsize=15)\n",
    "plt.ylabel('Condition Count', fontsize=15)\n",
    "plt.plot(df2['x'], df2['Lower,?'], 'o', color='blue', markerfacecolor='blue')\n",
    "plt.plot(df2['x'], df2['Middle,?'], 's', color='red', markerfacecolor='red')\n",
    "plt.plot(df2['x'], df2['Upper,?'], '^', color='green', markerfacecolor='green')\n",
    "plt.plot(df2['x'], df2['Lower,-'], 'x', color='magenta', markerfacecolor='magenta')\n",
    "plt.plot(df2['x'], df2['Middle,-'], 'D', color='aqua', markerfacecolor='aqua')\n",
    "plt.plot(df2['x'], df2['Upper,-'], 'P', color='orange', markerfacecolor='orange')\n",
    "plt.legend()\n",
    "plt.savefig('../Results/Image-ConditionCount.png')"
   ]
  }
 ],
 "metadata": {
  "kernelspec": {
   "display_name": "Python 3",
   "language": "python",
   "name": "python3"
  },
  "language_info": {
   "codemirror_mode": {
    "name": "ipython",
    "version": 3
   },
   "file_extension": ".py",
   "mimetype": "text/x-python",
   "name": "python",
   "nbconvert_exporter": "python",
   "pygments_lexer": "ipython3",
   "version": "3.6.6"
  }
 },
 "nbformat": 4,
 "nbformat_minor": 2
}
