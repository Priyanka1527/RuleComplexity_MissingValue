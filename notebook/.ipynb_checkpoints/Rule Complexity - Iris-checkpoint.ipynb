{
 "cells": [
  {
   "cell_type": "code",
   "execution_count": 1,
   "metadata": {},
   "outputs": [],
   "source": [
    "import pandas\n",
    "import itertools\n",
    "import re"
   ]
  },
  {
   "cell_type": "markdown",
   "metadata": {},
   "source": [
    "#### Iris_5 !!"
   ]
  },
  {
   "cell_type": "code",
   "execution_count": 2,
   "metadata": {},
   "outputs": [],
   "source": [
    "f1 = open('../data/Iris/Rules/Iris_5_lost_lower.txt', \"r\")\n",
    "f2 = open('../data/Iris/Rules/Iris_5_lost_middle.txt', \"r\")\n",
    "f3 = open('../data/Iris/Rules/Iris_5_lost_upper.txt', \"r\")\n",
    "f4 = open('../data/Iris/Rules/Iris_5_attcon_lower.txt', \"r\")\n",
    "f5 = open('../data/Iris/Rules/Iris_5_attcon_middle.txt', \"r\")\n",
    "f6 = open('../data/Iris/Rules/Iris_5_attcon_upper.txt', \"r\")\n",
    "\n",
    "data = {}\n",
    "data[\"Lower,\" + \"?\"] = list(f1)\n",
    "data[\"Middle,\" + \"?\"] = list(f2)\n",
    "data[\"Upper,\" + \"?\"] = list(f3)\n",
    "data[\"Lower,\" + \"-\"] = list(f4)\n",
    "data[\"Middle,\" + \"-\"] = list(f5)\n",
    "data[\"Upper,\" + \"-\"] = list(f6)"
   ]
  },
  {
   "cell_type": "code",
   "execution_count": 3,
   "metadata": {},
   "outputs": [],
   "source": [
    "def findRuleComplexity(lines):\n",
    "    rule_count = 0\n",
    "    condition_count = 0\n",
    "    for item in lines:\n",
    "        item = item[1:len(item)-2]\n",
    "        item = item.replace(\", \",\"\\n\")\n",
    "        item = item.split(\"\\n\")\n",
    "\n",
    "        rule_count += len(item)\n",
    "        for rule in item:\n",
    "            left,right = rule.split(\"->\")\n",
    "            conditions = left.split(\"&\")\n",
    "            length = len(conditions)\n",
    "            condition_count += length\n",
    "    return rule_count,condition_count"
   ]
  },
  {
   "cell_type": "code",
   "execution_count": 4,
   "metadata": {},
   "outputs": [],
   "source": [
    "Iris_5 = {}\n",
    "for key, value in data.items():\n",
    "    rule,condition = findRuleComplexity(value)\n",
    "    Iris_5[key] = [rule]\n",
    "    Iris_5[key].append(condition)"
   ]
  },
  {
   "cell_type": "markdown",
   "metadata": {},
   "source": [
    "#### Iris_10 !!"
   ]
  },
  {
   "cell_type": "code",
   "execution_count": 5,
   "metadata": {},
   "outputs": [],
   "source": [
    "f1 = open('../data/Iris/Rules/Iris_10_lost_lower.txt', \"r\")\n",
    "f2 = open('../data/Iris/Rules/Iris_10_lost_middle.txt', \"r\")\n",
    "f3 = open('../data/Iris/Rules/Iris_10_lost_upper.txt', \"r\")\n",
    "f4 = open('../data/Iris/Rules/Iris_10_attcon_lower.txt', \"r\")\n",
    "f5 = open('../data/Iris/Rules/Iris_10_attcon_middle.txt', \"r\")\n",
    "f6 = open('../data/Iris/Rules/Iris_10_attcon_upper.txt', \"r\")"
   ]
  },
  {
   "cell_type": "code",
   "execution_count": 6,
   "metadata": {},
   "outputs": [],
   "source": [
    "data = {}\n",
    "data[\"Lower,\" + \"?\"] = list(f1)\n",
    "data[\"Middle,\" + \"?\"] = list(f2)\n",
    "data[\"Upper,\" + \"?\"] = list(f3)\n",
    "data[\"Lower,\" + \"-\"] = list(f4)\n",
    "data[\"Middle,\" + \"-\"] = list(f5)\n",
    "data[\"Upper,\" + \"-\"] = list(f6)"
   ]
  },
  {
   "cell_type": "code",
   "execution_count": 7,
   "metadata": {},
   "outputs": [],
   "source": [
    "Iris_10 = {}\n",
    "for key, value in data.items():\n",
    "    rule,condition = findRuleComplexity(value)\n",
    "    Iris_10[key] = [rule]\n",
    "    Iris_10[key].append(condition)"
   ]
  },
  {
   "cell_type": "markdown",
   "metadata": {},
   "source": [
    "#### Iris_15 !!"
   ]
  },
  {
   "cell_type": "code",
   "execution_count": 8,
   "metadata": {},
   "outputs": [],
   "source": [
    "f1 = open('../data/Iris/Rules/Iris_15_lost_lower.txt', \"r\")\n",
    "f2 = open('../data/Iris/Rules/Iris_15_lost_middle.txt', \"r\")\n",
    "f3 = open('../data/Iris/Rules/Iris_15_lost_upper.txt', \"r\")\n",
    "f4 = open('../data/Iris/Rules/Iris_15_attcon_lower.txt', \"r\")\n",
    "f5 = open('../data/Iris/Rules/Iris_15_attcon_middle.txt', \"r\")\n",
    "f6 = open('../data/Iris/Rules/Iris_15_attcon_upper.txt', \"r\")\n",
    "\n",
    "data = {}\n",
    "data[\"Lower,\" + \"?\"] = list(f1)\n",
    "data[\"Middle,\" + \"?\"] = list(f2)\n",
    "data[\"Upper,\" + \"?\"] = list(f3)\n",
    "data[\"Lower,\" + \"-\"] = list(f4)\n",
    "data[\"Middle,\" + \"-\"] = list(f5)\n",
    "data[\"Upper,\" + \"-\"] = list(f6)"
   ]
  },
  {
   "cell_type": "code",
   "execution_count": 9,
   "metadata": {},
   "outputs": [],
   "source": [
    "Iris_15 = {}\n",
    "for key, value in data.items():\n",
    "    rule,condition = findRuleComplexity(value)\n",
    "    Iris_15[key] = [rule]\n",
    "    Iris_15[key].append(condition)"
   ]
  },
  {
   "cell_type": "markdown",
   "metadata": {},
   "source": [
    "#### Iris_20 !!"
   ]
  },
  {
   "cell_type": "code",
   "execution_count": 10,
   "metadata": {},
   "outputs": [],
   "source": [
    "f1 = open('../data/Iris/Rules/Iris_20_lost_lower.txt', \"r\")\n",
    "f2 = open('../data/Iris/Rules/Iris_20_lost_middle.txt', \"r\")\n",
    "f3 = open('../data/Iris/Rules/Iris_20_lost_upper.txt', \"r\")\n",
    "f4 = open('../data/Iris/Rules/Iris_20_attcon_lower.txt', \"r\")\n",
    "f5 = open('../data/Iris/Rules/Iris_20_attcon_middle.txt', \"r\")\n",
    "f6 = open('../data/Iris/Rules/Iris_20_attcon_upper.txt', \"r\")\n",
    "\n",
    "data = {}\n",
    "data[\"Lower,\" + \"?\"] = list(f1)\n",
    "data[\"Middle,\" + \"?\"] = list(f2)\n",
    "data[\"Upper,\" + \"?\"] = list(f3)\n",
    "data[\"Lower,\" + \"-\"] = list(f4)\n",
    "data[\"Middle,\" + \"-\"] = list(f5)\n",
    "data[\"Upper,\" + \"-\"] = list(f6)"
   ]
  },
  {
   "cell_type": "code",
   "execution_count": 11,
   "metadata": {},
   "outputs": [],
   "source": [
    "Iris_20 = {}\n",
    "for key, value in data.items():\n",
    "    rule,condition = findRuleComplexity(value)\n",
    "    Iris_20[key] = [rule]\n",
    "    Iris_20[key].append(condition)"
   ]
  },
  {
   "cell_type": "markdown",
   "metadata": {},
   "source": [
    "#### Iris_25 !!"
   ]
  },
  {
   "cell_type": "code",
   "execution_count": 12,
   "metadata": {},
   "outputs": [],
   "source": [
    "f1 = open('../data/Iris/Rules/Iris_25_lost_lower.txt', \"r\")\n",
    "f2 = open('../data/Iris/Rules/Iris_25_lost_middle.txt', \"r\")\n",
    "f3 = open('../data/Iris/Rules/Iris_25_lost_upper.txt', \"r\")\n",
    "f4 = open('../data/Iris/Rules/Iris_25_attcon_lower.txt', \"r\")\n",
    "f5 = open('../data/Iris/Rules/Iris_25_attcon_middle.txt', \"r\")\n",
    "f6 = open('../data/Iris/Rules/Iris_25_attcon_upper.txt', \"r\")\n",
    "\n",
    "data = {}\n",
    "data[\"Lower,\" + \"?\"] = list(f1)\n",
    "data[\"Middle,\" + \"?\"] = list(f2)\n",
    "data[\"Upper,\" + \"?\"] = list(f3)\n",
    "data[\"Lower,\" + \"-\"] = list(f4)\n",
    "data[\"Middle,\" + \"-\"] = list(f5)\n",
    "data[\"Upper,\" + \"-\"] = list(f6)"
   ]
  },
  {
   "cell_type": "code",
   "execution_count": 13,
   "metadata": {},
   "outputs": [],
   "source": [
    "Iris_25 = {}\n",
    "for key, value in data.items():\n",
    "    rule,condition = findRuleComplexity(value)\n",
    "    Iris_25[key] = [rule]\n",
    "    Iris_25[key].append(condition)"
   ]
  },
  {
   "cell_type": "markdown",
   "metadata": {},
   "source": [
    "#### Iris_30 !!"
   ]
  },
  {
   "cell_type": "code",
   "execution_count": 14,
   "metadata": {},
   "outputs": [],
   "source": [
    "f1 = open('../data/Iris/Rules/Iris_30_lost_lower.txt', \"r\")\n",
    "f2 = open('../data/Iris/Rules/Iris_30_lost_middle.txt', \"r\")\n",
    "f3 = open('../data/Iris/Rules/Iris_30_lost_upper.txt', \"r\")\n",
    "f4 = open('../data/Iris/Rules/Iris_30_attcon_lower.txt', \"r\")\n",
    "f5 = open('../data/Iris/Rules/Iris_30_attcon_middle.txt', \"r\")\n",
    "f6 = open('../data/Iris/Rules/Iris_30_attcon_upper.txt', \"r\")\n",
    "\n",
    "data = {}\n",
    "data[\"Lower,\" + \"?\"] = list(f1)\n",
    "data[\"Middle,\" + \"?\"] = list(f2)\n",
    "data[\"Upper,\" + \"?\"] = list(f3)\n",
    "data[\"Lower,\" + \"-\"] = list(f4)\n",
    "data[\"Middle,\" + \"-\"] = list(f5)\n",
    "data[\"Upper,\" + \"-\"] = list(f6)"
   ]
  },
  {
   "cell_type": "code",
   "execution_count": 15,
   "metadata": {},
   "outputs": [],
   "source": [
    "Iris_30 = {}\n",
    "for key, value in data.items():\n",
    "    rule,condition = findRuleComplexity(value)\n",
    "    Iris_30[key] = [rule]\n",
    "    Iris_30[key].append(condition)"
   ]
  },
  {
   "cell_type": "markdown",
   "metadata": {},
   "source": [
    "### Print the Results !!"
   ]
  },
  {
   "cell_type": "code",
   "execution_count": 16,
   "metadata": {},
   "outputs": [
    {
     "data": {
      "text/plain": [
       "{'Lower,?': [6, 12],\n",
       " 'Middle,?': [6, 12],\n",
       " 'Upper,?': [6, 12],\n",
       " 'Lower,-': [3, 10],\n",
       " 'Middle,-': [3, 12],\n",
       " 'Upper,-': [3, 11]}"
      ]
     },
     "execution_count": 16,
     "metadata": {},
     "output_type": "execute_result"
    }
   ],
   "source": [
    "Iris_5"
   ]
  },
  {
   "cell_type": "code",
   "execution_count": 17,
   "metadata": {},
   "outputs": [
    {
     "data": {
      "text/plain": [
       "{'Lower,?': [6, 12],\n",
       " 'Middle,?': [6, 12],\n",
       " 'Upper,?': [6, 12],\n",
       " 'Lower,-': [3, 8],\n",
       " 'Middle,-': [3, 8],\n",
       " 'Upper,-': [3, 8]}"
      ]
     },
     "execution_count": 17,
     "metadata": {},
     "output_type": "execute_result"
    }
   ],
   "source": [
    "Iris_10"
   ]
  },
  {
   "cell_type": "code",
   "execution_count": 18,
   "metadata": {},
   "outputs": [
    {
     "data": {
      "text/plain": [
       "{'Lower,?': [6, 11],\n",
       " 'Middle,?': [6, 11],\n",
       " 'Upper,?': [6, 11],\n",
       " 'Lower,-': [3, 8],\n",
       " 'Middle,-': [3, 9],\n",
       " 'Upper,-': [3, 8]}"
      ]
     },
     "execution_count": 18,
     "metadata": {},
     "output_type": "execute_result"
    }
   ],
   "source": [
    "Iris_15"
   ]
  },
  {
   "cell_type": "code",
   "execution_count": 19,
   "metadata": {},
   "outputs": [
    {
     "data": {
      "text/plain": [
       "{'Lower,?': [7, 12],\n",
       " 'Middle,?': [7, 12],\n",
       " 'Upper,?': [7, 12],\n",
       " 'Lower,-': [3, 10],\n",
       " 'Middle,-': [3, 9],\n",
       " 'Upper,-': [3, 9]}"
      ]
     },
     "execution_count": 19,
     "metadata": {},
     "output_type": "execute_result"
    }
   ],
   "source": [
    "Iris_20"
   ]
  },
  {
   "cell_type": "code",
   "execution_count": 20,
   "metadata": {},
   "outputs": [
    {
     "data": {
      "text/plain": [
       "{'Lower,?': [6, 13],\n",
       " 'Middle,?': [6, 14],\n",
       " 'Upper,?': [6, 15],\n",
       " 'Lower,-': [3, 14],\n",
       " 'Middle,-': [3, 14],\n",
       " 'Upper,-': [3, 14]}"
      ]
     },
     "execution_count": 20,
     "metadata": {},
     "output_type": "execute_result"
    }
   ],
   "source": [
    "Iris_25"
   ]
  },
  {
   "cell_type": "code",
   "execution_count": 21,
   "metadata": {},
   "outputs": [
    {
     "data": {
      "text/plain": [
       "{'Lower,?': [6, 11],\n",
       " 'Middle,?': [6, 11],\n",
       " 'Upper,?': [6, 11],\n",
       " 'Lower,-': [3, 15],\n",
       " 'Middle,-': [4, 20],\n",
       " 'Upper,-': [4, 20]}"
      ]
     },
     "execution_count": 21,
     "metadata": {},
     "output_type": "execute_result"
    }
   ],
   "source": [
    "Iris_30"
   ]
  },
  {
   "cell_type": "code",
   "execution_count": null,
   "metadata": {},
   "outputs": [],
   "source": []
  }
 ],
 "metadata": {
  "kernelspec": {
   "display_name": "Python 3",
   "language": "python",
   "name": "python3"
  },
  "language_info": {
   "codemirror_mode": {
    "name": "ipython",
    "version": 3
   },
   "file_extension": ".py",
   "mimetype": "text/x-python",
   "name": "python",
   "nbconvert_exporter": "python",
   "pygments_lexer": "ipython3",
   "version": "3.6.6"
  }
 },
 "nbformat": 4,
 "nbformat_minor": 2
}
