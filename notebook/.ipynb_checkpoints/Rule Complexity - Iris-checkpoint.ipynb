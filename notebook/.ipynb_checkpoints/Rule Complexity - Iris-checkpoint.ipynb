{
 "cells": [
  {
   "cell_type": "code",
   "execution_count": 1,
   "metadata": {},
   "outputs": [],
   "source": [
    "import pandas\n",
    "import itertools\n",
    "import re\n",
    "import matplotlib.pyplot as plt\n",
    "import numpy as np\n",
    "import pandas as pd\n",
    "from scipy import interpolate\n",
    "from scipy.interpolate import interp1d"
   ]
  },
  {
   "cell_type": "code",
   "execution_count": 2,
   "metadata": {},
   "outputs": [],
   "source": [
    "def findRuleComplexity(lines):\n",
    "    rule_count = 0\n",
    "    condition_count = 0\n",
    "    for item in lines:\n",
    "        item = item[1:len(item)-2]\n",
    "        item = item.replace(\", \",\"\\n\")\n",
    "        item = item.split(\"\\n\")\n",
    "\n",
    "        rule_count += len(item)\n",
    "        for rule in item:\n",
    "            left,right = rule.split(\"->\")\n",
    "            conditions = left.split(\"&\")\n",
    "            length = len(conditions)\n",
    "            condition_count += length\n",
    "    return rule_count,condition_count"
   ]
  },
  {
   "cell_type": "markdown",
   "metadata": {},
   "source": [
    "#### Iris_0 !!"
   ]
  },
  {
   "cell_type": "code",
   "execution_count": 3,
   "metadata": {},
   "outputs": [],
   "source": [
    "f1 = open('../data/Iris/Rules/Iris_main.txt', \"r\")\n",
    "\n",
    "\n",
    "data = {}\n",
    "data[\"Lower,\" + \"?\"] = list(f1)\n",
    "data[\"Middle,\" + \"?\"] = data[\"Lower,\" + \"?\"]\n",
    "data[\"Upper,\" + \"?\"] = data[\"Lower,\" + \"?\"]\n",
    "data[\"Lower,\" + \"-\"] = data[\"Lower,\" + \"?\"]\n",
    "data[\"Middle,\" + \"-\"] = data[\"Lower,\" + \"?\"]\n",
    "data[\"Upper,\" + \"-\"] = data[\"Lower,\" + \"?\"]"
   ]
  },
  {
   "cell_type": "code",
   "execution_count": 4,
   "metadata": {},
   "outputs": [
    {
     "data": {
      "text/plain": [
       "{'Lower,?': [\"['(petal_length,1.0..2.45) -> (class,Iris-setosa)']\\n\",\n",
       "  \"['(sepal_length,4.95..7.9) & (petal_length,3.15..6.9) & (petal_width,0.1..1.75) & (petal_length,1.0..4.95) -> (class,Iris-versicolor)', '(petal_width,1.55..1.75) & (sepal_length,5.15..7.9) & (petal_length,1.0..5.15) -> (class,Iris-versicolor)']\\n\",\n",
       "  \"['(petal_length,4.85..6.9) & (petal_width,1.75..2.5) -> (class,Iris-viginica)', '(petal_length,5.05..6.9) & (sepal_length,6.05..7.9) -> (class,Iris-viginica)', '(sepal_width,2.0..2.55) & (petal_length,4.05..6.9) & (sepal_length,4.3..6.05) -> (class,Iris-viginica)']\\n\"],\n",
       " 'Middle,?': [\"['(petal_length,1.0..2.45) -> (class,Iris-setosa)']\\n\",\n",
       "  \"['(sepal_length,4.95..7.9) & (petal_length,3.15..6.9) & (petal_width,0.1..1.75) & (petal_length,1.0..4.95) -> (class,Iris-versicolor)', '(petal_width,1.55..1.75) & (sepal_length,5.15..7.9) & (petal_length,1.0..5.15) -> (class,Iris-versicolor)']\\n\",\n",
       "  \"['(petal_length,4.85..6.9) & (petal_width,1.75..2.5) -> (class,Iris-viginica)', '(petal_length,5.05..6.9) & (sepal_length,6.05..7.9) -> (class,Iris-viginica)', '(sepal_width,2.0..2.55) & (petal_length,4.05..6.9) & (sepal_length,4.3..6.05) -> (class,Iris-viginica)']\\n\"],\n",
       " 'Upper,?': [\"['(petal_length,1.0..2.45) -> (class,Iris-setosa)']\\n\",\n",
       "  \"['(sepal_length,4.95..7.9) & (petal_length,3.15..6.9) & (petal_width,0.1..1.75) & (petal_length,1.0..4.95) -> (class,Iris-versicolor)', '(petal_width,1.55..1.75) & (sepal_length,5.15..7.9) & (petal_length,1.0..5.15) -> (class,Iris-versicolor)']\\n\",\n",
       "  \"['(petal_length,4.85..6.9) & (petal_width,1.75..2.5) -> (class,Iris-viginica)', '(petal_length,5.05..6.9) & (sepal_length,6.05..7.9) -> (class,Iris-viginica)', '(sepal_width,2.0..2.55) & (petal_length,4.05..6.9) & (sepal_length,4.3..6.05) -> (class,Iris-viginica)']\\n\"],\n",
       " 'Lower,-': [\"['(petal_length,1.0..2.45) -> (class,Iris-setosa)']\\n\",\n",
       "  \"['(sepal_length,4.95..7.9) & (petal_length,3.15..6.9) & (petal_width,0.1..1.75) & (petal_length,1.0..4.95) -> (class,Iris-versicolor)', '(petal_width,1.55..1.75) & (sepal_length,5.15..7.9) & (petal_length,1.0..5.15) -> (class,Iris-versicolor)']\\n\",\n",
       "  \"['(petal_length,4.85..6.9) & (petal_width,1.75..2.5) -> (class,Iris-viginica)', '(petal_length,5.05..6.9) & (sepal_length,6.05..7.9) -> (class,Iris-viginica)', '(sepal_width,2.0..2.55) & (petal_length,4.05..6.9) & (sepal_length,4.3..6.05) -> (class,Iris-viginica)']\\n\"],\n",
       " 'Middle,-': [\"['(petal_length,1.0..2.45) -> (class,Iris-setosa)']\\n\",\n",
       "  \"['(sepal_length,4.95..7.9) & (petal_length,3.15..6.9) & (petal_width,0.1..1.75) & (petal_length,1.0..4.95) -> (class,Iris-versicolor)', '(petal_width,1.55..1.75) & (sepal_length,5.15..7.9) & (petal_length,1.0..5.15) -> (class,Iris-versicolor)']\\n\",\n",
       "  \"['(petal_length,4.85..6.9) & (petal_width,1.75..2.5) -> (class,Iris-viginica)', '(petal_length,5.05..6.9) & (sepal_length,6.05..7.9) -> (class,Iris-viginica)', '(sepal_width,2.0..2.55) & (petal_length,4.05..6.9) & (sepal_length,4.3..6.05) -> (class,Iris-viginica)']\\n\"],\n",
       " 'Upper,-': [\"['(petal_length,1.0..2.45) -> (class,Iris-setosa)']\\n\",\n",
       "  \"['(sepal_length,4.95..7.9) & (petal_length,3.15..6.9) & (petal_width,0.1..1.75) & (petal_length,1.0..4.95) -> (class,Iris-versicolor)', '(petal_width,1.55..1.75) & (sepal_length,5.15..7.9) & (petal_length,1.0..5.15) -> (class,Iris-versicolor)']\\n\",\n",
       "  \"['(petal_length,4.85..6.9) & (petal_width,1.75..2.5) -> (class,Iris-viginica)', '(petal_length,5.05..6.9) & (sepal_length,6.05..7.9) -> (class,Iris-viginica)', '(sepal_width,2.0..2.55) & (petal_length,4.05..6.9) & (sepal_length,4.3..6.05) -> (class,Iris-viginica)']\\n\"]}"
      ]
     },
     "execution_count": 4,
     "metadata": {},
     "output_type": "execute_result"
    }
   ],
   "source": [
    "data"
   ]
  },
  {
   "cell_type": "code",
   "execution_count": 5,
   "metadata": {},
   "outputs": [],
   "source": [
    "Iris_0 = {}\n",
    "for key, value in data.items():\n",
    "    rule,condition = findRuleComplexity(value)\n",
    "    Iris_0[key] = [rule]\n",
    "    Iris_0[key].append(condition)"
   ]
  },
  {
   "cell_type": "markdown",
   "metadata": {},
   "source": [
    "#### Iris_5 !!"
   ]
  },
  {
   "cell_type": "code",
   "execution_count": 6,
   "metadata": {},
   "outputs": [],
   "source": [
    "f1 = open('../data/Iris/Rules/Iris_5_lost_lower.txt', \"r\")\n",
    "f2 = open('../data/Iris/Rules/Iris_5_lost_middle.txt', \"r\")\n",
    "f3 = open('../data/Iris/Rules/Iris_5_lost_upper.txt', \"r\")\n",
    "f4 = open('../data/Iris/Rules/Iris_5_attcon_lower.txt', \"r\")\n",
    "f5 = open('../data/Iris/Rules/Iris_5_attcon_middle.txt', \"r\")\n",
    "f6 = open('../data/Iris/Rules/Iris_5_attcon_upper.txt', \"r\")\n",
    "\n",
    "\n",
    "data = {}\n",
    "data[\"Lower,\" + \"?\"] = list(f1)\n",
    "data[\"Middle,\" + \"?\"] = list(f2)\n",
    "data[\"Upper,\" + \"?\"] = list(f3)\n",
    "data[\"Lower,\" + \"-\"] = list(f4)\n",
    "data[\"Middle,\" + \"-\"] = list(f5)\n",
    "data[\"Upper,\" + \"-\"] = list(f6)"
   ]
  },
  {
   "cell_type": "code",
   "execution_count": 7,
   "metadata": {},
   "outputs": [],
   "source": [
    "Iris_5 = {}\n",
    "for key, value in data.items():\n",
    "    rule,condition = findRuleComplexity(value)\n",
    "    Iris_5[key] = [rule]\n",
    "    Iris_5[key].append(condition)"
   ]
  },
  {
   "cell_type": "markdown",
   "metadata": {},
   "source": [
    "#### Iris_10 !!"
   ]
  },
  {
   "cell_type": "code",
   "execution_count": 8,
   "metadata": {},
   "outputs": [],
   "source": [
    "f1 = open('../data/Iris/Rules/Iris_10_lost_lower.txt', \"r\")\n",
    "f2 = open('../data/Iris/Rules/Iris_10_lost_middle.txt', \"r\")\n",
    "f3 = open('../data/Iris/Rules/Iris_10_lost_upper.txt', \"r\")\n",
    "f4 = open('../data/Iris/Rules/Iris_10_attcon_lower.txt', \"r\")\n",
    "f5 = open('../data/Iris/Rules/Iris_10_attcon_middle.txt', \"r\")\n",
    "f6 = open('../data/Iris/Rules/Iris_10_attcon_upper.txt', \"r\")"
   ]
  },
  {
   "cell_type": "code",
   "execution_count": 9,
   "metadata": {},
   "outputs": [],
   "source": [
    "data = {}\n",
    "data[\"Lower,\" + \"?\"] = list(f1)\n",
    "data[\"Middle,\" + \"?\"] = list(f2)\n",
    "data[\"Upper,\" + \"?\"] = list(f3)\n",
    "data[\"Lower,\" + \"-\"] = list(f4)\n",
    "data[\"Middle,\" + \"-\"] = list(f5)\n",
    "data[\"Upper,\" + \"-\"] = list(f6)"
   ]
  },
  {
   "cell_type": "code",
   "execution_count": 10,
   "metadata": {},
   "outputs": [],
   "source": [
    "Iris_10 = {}\n",
    "for key, value in data.items():\n",
    "    rule,condition = findRuleComplexity(value)\n",
    "    Iris_10[key] = [rule]\n",
    "    Iris_10[key].append(condition)"
   ]
  },
  {
   "cell_type": "markdown",
   "metadata": {},
   "source": [
    "#### Iris_15 !!"
   ]
  },
  {
   "cell_type": "code",
   "execution_count": 11,
   "metadata": {},
   "outputs": [],
   "source": [
    "f1 = open('../data/Iris/Rules/Iris_15_lost_lower.txt', \"r\")\n",
    "f2 = open('../data/Iris/Rules/Iris_15_lost_middle.txt', \"r\")\n",
    "f3 = open('../data/Iris/Rules/Iris_15_lost_upper.txt', \"r\")\n",
    "f4 = open('../data/Iris/Rules/Iris_15_attcon_lower.txt', \"r\")\n",
    "f5 = open('../data/Iris/Rules/Iris_15_attcon_middle.txt', \"r\")\n",
    "f6 = open('../data/Iris/Rules/Iris_15_attcon_upper.txt', \"r\")\n",
    "\n",
    "data = {}\n",
    "data[\"Lower,\" + \"?\"] = list(f1)\n",
    "data[\"Middle,\" + \"?\"] = list(f2)\n",
    "data[\"Upper,\" + \"?\"] = list(f3)\n",
    "data[\"Lower,\" + \"-\"] = list(f4)\n",
    "data[\"Middle,\" + \"-\"] = list(f5)\n",
    "data[\"Upper,\" + \"-\"] = list(f6)"
   ]
  },
  {
   "cell_type": "code",
   "execution_count": 12,
   "metadata": {},
   "outputs": [],
   "source": [
    "Iris_15 = {}\n",
    "for key, value in data.items():\n",
    "    rule,condition = findRuleComplexity(value)\n",
    "    Iris_15[key] = [rule]\n",
    "    Iris_15[key].append(condition)"
   ]
  },
  {
   "cell_type": "markdown",
   "metadata": {},
   "source": [
    "#### Iris_20 !!"
   ]
  },
  {
   "cell_type": "code",
   "execution_count": 13,
   "metadata": {},
   "outputs": [],
   "source": [
    "f1 = open('../data/Iris/Rules/Iris_20_lost_lower.txt', \"r\")\n",
    "f2 = open('../data/Iris/Rules/Iris_20_lost_middle.txt', \"r\")\n",
    "f3 = open('../data/Iris/Rules/Iris_20_lost_upper.txt', \"r\")\n",
    "f4 = open('../data/Iris/Rules/Iris_20_attcon_lower.txt', \"r\")\n",
    "f5 = open('../data/Iris/Rules/Iris_20_attcon_middle.txt', \"r\")\n",
    "f6 = open('../data/Iris/Rules/Iris_20_attcon_upper.txt', \"r\")\n",
    "\n",
    "data = {}\n",
    "data[\"Lower,\" + \"?\"] = list(f1)\n",
    "data[\"Middle,\" + \"?\"] = list(f2)\n",
    "data[\"Upper,\" + \"?\"] = list(f3)\n",
    "data[\"Lower,\" + \"-\"] = list(f4)\n",
    "data[\"Middle,\" + \"-\"] = list(f5)\n",
    "data[\"Upper,\" + \"-\"] = list(f6)"
   ]
  },
  {
   "cell_type": "code",
   "execution_count": 14,
   "metadata": {},
   "outputs": [],
   "source": [
    "Iris_20 = {}\n",
    "for key, value in data.items():\n",
    "    rule,condition = findRuleComplexity(value)\n",
    "    Iris_20[key] = [rule]\n",
    "    Iris_20[key].append(condition)"
   ]
  },
  {
   "cell_type": "markdown",
   "metadata": {},
   "source": [
    "#### Iris_25 !!"
   ]
  },
  {
   "cell_type": "code",
   "execution_count": 15,
   "metadata": {},
   "outputs": [],
   "source": [
    "f1 = open('../data/Iris/Rules/Iris_25_lost_lower.txt', \"r\")\n",
    "f2 = open('../data/Iris/Rules/Iris_25_lost_middle.txt', \"r\")\n",
    "f3 = open('../data/Iris/Rules/Iris_25_lost_upper.txt', \"r\")\n",
    "f4 = open('../data/Iris/Rules/Iris_25_attcon_lower.txt', \"r\")\n",
    "f5 = open('../data/Iris/Rules/Iris_25_attcon_middle.txt', \"r\")\n",
    "f6 = open('../data/Iris/Rules/Iris_25_attcon_upper.txt', \"r\")\n",
    "\n",
    "data = {}\n",
    "data[\"Lower,\" + \"?\"] = list(f1)\n",
    "data[\"Middle,\" + \"?\"] = list(f2)\n",
    "data[\"Upper,\" + \"?\"] = list(f3)\n",
    "data[\"Lower,\" + \"-\"] = list(f4)\n",
    "data[\"Middle,\" + \"-\"] = list(f5)\n",
    "data[\"Upper,\" + \"-\"] = list(f6)"
   ]
  },
  {
   "cell_type": "code",
   "execution_count": 16,
   "metadata": {},
   "outputs": [],
   "source": [
    "Iris_25 = {}\n",
    "for key, value in data.items():\n",
    "    rule,condition = findRuleComplexity(value)\n",
    "    Iris_25[key] = [rule]\n",
    "    Iris_25[key].append(condition)"
   ]
  },
  {
   "cell_type": "markdown",
   "metadata": {},
   "source": [
    "#### Iris_30 !!"
   ]
  },
  {
   "cell_type": "code",
   "execution_count": 17,
   "metadata": {},
   "outputs": [],
   "source": [
    "f1 = open('../data/Iris/Rules/Iris_30_lost_lower.txt', \"r\")\n",
    "f2 = open('../data/Iris/Rules/Iris_30_lost_middle.txt', \"r\")\n",
    "f3 = open('../data/Iris/Rules/Iris_30_lost_upper.txt', \"r\")\n",
    "f4 = open('../data/Iris/Rules/Iris_30_attcon_lower.txt', \"r\")\n",
    "f5 = open('../data/Iris/Rules/Iris_30_attcon_middle.txt', \"r\")\n",
    "f6 = open('../data/Iris/Rules/Iris_30_attcon_upper.txt', \"r\")\n",
    "\n",
    "data = {}\n",
    "data[\"Lower,\" + \"?\"] = list(f1)\n",
    "data[\"Middle,\" + \"?\"] = list(f2)\n",
    "data[\"Upper,\" + \"?\"] = list(f3)\n",
    "data[\"Lower,\" + \"-\"] = list(f4)\n",
    "data[\"Middle,\" + \"-\"] = list(f5)\n",
    "data[\"Upper,\" + \"-\"] = list(f6)"
   ]
  },
  {
   "cell_type": "code",
   "execution_count": 18,
   "metadata": {},
   "outputs": [],
   "source": [
    "Iris_30 = {}\n",
    "for key, value in data.items():\n",
    "    rule,condition = findRuleComplexity(value)\n",
    "    Iris_30[key] = [rule]\n",
    "    Iris_30[key].append(condition)"
   ]
  },
  {
   "cell_type": "markdown",
   "metadata": {},
   "source": [
    "#### Iris_35 !!"
   ]
  },
  {
   "cell_type": "code",
   "execution_count": 19,
   "metadata": {},
   "outputs": [],
   "source": [
    "f1 = open('../data/Iris/Rules/Iris_35_lost_lower.txt', \"r\")\n",
    "f2 = open('../data/Iris/Rules/Iris_35_lost_middle.txt', \"r\")\n",
    "f3 = open('../data/Iris/Rules/Iris_35_lost_upper.txt', \"r\")\n",
    "f4 = open('../data/Iris/Rules/Iris_35_attcon_lower.txt', \"r\")\n",
    "f5 = open('../data/Iris/Rules/Iris_35_attcon_middle.txt', \"r\")\n",
    "f6 = open('../data/Iris/Rules/Iris_35_attcon_upper.txt', \"r\")\n",
    "\n",
    "data = {}\n",
    "data[\"Lower,\" + \"?\"] = list(f1)\n",
    "data[\"Middle,\" + \"?\"] = list(f2)\n",
    "data[\"Upper,\" + \"?\"] = list(f3)\n",
    "data[\"Lower,\" + \"-\"] = list(f4)\n",
    "data[\"Middle,\" + \"-\"] = list(f5)\n",
    "data[\"Upper,\" + \"-\"] = list(f6)"
   ]
  },
  {
   "cell_type": "code",
   "execution_count": 20,
   "metadata": {},
   "outputs": [],
   "source": [
    "Iris_35 = {}\n",
    "for key, value in data.items():\n",
    "    rule,condition = findRuleComplexity(value)\n",
    "    Iris_35[key] = [rule]\n",
    "    Iris_35[key].append(condition)"
   ]
  },
  {
   "cell_type": "markdown",
   "metadata": {},
   "source": [
    "### Print the Results !!"
   ]
  },
  {
   "cell_type": "code",
   "execution_count": 21,
   "metadata": {},
   "outputs": [
    {
     "data": {
      "text/plain": [
       "{'Lower,?': [6, 15],\n",
       " 'Middle,?': [6, 15],\n",
       " 'Upper,?': [6, 15],\n",
       " 'Lower,-': [6, 15],\n",
       " 'Middle,-': [6, 15],\n",
       " 'Upper,-': [6, 15]}"
      ]
     },
     "execution_count": 21,
     "metadata": {},
     "output_type": "execute_result"
    }
   ],
   "source": [
    "Iris_0"
   ]
  },
  {
   "cell_type": "code",
   "execution_count": 22,
   "metadata": {},
   "outputs": [
    {
     "data": {
      "text/plain": [
       "{'Lower,?': [8, 15],\n",
       " 'Middle,?': [8, 17],\n",
       " 'Upper,?': [8, 17],\n",
       " 'Lower,-': [8, 21],\n",
       " 'Middle,-': [7, 21],\n",
       " 'Upper,-': [7, 17]}"
      ]
     },
     "execution_count": 22,
     "metadata": {},
     "output_type": "execute_result"
    }
   ],
   "source": [
    "Iris_5"
   ]
  },
  {
   "cell_type": "code",
   "execution_count": 23,
   "metadata": {},
   "outputs": [
    {
     "data": {
      "text/plain": [
       "{'Lower,?': [9, 21],\n",
       " 'Middle,?': [10, 23],\n",
       " 'Upper,?': [10, 23],\n",
       " 'Lower,-': [8, 21],\n",
       " 'Middle,-': [6, 18],\n",
       " 'Upper,-': [7, 18]}"
      ]
     },
     "execution_count": 23,
     "metadata": {},
     "output_type": "execute_result"
    }
   ],
   "source": [
    "Iris_10"
   ]
  },
  {
   "cell_type": "code",
   "execution_count": 24,
   "metadata": {},
   "outputs": [
    {
     "data": {
      "text/plain": [
       "{'Lower,?': [9, 19],\n",
       " 'Middle,?': [9, 19],\n",
       " 'Upper,?': [9, 19],\n",
       " 'Lower,-': [9, 23],\n",
       " 'Middle,-': [6, 16],\n",
       " 'Upper,-': [7, 20]}"
      ]
     },
     "execution_count": 24,
     "metadata": {},
     "output_type": "execute_result"
    }
   ],
   "source": [
    "Iris_15"
   ]
  },
  {
   "cell_type": "code",
   "execution_count": 25,
   "metadata": {},
   "outputs": [
    {
     "data": {
      "text/plain": [
       "{'Lower,?': [11, 26],\n",
       " 'Middle,?': [12, 29],\n",
       " 'Upper,?': [12, 29],\n",
       " 'Lower,-': [8, 24],\n",
       " 'Middle,-': [7, 23],\n",
       " 'Upper,-': [5, 12]}"
      ]
     },
     "execution_count": 25,
     "metadata": {},
     "output_type": "execute_result"
    }
   ],
   "source": [
    "Iris_20"
   ]
  },
  {
   "cell_type": "code",
   "execution_count": 26,
   "metadata": {},
   "outputs": [
    {
     "data": {
      "text/plain": [
       "{'Lower,?': [11, 21],\n",
       " 'Middle,?': [13, 26],\n",
       " 'Upper,?': [13, 27],\n",
       " 'Lower,-': [8, 22],\n",
       " 'Middle,-': [7, 22],\n",
       " 'Upper,-': [6, 18]}"
      ]
     },
     "execution_count": 26,
     "metadata": {},
     "output_type": "execute_result"
    }
   ],
   "source": [
    "Iris_25"
   ]
  },
  {
   "cell_type": "code",
   "execution_count": 27,
   "metadata": {},
   "outputs": [
    {
     "data": {
      "text/plain": [
       "{'Lower,?': [11, 18],\n",
       " 'Middle,?': [11, 18],\n",
       " 'Upper,?': [11, 17],\n",
       " 'Lower,-': [8, 22],\n",
       " 'Middle,-': [8, 24],\n",
       " 'Upper,-': [6, 15]}"
      ]
     },
     "execution_count": 27,
     "metadata": {},
     "output_type": "execute_result"
    }
   ],
   "source": [
    "Iris_30"
   ]
  },
  {
   "cell_type": "code",
   "execution_count": 28,
   "metadata": {},
   "outputs": [
    {
     "data": {
      "text/plain": [
       "{'Lower,?': [13, 22],\n",
       " 'Middle,?': [13, 19],\n",
       " 'Upper,?': [15, 22],\n",
       " 'Lower,-': [7, 22],\n",
       " 'Middle,-': [6, 18],\n",
       " 'Upper,-': [6, 16]}"
      ]
     },
     "execution_count": 28,
     "metadata": {},
     "output_type": "execute_result"
    }
   ],
   "source": [
    "Iris_35"
   ]
  },
  {
   "cell_type": "code",
   "execution_count": 29,
   "metadata": {},
   "outputs": [
    {
     "name": "stdout",
     "output_type": "stream",
     "text": [
      "defaultdict(<class 'list'>, {'Lower,?': [6, 8, 9, 9, 11, 11, 11, 13], 'Middle,?': [6, 8, 10, 9, 12, 13, 11, 13], 'Upper,?': [6, 8, 10, 9, 12, 13, 11, 15], 'Lower,-': [6, 8, 8, 9, 8, 8, 8, 7], 'Middle,-': [6, 7, 6, 6, 7, 7, 8, 6], 'Upper,-': [6, 7, 7, 7, 5, 6, 6, 6]})\n"
     ]
    }
   ],
   "source": [
    "from collections import defaultdict\n",
    "dd = defaultdict(list)\n",
    "\n",
    "for d in (Iris_0, Iris_5, Iris_10, Iris_15, Iris_20, Iris_25, Iris_30, Iris_35): \n",
    "    for key, value in d.items():\n",
    "        dd[key].append(value[0])\n",
    "\n",
    "print(dd)"
   ]
  },
  {
   "cell_type": "code",
   "execution_count": 30,
   "metadata": {},
   "outputs": [
    {
     "data": {
      "text/plain": [
       "defaultdict(list,\n",
       "            {'Lower,?': [6, 8, 9, 9, 11, 11, 11, 13],\n",
       "             'Middle,?': [6, 8, 10, 9, 12, 13, 11, 13],\n",
       "             'Upper,?': [6, 8, 10, 9, 12, 13, 11, 15],\n",
       "             'Lower,-': [6, 8, 8, 9, 8, 8, 8, 7],\n",
       "             'Middle,-': [6, 7, 6, 6, 7, 7, 8, 6],\n",
       "             'Upper,-': [6, 7, 7, 7, 5, 6, 6, 6]})"
      ]
     },
     "execution_count": 30,
     "metadata": {},
     "output_type": "execute_result"
    }
   ],
   "source": [
    "dd"
   ]
  },
  {
   "cell_type": "code",
   "execution_count": 31,
   "metadata": {},
   "outputs": [],
   "source": [
    "df = pd.DataFrame.from_dict(dd)"
   ]
  },
  {
   "cell_type": "code",
   "execution_count": 32,
   "metadata": {},
   "outputs": [
    {
     "data": {
      "text/html": [
       "<div>\n",
       "<style scoped>\n",
       "    .dataframe tbody tr th:only-of-type {\n",
       "        vertical-align: middle;\n",
       "    }\n",
       "\n",
       "    .dataframe tbody tr th {\n",
       "        vertical-align: top;\n",
       "    }\n",
       "\n",
       "    .dataframe thead th {\n",
       "        text-align: right;\n",
       "    }\n",
       "</style>\n",
       "<table border=\"1\" class=\"dataframe\">\n",
       "  <thead>\n",
       "    <tr style=\"text-align: right;\">\n",
       "      <th></th>\n",
       "      <th>Lower,?</th>\n",
       "      <th>Middle,?</th>\n",
       "      <th>Upper,?</th>\n",
       "      <th>Lower,-</th>\n",
       "      <th>Middle,-</th>\n",
       "      <th>Upper,-</th>\n",
       "    </tr>\n",
       "  </thead>\n",
       "  <tbody>\n",
       "    <tr>\n",
       "      <th>0</th>\n",
       "      <td>6</td>\n",
       "      <td>6</td>\n",
       "      <td>6</td>\n",
       "      <td>6</td>\n",
       "      <td>6</td>\n",
       "      <td>6</td>\n",
       "    </tr>\n",
       "    <tr>\n",
       "      <th>1</th>\n",
       "      <td>8</td>\n",
       "      <td>8</td>\n",
       "      <td>8</td>\n",
       "      <td>8</td>\n",
       "      <td>7</td>\n",
       "      <td>7</td>\n",
       "    </tr>\n",
       "    <tr>\n",
       "      <th>2</th>\n",
       "      <td>9</td>\n",
       "      <td>10</td>\n",
       "      <td>10</td>\n",
       "      <td>8</td>\n",
       "      <td>6</td>\n",
       "      <td>7</td>\n",
       "    </tr>\n",
       "    <tr>\n",
       "      <th>3</th>\n",
       "      <td>9</td>\n",
       "      <td>9</td>\n",
       "      <td>9</td>\n",
       "      <td>9</td>\n",
       "      <td>6</td>\n",
       "      <td>7</td>\n",
       "    </tr>\n",
       "    <tr>\n",
       "      <th>4</th>\n",
       "      <td>11</td>\n",
       "      <td>12</td>\n",
       "      <td>12</td>\n",
       "      <td>8</td>\n",
       "      <td>7</td>\n",
       "      <td>5</td>\n",
       "    </tr>\n",
       "    <tr>\n",
       "      <th>5</th>\n",
       "      <td>11</td>\n",
       "      <td>13</td>\n",
       "      <td>13</td>\n",
       "      <td>8</td>\n",
       "      <td>7</td>\n",
       "      <td>6</td>\n",
       "    </tr>\n",
       "    <tr>\n",
       "      <th>6</th>\n",
       "      <td>11</td>\n",
       "      <td>11</td>\n",
       "      <td>11</td>\n",
       "      <td>8</td>\n",
       "      <td>8</td>\n",
       "      <td>6</td>\n",
       "    </tr>\n",
       "    <tr>\n",
       "      <th>7</th>\n",
       "      <td>13</td>\n",
       "      <td>13</td>\n",
       "      <td>15</td>\n",
       "      <td>7</td>\n",
       "      <td>6</td>\n",
       "      <td>6</td>\n",
       "    </tr>\n",
       "  </tbody>\n",
       "</table>\n",
       "</div>"
      ],
      "text/plain": [
       "   Lower,?  Middle,?  Upper,?  Lower,-  Middle,-  Upper,-\n",
       "0        6         6        6        6         6        6\n",
       "1        8         8        8        8         7        7\n",
       "2        9        10       10        8         6        7\n",
       "3        9         9        9        9         6        7\n",
       "4       11        12       12        8         7        5\n",
       "5       11        13       13        8         7        6\n",
       "6       11        11       11        8         8        6\n",
       "7       13        13       15        7         6        6"
      ]
     },
     "execution_count": 32,
     "metadata": {},
     "output_type": "execute_result"
    }
   ],
   "source": [
    "df"
   ]
  },
  {
   "cell_type": "markdown",
   "metadata": {},
   "source": [
    "### Plotting Begins !!"
   ]
  },
  {
   "cell_type": "code",
   "execution_count": 33,
   "metadata": {},
   "outputs": [
    {
     "data": {
      "text/plain": [
       "array([ 0,  5, 10, 15, 20, 25, 30, 35])"
      ]
     },
     "execution_count": 33,
     "metadata": {},
     "output_type": "execute_result"
    }
   ],
   "source": [
    "x = np.arange(0, 40, 5)\n",
    "x"
   ]
  },
  {
   "cell_type": "code",
   "execution_count": 34,
   "metadata": {},
   "outputs": [],
   "source": [
    "df['x'] = x"
   ]
  },
  {
   "cell_type": "code",
   "execution_count": 35,
   "metadata": {},
   "outputs": [
    {
     "data": {
      "text/html": [
       "<div>\n",
       "<style scoped>\n",
       "    .dataframe tbody tr th:only-of-type {\n",
       "        vertical-align: middle;\n",
       "    }\n",
       "\n",
       "    .dataframe tbody tr th {\n",
       "        vertical-align: top;\n",
       "    }\n",
       "\n",
       "    .dataframe thead th {\n",
       "        text-align: right;\n",
       "    }\n",
       "</style>\n",
       "<table border=\"1\" class=\"dataframe\">\n",
       "  <thead>\n",
       "    <tr style=\"text-align: right;\">\n",
       "      <th></th>\n",
       "      <th>Lower,?</th>\n",
       "      <th>Middle,?</th>\n",
       "      <th>Upper,?</th>\n",
       "      <th>Lower,-</th>\n",
       "      <th>Middle,-</th>\n",
       "      <th>Upper,-</th>\n",
       "      <th>x</th>\n",
       "    </tr>\n",
       "  </thead>\n",
       "  <tbody>\n",
       "    <tr>\n",
       "      <th>0</th>\n",
       "      <td>6</td>\n",
       "      <td>6</td>\n",
       "      <td>6</td>\n",
       "      <td>6</td>\n",
       "      <td>6</td>\n",
       "      <td>6</td>\n",
       "      <td>0</td>\n",
       "    </tr>\n",
       "    <tr>\n",
       "      <th>1</th>\n",
       "      <td>8</td>\n",
       "      <td>8</td>\n",
       "      <td>8</td>\n",
       "      <td>8</td>\n",
       "      <td>7</td>\n",
       "      <td>7</td>\n",
       "      <td>5</td>\n",
       "    </tr>\n",
       "    <tr>\n",
       "      <th>2</th>\n",
       "      <td>9</td>\n",
       "      <td>10</td>\n",
       "      <td>10</td>\n",
       "      <td>8</td>\n",
       "      <td>6</td>\n",
       "      <td>7</td>\n",
       "      <td>10</td>\n",
       "    </tr>\n",
       "    <tr>\n",
       "      <th>3</th>\n",
       "      <td>9</td>\n",
       "      <td>9</td>\n",
       "      <td>9</td>\n",
       "      <td>9</td>\n",
       "      <td>6</td>\n",
       "      <td>7</td>\n",
       "      <td>15</td>\n",
       "    </tr>\n",
       "    <tr>\n",
       "      <th>4</th>\n",
       "      <td>11</td>\n",
       "      <td>12</td>\n",
       "      <td>12</td>\n",
       "      <td>8</td>\n",
       "      <td>7</td>\n",
       "      <td>5</td>\n",
       "      <td>20</td>\n",
       "    </tr>\n",
       "    <tr>\n",
       "      <th>5</th>\n",
       "      <td>11</td>\n",
       "      <td>13</td>\n",
       "      <td>13</td>\n",
       "      <td>8</td>\n",
       "      <td>7</td>\n",
       "      <td>6</td>\n",
       "      <td>25</td>\n",
       "    </tr>\n",
       "    <tr>\n",
       "      <th>6</th>\n",
       "      <td>11</td>\n",
       "      <td>11</td>\n",
       "      <td>11</td>\n",
       "      <td>8</td>\n",
       "      <td>8</td>\n",
       "      <td>6</td>\n",
       "      <td>30</td>\n",
       "    </tr>\n",
       "    <tr>\n",
       "      <th>7</th>\n",
       "      <td>13</td>\n",
       "      <td>13</td>\n",
       "      <td>15</td>\n",
       "      <td>7</td>\n",
       "      <td>6</td>\n",
       "      <td>6</td>\n",
       "      <td>35</td>\n",
       "    </tr>\n",
       "  </tbody>\n",
       "</table>\n",
       "</div>"
      ],
      "text/plain": [
       "   Lower,?  Middle,?  Upper,?  Lower,-  Middle,-  Upper,-   x\n",
       "0        6         6        6        6         6        6   0\n",
       "1        8         8        8        8         7        7   5\n",
       "2        9        10       10        8         6        7  10\n",
       "3        9         9        9        9         6        7  15\n",
       "4       11        12       12        8         7        5  20\n",
       "5       11        13       13        8         7        6  25\n",
       "6       11        11       11        8         8        6  30\n",
       "7       13        13       15        7         6        6  35"
      ]
     },
     "execution_count": 35,
     "metadata": {},
     "output_type": "execute_result"
    }
   ],
   "source": [
    "df"
   ]
  },
  {
   "cell_type": "code",
   "execution_count": 36,
   "metadata": {},
   "outputs": [
    {
     "data": {
      "text/plain": [
       "<matplotlib.legend.Legend at 0xb16833588>"
      ]
     },
     "execution_count": 36,
     "metadata": {},
     "output_type": "execute_result"
    },
    {
     "data": {
      "image/png": "[encoded data removed]",
      "text/plain": [
       "<Figure size 1080x360 with 1 Axes>"
      ]
     },
     "metadata": {
      "needs_background": "light"
     },
     "output_type": "display_data"
    }
   ],
   "source": [
    "from scipy.interpolate import splrep, splev\n",
    "ax = plt.gca()\n",
    "ax.grid(True)\n",
    "plt.gcf().set_size_inches(15, 5)\n",
    "\n",
    "tck1 = splrep(df['x'], df['Lower,?'])\n",
    "xnew1 = np.linspace(0, 35)\n",
    "ynew1 = splev(xnew1, tck1)\n",
    "plt.plot(xnew1, ynew1)\n",
    "\n",
    "tck2 = splrep(df['x'], df['Middle,?'])\n",
    "xnew2 = np.linspace(0, 35)\n",
    "ynew2 = splev(xnew2, tck2)\n",
    "plt.plot(xnew2, ynew2)\n",
    "\n",
    "tck3 = splrep(df['x'], df['Upper,?'])\n",
    "xnew3 = np.linspace(0, 35)\n",
    "ynew3 = splev(xnew3, tck3)\n",
    "plt.plot(xnew3, ynew3)\n",
    "\n",
    "tck4 = splrep(df['x'], df['Lower,-'])\n",
    "xnew4 = np.linspace(0, 35)\n",
    "ynew4 = splev(xnew4, tck4)\n",
    "plt.plot(xnew4, ynew4)\n",
    "\n",
    "tck5 = splrep(df['x'], df['Middle,-'])\n",
    "xnew5 = np.linspace(0, 35)\n",
    "ynew5 = splev(xnew5, tck5)\n",
    "plt.plot(xnew5, ynew5)\n",
    "\n",
    "tck6 = splrep(df['x'], df['Upper,-'])\n",
    "xnew6 = np.linspace(0, 35)\n",
    "ynew6 = splev(xnew6, tck6)\n",
    "plt.plot(xnew6, ynew6)\n",
    "\n",
    "plt.plot(df['x'], df['Lower,?'], 'o', color='blue', markerfacecolor='blue')\n",
    "plt.plot(df['x'], df['Middle,?'], 's', color='red', markerfacecolor='red')\n",
    "plt.plot(df['x'], df['Upper,?'], '^', color='green', markerfacecolor='green')\n",
    "plt.plot(df['x'], df['Lower,-'], 'x', color='magenta', markerfacecolor='magenta')\n",
    "plt.plot(df['x'], df['Middle,-'], 'D', color='aqua', markerfacecolor='aqua')\n",
    "plt.plot(df['x'], df['Upper,-'], 'P', color='orange', markerfacecolor='orange')\n",
    "plt.legend()\n",
    "\n",
    "# multiple line plot\n",
    "# plt.plot( 'x', 'Lower,?', data=df, marker='o', markerfacecolor='blue', markersize=8, color='blue', linewidth=2, )\n",
    "# plt.plot( 'x', 'Middle,?', data=df, marker='s', markerfacecolor='red', markersize=8, color='red', linewidth=2)\n",
    "# plt.plot( 'x', 'Upper,?', data=df, marker='^', markerfacecolor='green', markersize=8, color='green', linewidth=2)\n",
    "# plt.plot( 'x', 'Lower,-', data=df, marker='x', markerfacecolor='magenta', markersize=8, color='magenta', linewidth=2)\n",
    "# plt.plot( 'x', 'Middle,-', data=df, marker='D', markerfacecolor='aqua', markersize=8, color='aqua', linewidth=2)\n",
    "# plt.plot( 'x', 'Upper,-', data=df, marker='P', markerfacecolor='orange', markersize=8, color='orange', linewidth=2)\n",
    "# plt.legend()\n"
   ]
  },
  {
   "cell_type": "code",
   "execution_count": null,
   "metadata": {},
   "outputs": [],
   "source": []
  }
 ],
 "metadata": {
  "kernelspec": {
   "display_name": "Python 3",
   "language": "python",
   "name": "python3"
  },
  "language_info": {
   "codemirror_mode": {
    "name": "ipython",
    "version": 3
   },
   "file_extension": ".py",
   "mimetype": "text/x-python",
   "name": "python",
   "nbconvert_exporter": "python",
   "pygments_lexer": "ipython3",
   "version": "3.6.6"
  }
 },
 "nbformat": 4,
 "nbformat_minor": 2
}
